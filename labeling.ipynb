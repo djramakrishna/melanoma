{
  "cells": [
    {
      "cell_type": "code",
      "execution_count": null,
      "metadata": {
        "colab": {
          "base_uri": "https://localhost:8080/"
        },
        "id": "IM-XnZmGmBBU",
        "outputId": "bbbacf28-0cf4-4802-c964-b67f2a99894e"
      },
      "outputs": [],
      "source": [
        "from google.colab import drive\n",
        "import shutil\n",
        "import os\n",
        "\n",
        "# Mount your drive\n",
        "drive.mount('/content/gdrive')"
      ]
    },
    {
      "cell_type": "code",
      "execution_count": null,
      "metadata": {
        "colab": {
          "base_uri": "https://localhost:8080/"
        },
        "id": "_YYUiHqXmMEc",
        "outputId": "791eb105-6d12-4503-d239-f7f7d1dbbb8b"
      },
      "outputs": [],
      "source": [
        "# Create shortcut for the original folder first in your drive\n",
        "!unzip '/content/gdrive/MyDrive/CS_EE_577/Dataset/DepthMap.zip'"
      ]
    },
    {
      "cell_type": "code",
      "execution_count": null,
      "metadata": {
        "colab": {
          "base_uri": "https://localhost:8080/"
        },
        "id": "fvJQLX5NsCN-",
        "outputId": "a5dadaa8-8713-4b23-ec9b-16930b411374"
      },
      "outputs": [],
      "source": [
        "# Repair corrupt zip file\n",
        "! zip -FF /content/gdrive/MyDrive/CS_EE_577/Dataset/OneDrive_2021-11-11.zip --out /content/gdrive/MyDrive/CS_EE_577/Dataset/CentralView.zip"
      ]
    },
    {
      "cell_type": "code",
      "execution_count": null,
      "metadata": {
        "colab": {
          "base_uri": "https://localhost:8080/"
        },
        "id": "HNjY-WAAAOSb",
        "outputId": "47f0680a-5a1e-4713-e955-1ee742549279"
      },
      "outputs": [],
      "source": [
        "# Unzip the newly created uncorrupted file.\n",
        "! unzip \"/content/gdrive/MyDrive/CS_EE_577/Dataset/CentralView.zip\""
      ]
    },
    {
      "cell_type": "code",
      "execution_count": null,
      "metadata": {
        "id": "oyJozXHwq5S4"
      },
      "outputs": [],
      "source": [
        "def create_labels(type, class_1_path, class_2_path):\n",
        "  '''\n",
        "  type : Indicate whether it's the central view or the depth map we are labeling.\n",
        "  class_1_path : The path where the images are to be stored for the 'Melanoma' class.\n",
        "  class_2_path : The path where the images are to be stored for the 'Non-Melanoma' class.\n",
        "  '''\n",
        "  file_lst = []\n",
        "  path = os.getcwd()+f'/{type}'\n",
        "  # Create the path list for all png files.\n",
        "  for root, dirs, files in os.walk(path):\n",
        "    for file in files:\n",
        "      if '.png' in file:\n",
        "        file_lst.append(os.path.join(root,file))\n",
        "  # Make directories if they do not already exist.\n",
        "  try:\n",
        "    os.makedirs(os.path.dirname(class_1_path))\n",
        "    os.makedirs(os.path.dirname(class_2_path))\n",
        "  except:\n",
        "    pass\n",
        "  # Bifurcate the images\n",
        "  for path in file_lst:\n",
        "    if 'Melanoma' in path:\n",
        "      shutil.copy(path, class_1_path+path.split('/')[-1])\n",
        "    else:\n",
        "      shutil.copy(path, class_2_path+path.split('/')[-1])\n",
        "  print(f'Generated labels for {type}')"
      ]
    },
    {
      "cell_type": "code",
      "execution_count": null,
      "metadata": {
        "id": "2mqTYpE5nTPg"
      },
      "outputs": [],
      "source": [
        "# Define \n",
        "depth_map_path1 = '/content/gdrive/MyDrive/CS_EE_577/Dataset/DepthMap_labeled/Melanoma/'\n",
        "depth_map_path2 = '/content/gdrive/MyDrive/CS_EE_577/Dataset/DepthMap_labeled/Non_Melanoma/'\n",
        "central_view_path1 = '/content/gdrive/MyDrive/CS_EE_577/Dataset/CentralView_labeled/Melanoma/'\n",
        "central_view_path2 = '/content/gdrive/MyDrive/CS_EE_577/Dataset/CentralView_labeled/Non_Melanoma/'"
      ]
    },
    {
      "cell_type": "code",
      "execution_count": null,
      "metadata": {
        "colab": {
          "base_uri": "https://localhost:8080/"
        },
        "id": "HFq9Wmg1niq6",
        "outputId": "242c8017-76af-4e9c-e912-d70e7d9c0dfb"
      },
      "outputs": [],
      "source": [
        "create_labels('DepthMap', depth_map_path1, depth_map_path2)"
      ]
    },
    {
      "cell_type": "code",
      "execution_count": null,
      "metadata": {
        "colab": {
          "base_uri": "https://localhost:8080/"
        },
        "id": "RQhE2o56r4Ss",
        "outputId": "cd5b2af6-42a0-4cc2-dc3a-c43802d6a541"
      },
      "outputs": [],
      "source": [
        "create_labels('CentralView', central_view_path1, central_view_path2)"
      ]
    }
  ],
  "metadata": {
    "colab": {
      "collapsed_sections": [],
      "name": "labeling.ipynb",
      "provenance": []
    },
    "kernelspec": {
      "display_name": "Python 3",
      "name": "python3"
    },
    "language_info": {
      "name": "python"
    }
  },
  "nbformat": 4,
  "nbformat_minor": 0
}
