{
  "nbformat": 4,
  "nbformat_minor": 0,
  "metadata": {
    "colab": {
      "name": "apply_wavelet_transformation.ipynb",
      "provenance": [],
      "collapsed_sections": [],
      "include_colab_link": true
    },
    "kernelspec": {
      "name": "python3",
      "display_name": "Python 3"
    },
    "language_info": {
      "name": "python"
    }
  },
  "cells": [
    {
      "cell_type": "markdown",
      "metadata": {
        "id": "view-in-github",
        "colab_type": "text"
      },
      "source": [
        "<a href=\"https://colab.research.google.com/github/djramakrishna/EE577/blob/main/apply_wavelet_transformation.ipynb\" target=\"_parent\"><img src=\"https://colab.research.google.com/assets/colab-badge.svg\" alt=\"Open In Colab\"/></a>"
      ]
    },
    {
      "cell_type": "code",
      "metadata": {
        "id": "HD5Qi_58dyp0",
        "colab": {
          "base_uri": "https://localhost:8080/"
        },
        "outputId": "3503343c-62b8-4ae8-a847-4807e677cbe3"
      },
      "source": [
        "from google.colab import drive\n",
        "import os\n",
        "import cv2\n",
        "import numpy as np\n",
        "import matplotlib.pyplot as plt\n",
        "import numpy as np\n",
        "import torch\n",
        "from google.colab.patches import cv2_imshow\n",
        "import warnings\n",
        "warnings.filterwarnings(\"ignore\")\n",
        "from skimage import data, segmentation, color\n",
        "from skimage.future import graph\n",
        "from torchvision import transforms\n",
        "! pip install kymatio\n",
        "from kymatio.torch import Scattering2D\n",
        "import pickle"
      ],
      "execution_count": 3,
      "outputs": [
        {
          "output_type": "stream",
          "name": "stdout",
          "text": [
            "Requirement already satisfied: kymatio in /usr/local/lib/python3.7/dist-packages (0.2.1)\n",
            "Requirement already satisfied: numpy in /usr/local/lib/python3.7/dist-packages (from kymatio) (1.19.5)\n",
            "Requirement already satisfied: packaging in /usr/local/lib/python3.7/dist-packages (from kymatio) (21.3)\n",
            "Requirement already satisfied: configparser in /usr/local/lib/python3.7/dist-packages (from kymatio) (5.2.0)\n",
            "Requirement already satisfied: scipy in /usr/local/lib/python3.7/dist-packages (from kymatio) (1.4.1)\n",
            "Requirement already satisfied: appdirs in /usr/local/lib/python3.7/dist-packages (from kymatio) (1.4.4)\n",
            "Requirement already satisfied: pyparsing!=3.0.5,>=2.0.2 in /usr/local/lib/python3.7/dist-packages (from packaging->kymatio) (3.0.6)\n"
          ]
        }
      ]
    },
    {
      "cell_type": "code",
      "metadata": {
        "colab": {
          "base_uri": "https://localhost:8080/"
        },
        "id": "-rFNtUAxd7E2",
        "outputId": "0b6e4c35-0818-4424-c56f-b2c3ef9afa3c"
      },
      "source": [
        "drive.mount('/content/gdrive')"
      ],
      "execution_count": 4,
      "outputs": [
        {
          "output_type": "stream",
          "name": "stdout",
          "text": [
            "Drive already mounted at /content/gdrive; to attempt to forcibly remount, call drive.mount(\"/content/gdrive\", force_remount=True).\n"
          ]
        }
      ]
    },
    {
      "cell_type": "code",
      "metadata": {
        "id": "ktWY2mESd9Q1"
      },
      "source": [
        "def load_data_suffix(path,images_to_load=50,resize=True,resize_dim=(512,512),valid_suffix='Mask'):\n",
        "  '''\n",
        "  The function loads the data based on a single valid suffix in the file name.\n",
        "  \n",
        "  Parameters\n",
        "  ----------\n",
        "  path : The path where the images are located.\n",
        "  images_to_load : Maximum number of images to load.\n",
        "  resize : Whether to resize the image.\n",
        "  resize_dim : Specify dimensions for resizing, used only when resize=True.\n",
        "\n",
        "  Return\n",
        "  ------\n",
        "  Loaded image and filename as a tuple for each entry.\n",
        "  '''\n",
        "  valid_images = [valid_suffix]\n",
        "  img_dict = {}\n",
        "  for f in os.listdir(path):\n",
        "    ext = os.path.splitext(f)[0]\n",
        "    if ext.split('_')[1] not in valid_images:\n",
        "        continue\n",
        "    img = cv2.imread(os.path.join(path,f))\n",
        "    if resize:\n",
        "      img = cv2.resize(img, resize_dim)\n",
        "    img_dict.update({f[:4]:img})\n",
        "  return img_dict\n"
      ],
      "execution_count": 5,
      "outputs": []
    },
    {
      "cell_type": "code",
      "metadata": {
        "id": "hlhbLmTceEpd"
      },
      "source": [
        "# 1. Define the path directory for the images\n",
        "melanoma_img_path = '/content/gdrive/MyDrive/CS_EE_577/Dataset/SegmentedImages_NormalizedCut/Melanoma/'\n",
        "non_melanoma_img_path = '/content/gdrive/MyDrive/CS_EE_577/Dataset/SegmentedImages_NormalizedCut/Non_Melanoma/'"
      ],
      "execution_count": 6,
      "outputs": []
    },
    {
      "cell_type": "code",
      "metadata": {
        "id": "_-tppC8g9tPD"
      },
      "source": [
        "# 2. Read RGB Segmented Images\n",
        "m_segment_dict = load_data_suffix(melanoma_img_path,valid_suffix='SegmentedImage')\n",
        "nm_segment_dict = load_data_suffix(non_melanoma_img_path,valid_suffix='SegmentedImage')"
      ],
      "execution_count": 7,
      "outputs": []
    },
    {
      "cell_type": "code",
      "metadata": {
        "id": "tnViPuI1NO46"
      },
      "source": [
        "# 3. Read Depth Segmented Images\n",
        "m_depth_segment_dict = load_data_suffix(melanoma_img_path,valid_suffix='SegmentedDepthImage')\n",
        "nm_depth_segment_dict = load_data_suffix(non_melanoma_img_path,valid_suffix='SegmentedDepthImage')"
      ],
      "execution_count": 8,
      "outputs": []
    },
    {
      "cell_type": "code",
      "source": [
        "# key = '0121'\n",
        "# img = m_depth_segment_dict[key]\n",
        "# cv2_imshow(cv2.cvtColor(img, cv2.COLOR_RGB2GRAY))\n",
        "#cv2_imshow(m_depth_segment_dict[key])"
      ],
      "metadata": {
        "id": "D-5mgc8u8AzE"
      },
      "execution_count": 9,
      "outputs": []
    },
    {
      "cell_type": "code",
      "metadata": {
        "id": "4z73_DWPOy--"
      },
      "source": [
        "from PIL import Image\n",
        "def generate_tensors(rgb_img, depth_img, size, max_order):\n",
        "  '''\n",
        "  The function generates tensors for each image category like RGB, RGBZ, Z\n",
        "\n",
        "  Parameters\n",
        "  ----------\n",
        "  rgb_img : The RGB image of a sample.\n",
        "  depth_img : The depth image of a sample.\n",
        "  size : The shape to resize the image into.\n",
        "  max_order : The maximum order of the coefficients for the scattering transform\n",
        "\n",
        "  Returns\n",
        "  -------\n",
        "  A dictionary of RGB, Depth, RGBZ Tensors\n",
        "  '''\n",
        "  S = Scattering2D(J=2, L=8,shape=size,max_order=max_order)\n",
        "  rgb_transform = transforms.Compose([transforms.ToPILImage(),\n",
        "                                    transforms.Resize(size=size),\n",
        "                                    transforms.ToTensor(),\n",
        "                                    transforms.Normalize(mean=[0.485, 0.456, 0.406],\n",
        "                                    std=[0.229, 0.224, 0.225])])\n",
        "  \n",
        "  depth_transform = transforms.Compose([transforms.ToPILImage(),\n",
        "                                        transforms.Resize(size=size),\n",
        "                                    transforms.ToTensor(),\n",
        "                                    transforms.Normalize(mean=[6.26],\n",
        "                                    std=[3.03])])\n",
        "  depth_img = cv2.cvtColor(depth_img, cv2.COLOR_RGB2GRAY)\n",
        "  rgb_res = S.scattering(rgb_transform(rgb_img))\n",
        "  depth_transform(depth_img)\n",
        "  depth_res = S.scattering(depth_transform(depth_img))\n",
        "  rgb_depth_res = torch.cat((rgb_res, depth_res), 0)\n",
        "  return {'RGB Tensors':rgb_res, 'Depth Tensors':depth_res, 'RGBZ Tensors':rgb_depth_res}"
      ],
      "execution_count": 12,
      "outputs": []
    },
    {
      "cell_type": "code",
      "metadata": {
        "id": "vzQae3Sg2tXK"
      },
      "source": [
        "lesion_type = ['Melanoma','Non_Melanoma']\n",
        "coeff_order_lst = [1,2]\n",
        "size_lst = [(32,32),(64,64),(128,128)]\n",
        "lesion_dict = {}\n",
        "lesion_dict['Melanoma'] = [m_segment_dict,m_depth_segment_dict]\n",
        "lesion_dict['Non_Melanoma'] = [nm_segment_dict,nm_depth_segment_dict]\n",
        "\n",
        "for lesion in lesion_type:\n",
        "  segment_dict, depth_segment_dict = lesion_dict[lesion]\n",
        "  for coeff in coeff_order_lst:\n",
        "    for size in size_lst:\n",
        "      for name in depth_segment_dict.keys():\n",
        "        output = generate_tensors(segment_dict[name], depth_segment_dict[name], size=(size), max_order=coeff)\n",
        "        tensor_type='RGB'\n",
        "        path_to_store = f'/content/gdrive/MyDrive/CS_EE_577/Dataset/Tensors/Coeff_Order{coeff}/{tensor_type}_{size[0]}_{size[0]}/{lesion}'\n",
        "        path_to_store = path_to_store+f'/{name}_RGBTensor.pickle'\n",
        "        os.makedirs(os.path.dirname(path_to_store), exist_ok=True)\n",
        "        with open(path_to_store, 'wb') as handle:\n",
        "          pickle.dump(output['RGB Tensors'], handle)\n",
        "        \n",
        "        tensor_type='Z'\n",
        "        path_to_store = f'/content/gdrive/MyDrive/CS_EE_577/Dataset/Tensors/Coeff_Order{coeff}/{tensor_type}_{size[0]}_{size[0]}/{lesion}'\n",
        "        path_to_store = path_to_store+f'/{name}_ZTensor.pickle'\n",
        "        os.makedirs(os.path.dirname(path_to_store), exist_ok=True)\n",
        "        with open(path_to_store, 'wb') as handle:\n",
        "          pickle.dump(output['Depth Tensors'], handle) \n",
        "        \n",
        "        tensor_type='RGBZ'\n",
        "        path_to_store = f'/content/gdrive/MyDrive/CS_EE_577/Dataset/Tensors/Coeff_Order{coeff}/{tensor_type}_{size[0]}_{size[0]}/{lesion}'\n",
        "        path_to_store = path_to_store+f'/{name}_RGBZTensor.pickle'\n",
        "        os.makedirs(os.path.dirname(path_to_store), exist_ok=True)\n",
        "        with open(path_to_store, 'wb') as handle:\n",
        "          pickle.dump(output['RGBZ Tensors'], handle) \n",
        "  "
      ],
      "execution_count": 14,
      "outputs": []
    },
    {
      "cell_type": "code",
      "metadata": {
        "id": "z3qIDQ3ZfRaE",
        "colab": {
          "base_uri": "https://localhost:8080/",
          "height": 242
        },
        "outputId": "1a74146c-5faf-4ba2-c610-5ff74b0619ec"
      },
      "source": [
        "import numpy as np\n",
        "import matplotlib.pyplot as plt\n",
        "\n",
        "import pywt\n",
        "import pywt.data\n",
        "\n",
        "original = m_segment_dict[key]\n",
        "coeffs2,_ = pywt.cwt(original,scales=np.arange(1,8),wavelet='morl',method='fft',axis=1)\n",
        "fig = plt.figure(figsize=(12, 3))\n",
        "for i in range(1):\n",
        "    ax = fig.add_subplot(1, 2, i + 1)\n",
        "    plt.imshow(coeffs2[i+3])\n",
        "    ax.set_xticks([])\n",
        "    ax.set_yticks([])\n",
        "\n",
        "fig.tight_layout()\n",
        "plt.show()"
      ],
      "execution_count": 38,
      "outputs": [
        {
          "output_type": "stream",
          "name": "stderr",
          "text": [
            "Clipping input data to the valid range for imshow with RGB data ([0..1] for floats or [0..255] for integers).\n"
          ]
        },
        {
          "output_type": "display_data",
          "data": {
            "image/png": "[encoded data removed]",
            "text/plain": [
              "<Figure size 864x216 with 1 Axes>"
            ]
          },
          "metadata": {}
        }
      ]
    },
    {
      "cell_type": "code",
      "source": [
        ""
      ],
      "metadata": {
        "id": "f-EXBEGFkjNB"
      },
      "execution_count": null,
      "outputs": []
    }
  ]
}