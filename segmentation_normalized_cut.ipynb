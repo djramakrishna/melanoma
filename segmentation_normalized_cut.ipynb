{
  "nbformat": 4,
  "nbformat_minor": 0,
  "metadata": {
    "colab": {
      "name": "segmentation_normalized_cut.ipynb",
      "provenance": [],
      "collapsed_sections": []
    },
    "kernelspec": {
      "name": "python3",
      "display_name": "Python 3"
    },
    "language_info": {
      "name": "python"
    }
  },
  "cells": [
    {
      "cell_type": "code",
      "metadata": {
        "id": "7eJs2k6TTJke"
      },
      "source": [
        "from google.colab import drive\n",
        "import os\n",
        "import os\n",
        "import cv2\n",
        "import numpy as np\n",
        "from skimage.segmentation import slic\n",
        "from skimage.segmentation import mark_boundaries\n",
        "import matplotlib.pyplot as plt\n",
        "from skimage.color import rgb2gray\n",
        "import numpy as np\n",
        "from google.colab.patches import cv2_imshow\n",
        "import warnings\n",
        "warnings.filterwarnings(\"ignore\")\n",
        "from skimage import data, segmentation, color\n",
        "from skimage.future import graph"
      ],
      "execution_count": null,
      "outputs": []
    },
    {
      "cell_type": "code",
      "metadata": {
        "id": "8J2fOK_jVCab"
      },
      "source": [
        "drive.mount('/content/gdrive')"
      ],
      "execution_count": null,
      "outputs": []
    },
    {
      "cell_type": "code",
      "metadata": {
        "id": "v228fcZcTNoh"
      },
      "source": [
        "def load_data(path,images_to_load=50,resize=True,resize_dim=(512,512)):\n",
        "  '''\n",
        "  path : The path where the images are located.\n",
        "  images_to_load : Maximum number of images to load.\n",
        "  resize : Whether to resize the image.\n",
        "  resize_dim : Specify dimensions for resizing, used only when resize=True.\n",
        "\n",
        "  Return\n",
        "  ------\n",
        "  Loaded image and filename as a tuple for each entry.\n",
        "  '''\n",
        "  valid_images = [\".png\"]\n",
        "  img_lst = []\n",
        "  for f in os.listdir(path):\n",
        "    ext = os.path.splitext(f)[1]\n",
        "    if ext.lower() not in valid_images:\n",
        "        continue\n",
        "    img = cv2.imread(os.path.join(path,f))\n",
        "    if resize:\n",
        "      img = cv2.resize(img, resize_dim)\n",
        "    img_lst.append([img,f])\n",
        "  return img_lst\n",
        "\n"
      ],
      "execution_count": null,
      "outputs": []
    },
    {
      "cell_type": "code",
      "metadata": {
        "id": "W7gQHk9pTv8V"
      },
      "source": [
        "melanoma_img_path = '/content/gdrive/MyDrive/CS_EE_577/Dataset/CentralView_labeled/Melanoma/'\n",
        "non_melanoma_img_path = '/content/gdrive/MyDrive/CS_EE_577/Dataset/CentralView_labeled/Non_Melanoma/'"
      ],
      "execution_count": null,
      "outputs": []
    },
    {
      "cell_type": "code",
      "metadata": {
        "id": "40Cng-bKUsa8"
      },
      "source": [
        "m_lst = load_data(melanoma_img_path)\n",
        "#nm_lst = load_data(non_melanoma_img_path)"
      ],
      "execution_count": null,
      "outputs": []
    },
    {
      "cell_type": "code",
      "metadata": {
        "id": "RoJ4QaDAVMGC"
      },
      "source": [
        "def perform_segmentation(img, n_segments):\n",
        "  '''\n",
        "  Segments the image and extracts out the lesion region using normalized cut.\n",
        "\n",
        "  Parameters\n",
        "  ----------\n",
        "  img : The original input image.\n",
        "  n_segments : The total number of segments for SLIC to generate.\n",
        "\n",
        "  Returns\n",
        "  -------\n",
        "  Dictionary object comprising of:\n",
        "  1. Original Image\n",
        "  2. Bordered Image\n",
        "  3. Mask\n",
        "  4. Segmented Image\n",
        "  '''\n",
        "  original_img = img.copy()\n",
        "  segments = slic(img, n_segments = n_segments, compactness=10, max_iter=10, sigma=2)\n",
        "  bordered_img = mark_boundaries(img, segments)\n",
        "  g = graph.rag_mean_color(img, segments, mode='similarity')\n",
        "  res = graph.cut_normalized(segments, g)\n",
        "  res = color.label2rgb(res, img, kind='avg', bg_label=0)\n",
        "  grayscale = np.array(rgb2gray(res))\n",
        "  grayscale[grayscale>0] = 255\n",
        "  mask = grayscale.copy()\n",
        "  r,g,b = cv2.split(original_img)\n",
        "  r = np.where(mask!=0,r,mask)\n",
        "  g = np.where(mask!=0,g,mask)\n",
        "  b = np.where(mask!=0,b,mask)\n",
        "  segmented_img=np.dstack((r,g,b))\n",
        "  return {'Original Image': original_img,\n",
        "          'Bordered Image': bordered_img,\n",
        "          'Mask':mask,\n",
        "          'Segmented Image': segmented_img}\n",
        "\n",
        "def choose_nsegments(lst, segments_lst, skip_initial=0):\n",
        "  '''\n",
        "  Parameters\n",
        "  ----------\n",
        "  lst: lst of images.\n",
        "  segments_lst: specifies the different n_segments to use for each SLIC iteration.\n",
        "    While choosing segments, specify the index of the segment number.\n",
        "  skip_initial: specify the number of initial images to skip. \n",
        "\n",
        "  Return\n",
        "  ------\n",
        "  The value of n_segments for each image. \n",
        "  '''\n",
        "  n_segment_mapping = {}\n",
        "  keys_list = np.arange(1,len(segments_lst)+1)\n",
        "  zip_iterator = zip(keys_list, segments_lst)\n",
        "  code_mapping = dict(zip_iterator)\n",
        "  code_mapping[0] = None\n",
        "  lst = lst[skip_initial:]  \n",
        "  for img, name in lst:\n",
        "    # Resizing for quicker loading\n",
        "    img = cv2.resize(img, (240, 240))\n",
        "    cv2_imshow(img)\n",
        "    print('----------------------')\n",
        "    for n_segments in segments_lst:\n",
        "      res = perform_segmentation(img, n_segments)\n",
        "      cv2_imshow(res['Segmented Image'])\n",
        "      print('----------------------')\n",
        "    res = input('Enter the n_segment code corresponding to the best segmentation:')\n",
        "    n_segment_mapping[name] = code_mapping[int(res)]\n",
        "  return n_segment_mapping\n",
        "\n",
        "def store_image(img, path, f_name):\n",
        "  '''\n",
        "  Stores the image at the path specified.\n",
        "\n",
        "  Parameters\n",
        "  ----------\n",
        "  img : The image to store.\n",
        "  path : The path where the image is to be stored.\n",
        "  f_name : Name of the file for storing.\n",
        "  '''\n",
        "  path = os.getcwd()+path\n",
        "  try:\n",
        "    os.makedirs(path)\n",
        "  except:\n",
        "    pass\n",
        "  img = np.array(img)\n",
        "  print(f'Stored {f_name} successfully!')\n",
        "  cv2.imwrite(path+f_name, img)\n",
        "\n",
        "def segment_and_store(lst, n_segment_mapping, dir_path):\n",
        "  '''\n",
        "  Segments the images in the list based on the mapping and\n",
        "  stores them to the directory.\n",
        "  '''\n",
        "  resegment_lst = []\n",
        "  segments_mask_lst = []\n",
        "  for img, name in lst:\n",
        "    if n_segment_mapping[name] is None:\n",
        "      resegment_lst.append(name)\n",
        "      continue\n",
        "    res = perform_segmentation(img, n_segment_mapping[name])\n",
        "    f_name = name.split('.')[0].split('_')[0]+'_SegmentedImage.png'\n",
        "    store_image(res['Segmented Image'],dir_path,f_name)\n",
        "  print('Stored Segments for all images!')\n",
        "  return resegment_lst"
      ],
      "execution_count": null,
      "outputs": []
    },
    {
      "cell_type": "markdown",
      "metadata": {
        "id": "AHGGqQPM_drO"
      },
      "source": [
        "# New section"
      ]
    },
    {
      "cell_type": "code",
      "metadata": {
        "id": "r9jQpze_epbR"
      },
      "source": [
        "n_segment_mapping = choose_nsegments(nm_lst, [50,100,200,500], skip_initial=49)"
      ],
      "execution_count": null,
      "outputs": []
    },
    {
      "cell_type": "code",
      "metadata": {
        "id": "QLPRZs74eqyN"
      },
      "source": [
        "# Did a segment mapping before for first 49 samples.\n",
        "prev_segment_mapping = {'0004_TotalFocus.png': 50,\n",
        " '0013_TotalFocus.png': 1000,\n",
        " '0015_TotalFocus.png': 1000,\n",
        " '0017_TotalFocus.png': 500,\n",
        " '0018_TotalFocus.png': 100,\n",
        " '0021_TotalFocus.png': 50,\n",
        " '0023_TotalFocus.png': 1000,\n",
        " '0042_TotalFocus.png': 1000,\n",
        " '0049_TotalFocus.png': 50,\n",
        " '0056_TotalFocus.png': 1000,\n",
        " '0057_TotalFocus.png': 500,\n",
        " '0058_TotalFocus.png': 500,\n",
        " '0059_TotalFocus.png': 50,\n",
        " '0060_TotalFocus.png': 50,\n",
        " '0066_TotalFocus.png': 500,\n",
        " '0067_TotalFocus.png': 100,\n",
        " '0070_TotalFocus.png': 50,\n",
        " '0075_TotalFocus.png': 50,\n",
        " '0091_TotalFocus.png': 50,\n",
        " '0092_TotalFocus.png': 1000,\n",
        " '0093_TotalFocus.png': 1000,\n",
        " '0094_TotalFocus.png': 1000,\n",
        " '0095_TotalFocus.png': 500,\n",
        " '0096_TotalFocus.png': 1000,\n",
        " '0097_TotalFocus.png': 500,\n",
        " '0104_TotalFocus.png': 1000,\n",
        " '0129_TotalFocus.png': 50,\n",
        " '0131_TotalFocus.png': 100,\n",
        " '0156_TotalFocus.png': 50,\n",
        " '0157_TotalFocus.png': 500,\n",
        " '0161_TotalFocus.png': 100,\n",
        " '0167_TotalFocus.png': 500,\n",
        " '0168_TotalFocus.png': 500,\n",
        " '0169_TotalFocus.png': 500,\n",
        " '0170_TotalFocus.png': 1000,\n",
        " '0173_TotalFocus.png': 1000,\n",
        " '0174_TotalFocus.png': 500,\n",
        " '0175_TotalFocus.png': 1000,\n",
        " '0177_TotalFocus.png': 500,\n",
        " '0178_TotalFocus.png': 1000,\n",
        " '0179_TotalFocus.png': 1000,\n",
        " '0185_TotalFocus.png': 50,\n",
        " '0198_TotalFocus.png': 1000,\n",
        " '0213_TotalFocus.png': 50,\n",
        " '0214_TotalFocus.png': 100,\n",
        " '0236_TotalFocus.png': 1000,\n",
        " '0244_TotalFocus.png': 1000,\n",
        " '0245_TotalFocus.png': 1000,\n",
        " '0246_TotalFocus.png': 500}"
      ],
      "execution_count": null,
      "outputs": []
    },
    {
      "cell_type": "code",
      "metadata": {
        "id": "W-BTrrJPoPY_"
      },
      "source": [
        "n_segment_mapping.update(prev_segment_mapping)"
      ],
      "execution_count": null,
      "outputs": []
    },
    {
      "cell_type": "code",
      "metadata": {
        "id": "OLfvtGT2-dk_"
      },
      "source": [
        "nm_resegment_lst = segment_and_store(nm_lst, n_segment_mapping, dir_path='/gdrive/MyDrive/CS_EE_577/Dataset/SegmentedImages_NormalizedCut/Non_Melanoma/')"
      ],
      "execution_count": null,
      "outputs": []
    },
    {
      "cell_type": "code",
      "metadata": {
        "id": "_Xcjs-oTAr9L"
      },
      "source": [
        "m_segment_mapping = choose_nsegments(m_lst, [50,100,200,500], skip_initial=0)"
      ],
      "execution_count": null,
      "outputs": []
    },
    {
      "cell_type": "code",
      "metadata": {
        "id": "3BEi0wHH5sRZ"
      },
      "source": [
        "melanoma_resegment_lst = segment_and_store(m_lst, m_segment_mapping, dir_path='/gdrive/MyDrive/CS_EE_577/Dataset/SegmentedImages_NormalizedCut/Melanoma/')"
      ],
      "execution_count": null,
      "outputs": []
    },
    {
      "cell_type": "code",
      "metadata": {
        "id": "HBht-yIV6qv7"
      },
      "source": [
        "melanoma_resegment_lst"
      ],
      "execution_count": null,
      "outputs": []
    },
    {
      "cell_type": "code",
      "metadata": {
        "id": "ByEUQKa76-kD"
      },
      "source": [
        ""
      ],
      "execution_count": null,
      "outputs": []
    }
  ]
}