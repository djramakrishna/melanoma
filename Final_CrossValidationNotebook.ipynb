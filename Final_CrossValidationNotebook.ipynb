{
  "nbformat": 4,
  "nbformat_minor": 0,
  "metadata": {
    "colab": {
      "name": "Melanoma_testing_BAC_10kFoldValidation.ipynb",
      "provenance": [],
      "collapsed_sections": [],
      "include_colab_link": true
    },
    "kernelspec": {
      "name": "python3",
      "display_name": "Python 3"
    },
    "language_info": {
      "name": "python"
    }
  },
  "cells": [
    {
      "cell_type": "markdown",
      "metadata": {
        "id": "view-in-github",
        "colab_type": "text"
      },
      "source": [
        "<a href=\"https://colab.research.google.com/github/djramakrishna/EE577/blob/main/Final_CrossValidationNotebook.ipynb\" target=\"_parent\"><img src=\"https://colab.research.google.com/assets/colab-badge.svg\" alt=\"Open In Colab\"/></a>"
      ]
    },
    {
      "cell_type": "code",
      "metadata": {
        "id": "6oAKxae3Ud3F",
        "colab": {
          "base_uri": "https://localhost:8080/"
        },
        "outputId": "9f7c5a2d-a50e-4a20-8d54-8a564783bdd5"
      },
      "source": [
        "from torch.utils.data import Dataset, DataLoader\n",
        "import glob\n",
        "import cv2\n",
        "import torch\n",
        "import pickle\n",
        "from google.colab import drive\n",
        "drive.mount('/content/gdrive')"
      ],
      "execution_count": null,
      "outputs": [
        {
          "output_type": "stream",
          "name": "stdout",
          "text": [
            "Drive already mounted at /content/gdrive; to attempt to forcibly remount, call drive.mount(\"/content/gdrive\", force_remount=True).\n"
          ]
        }
      ]
    },
    {
      "cell_type": "code",
      "source": [
        "# Tensor parameters\n",
        "coeff=1\n",
        "size = (128,128)\n",
        "tensor_type='RGB'\n",
        "\n",
        "def get_reshape_dims(size,tensor_type,coeff):\n",
        "   mapping = {}\n",
        "   coeff_mapping = {}\n",
        "   mapping['RGB'] = 3\n",
        "   mapping['RGBZ'] = 4\n",
        "   mapping['Z'] = 1 \n",
        "   coeff_mapping[1] = 17\n",
        "   coeff_mapping[2] = 81\n",
        "   return (mapping[tensor_type]*coeff_mapping[coeff],int(size[0]/4),int(size[0]/4))\n",
        "\n",
        "reshape_dims = get_reshape_dims(size,tensor_type,coeff)"
      ],
      "metadata": {
        "id": "7U6LxDbupile"
      },
      "execution_count": null,
      "outputs": []
    },
    {
      "cell_type": "code",
      "source": [
        "class CustomDataset(Dataset):\n",
        "  def __init__(self, transforms=None):\n",
        "    self.dataset_path = f'/content/gdrive/MyDrive/CS_EE_577/Dataset/Tensors/Coeff_Order{1}/{tensor_type}_{size[0]}_{size[0]}/'  \n",
        "    directory_list = glob.glob(self.dataset_path + \"*\")     ### This list should contain paths for both melanoma and nonmelanoma folders(containing tensors)\n",
        "    self.data = []                        ### List containing list of tensor_img and class_name [[tensor_img1, class_name1],[tensor_img2, class_name2]....]\n",
        "    self.transforms = transforms\n",
        "    for single_class in directory_list: \n",
        "      class_name = single_class.split(\"/\")[-1]\n",
        "      for tensor_img in glob.glob(single_class + \"/*.pickle\"):  ### Change the format of .png based on what the tensors are ? \n",
        "        with open(tensor_img, 'rb') as f:\n",
        "          res = pickle.load(f)\n",
        "        res = torch.reshape(res, reshape_dims)\n",
        "        self.data.append([res, class_name])\n",
        "        \n",
        "    self.class_map = {\"Melanoma\" : 1, \"Non_Melanoma\": 0} \n",
        "\n",
        "  def __len__(self):\n",
        "    return len(self.data)    \n",
        "  \n",
        "  def __getitem__(self, idx):\n",
        "    tensor_image, class_name = self.data[idx]\n",
        "    class_id = self.class_map[class_name]\n",
        "    #img_tensor = torch.from_numpy(img)   ### Exclude this if they are already a torch tensor\n",
        "    class_id = torch.tensor([class_id])\n",
        "    if self.transforms is not None:\n",
        "      tensor_image = self.transforms(tensor_image)\n",
        "    return tensor_image, class_id"
      ],
      "metadata": {
        "id": "iVozNZQkpaKy"
      },
      "execution_count": null,
      "outputs": []
    },
    {
      "cell_type": "code",
      "metadata": {
        "id": "qHOqHQx_Uj_7"
      },
      "source": [
        "import torch\n",
        "from torch.nn import Module\n",
        "import torch.nn as nn\n",
        "import torch.nn.functional as F\n",
        "from torch.nn.functional import cross_entropy, relu\n",
        "from torch.nn.parameter import Parameter\n",
        "from torch.optim import SGD\n",
        "from torch.utils.data import DataLoader, TensorDataset, Dataset\n",
        "import torch.utils.data as data_utils\n",
        "\n",
        "\n",
        "class melanomaNetwork(Module):\n",
        "\tdef __init__(self, classes = 2):\n",
        "\t\tsuper(melanomaNetwork, self).__init__()\n",
        "\t\tself.classes = classes\n",
        "\n",
        "\t\t#fitting\n",
        "\t\tself.fitting_input_channels = reshape_dims[0]\n",
        "\t\tself.fitting_kernels = 32\n",
        "\n",
        "\t\t#structure1 wb1\n",
        "\t\tself.s1_kernels = 64\n",
        "\t\tself.s1wb1_conv1 = nn.Conv2d(32, 64, kernel_size=3, stride=1, padding=1)\n",
        "\t\tself.s1wb1_conv2 = nn.Conv2d(64, 64, kernel_size=3, stride=1, padding=1)\n",
        "\t\tself.s1wb1_conv3 = nn.Conv2d(32, 64, kernel_size=1, stride=1, padding=0)\n",
        "\t\tself.s1wb1_bn1 = nn.BatchNorm2d(64)\n",
        "\t\tself.s1wb1_bn2 = nn.BatchNorm2d(64)\n",
        "\t\tself.s1wb1_bn3 = nn.BatchNorm2d(64)\n",
        "\n",
        "\n",
        "\t\t#structure1 wb2\n",
        "\t\tself.s1wb2_conv1 = nn.Conv2d(64, 64, kernel_size=3, stride=1, padding=1)\n",
        "\t\tself.s1wb2_conv2 = nn.Conv2d(64, 64, kernel_size=3, stride=1, padding=1)\n",
        "\t\tself.s1wb2_bn1 = nn.BatchNorm2d(64)\n",
        "\t\tself.s1wb2_bn2 = nn.BatchNorm2d(64)\n",
        "\n",
        "\n",
        "\t\t#structure1 wb3\n",
        "\t\tself.s1wb3_conv1 = nn.Conv2d(64, 64, kernel_size=3, stride=1, padding=1)\n",
        "\t\tself.s1wb3_conv2 = nn.Conv2d(64, 64, kernel_size=3, stride=1, padding=1) \n",
        "\t\tself.s1wb3_bn1 = nn.BatchNorm2d(64)\n",
        "\t\tself.s1wb3_bn2 = nn.BatchNorm2d(64)\n",
        "\n",
        "\n",
        "\t\t#structure1 wb4 \n",
        "\t\tself.s1wb4_conv1 = nn.Conv2d(64, 64, kernel_size=3, stride=1, padding=1)\n",
        "\t\tself.s1wb4_conv2 = nn.Conv2d(64, 64, kernel_size=3, stride=1, padding=1)\n",
        "\t\tself.s1wb4_bn1 = nn.BatchNorm2d(64)\n",
        "\t\tself.s1wb4_bn2 = nn.BatchNorm2d(64)\n",
        "\n",
        "\n",
        "\t\t#structure2 wb1\n",
        "\t\tself.s2_kernels = 128\n",
        "\t\tself.s2wb1_conv1 = nn.Conv2d(64, 128, kernel_size=3, stride=1, padding=1)\n",
        "\t\tself.s2wb1_conv2 = nn.Conv2d(128, 128, kernel_size=3, stride=1, padding=1)\n",
        "\t\tself.s2wb1_conv3 = nn.Conv2d(64, 128, kernel_size=1, stride=1, padding=0)\n",
        "\t\tself.s2wb1_bn1 =  nn.BatchNorm2d(128)\n",
        "\t\tself.s2wb1_bn2 =  nn.BatchNorm2d(128)\n",
        "\t\tself.s2wb1_bn3 = nn.BatchNorm2d(128)\n",
        "\n",
        "\t\t#structure2 wb2 \n",
        "\t\tself.s2wb2_conv1 = nn.Conv2d(128, 128, kernel_size=3, stride=1, padding=1)\n",
        "\t\tself.s2wb2_conv2 = nn.Conv2d(128, 128, kernel_size=3, stride=1, padding=1)\n",
        "\t\tself.s2wb2_bn1 = nn.BatchNorm2d(128)\n",
        "\t\tself.s2wb2_bn2 = nn.BatchNorm2d(128)\n",
        "\n",
        "\t\t#structure2 wb3\n",
        "\t\tself.s2wb3_conv1 = nn.Conv2d(128, 128, kernel_size=3, stride=1, padding=1)\n",
        "\t\tself.s2wb3_conv2 = nn.Conv2d(128, 128, kernel_size=3, stride=1, padding=1)\n",
        "\t\tself.s2wb3_bn1 = nn.BatchNorm2d(128)\n",
        "\t\tself.s2wb3_bn2 = nn.BatchNorm2d(128)\n",
        "\n",
        "\t\t#structure2 wb4\n",
        "\t\tself.s2wb4_conv1 = nn.Conv2d(128, 128, kernel_size=3, stride=1, padding=1)\n",
        "\t\tself.s2wb4_conv2 = nn.Conv2d(128, 128, kernel_size=3, stride=1, padding=1)\n",
        "\t\tself.s2wb4_bn1 = nn.BatchNorm2d(128)\n",
        "\t\tself.s2wb4_bn2 = nn.BatchNorm2d(128)\n",
        "\n",
        "\t\tself.stride = 1\n",
        "\t\tself.padding = 0\n",
        "\t\tself.kernel_size = 3 \n",
        "\t\tself.residue_kernel_size = 1\n",
        "\t\t\n",
        "\t\tself.bn1 = nn.BatchNorm2d(self.fitting_input_channels)\n",
        "\t\tself.conv1 = nn.Conv2d(self.fitting_input_channels, self.fitting_kernels, kernel_size=3, stride=1, padding=1)\n",
        "\t\tself.bn2 = nn.BatchNorm2d(self.fitting_kernels)\n",
        "\n",
        "\t\t#discrimination\n",
        "\t\t#self.averagepooling = nn.AvgPool2d(kernel_size=3, stride=1)\n",
        "\t\tself.adaptive_avg_pooling = nn.AdaptiveAvgPool2d(2)\n",
        "\t\tself.fc = nn.Linear(128*2*2, self.classes)\n",
        "\n",
        "\tdef forward(self, x):\n",
        "\n",
        "\t\t#fitting\n",
        "\t\tx = F.relu(self.bn2(self.conv1(self.bn1(x))))\n",
        "\t\t#print(\"Size of X after fitting : \", x.size())\n",
        "\n",
        "\t\t#EXPANDING\n",
        "\t\t#STRUCTURE 1\n",
        "\n",
        "\t\t#wb1\n",
        "\t\tx = x \n",
        "\t\tresidue1 = x\n",
        "\t\tx = F.relu(self.s1wb1_bn1(self.s1wb1_conv1(x)))\n",
        "\t\tx = self.s1wb1_bn2(self.s1wb1_conv2(x))\n",
        "\t\tresidue1 = self.s1wb1_bn3(self.s1wb1_conv3(residue1))\n",
        "\t\tx = x + residue1\n",
        "\t\tx = F.relu(x)\n",
        "\n",
        "\t\t#wb2\n",
        "\t\tx = F.relu(self.s1wb2_bn1(self.s1wb2_conv1(x)))\n",
        "\t\tx = F.relu(self.s1wb2_bn2(self.s1wb2_conv2(x)))\n",
        "\n",
        "\t\t#wb3\n",
        "\t\tx = F.relu(self.s1wb3_bn1(self.s1wb3_conv1(x)))\n",
        "\t\tx = F.relu(self.s1wb3_bn2(self.s1wb3_conv2(x)))\n",
        "\n",
        "\t\t#wb4\n",
        "\t\tx = F.relu(self.s1wb4_bn1(self.s1wb4_conv1(x)))\n",
        "\t\tx = F.relu(self.s1wb4_bn2(self.s1wb4_conv2(x)))\n",
        "\n",
        "\t\t#print(\"SIZE AFTER STRUCTURE1, \", x.size())\n",
        "\n",
        "\t\t#STRUCTURE2\n",
        "\t\t#wb1\n",
        "\t\tx = x \n",
        "\t\tresidue2 = x\n",
        "\t\tx = F.relu(self.s2wb1_bn1(self.s2wb1_conv1(x)))\n",
        "\t\tx = self.s2wb1_bn2(self.s2wb1_conv2(x))\n",
        "\t\tresidue2 = self.s2wb1_bn3(self.s2wb1_conv3(residue1))\n",
        "\t\tx = x + residue2\n",
        "\t\tx = F.relu(x)\n",
        "\n",
        "\t\t#wb2\n",
        "\t\tx = F.relu(self.s2wb2_bn1(self.s2wb2_conv1(x)))\n",
        "\t\tx = F.relu(self.s2wb2_bn2(self.s2wb2_conv2(x)))\n",
        "\n",
        "\t\t#wb3\n",
        "\t\tx = F.relu(self.s2wb3_bn1(self.s2wb3_conv1(x)))\n",
        "\t\tx = F.relu(self.s2wb3_bn2(self.s2wb3_conv2(x)))\n",
        "\n",
        "\t\t#wb4\n",
        "\t\tx = F.relu(self.s2wb4_bn1(self.s2wb4_conv1(x)))\n",
        "\t\tx = F.relu(self.s2wb4_bn2(self.s2wb4_conv2(x)))\n",
        "\n",
        "\t\t#print(\"SIZE OF X AFTER STRUCTURE 2\", x.size())\n",
        "\t\t\n",
        "\t\t#discrimination\n",
        "\t\tx = self.adaptive_avg_pooling(x)\n",
        "\t\t#print(\"SIZE OF X AFTER POOLING\", x.size())\n",
        "\n",
        "\t\tx = x.view(x.size(0), -1)\n",
        "\t\tx = self.fc(x)\n",
        "\t\t\n",
        "\t\tx = F.softmax(x,dim=1)\n",
        "\t\t\n",
        "\t\treturn x\n"
      ],
      "execution_count": null,
      "outputs": []
    },
    {
      "cell_type": "code",
      "metadata": {
        "id": "iEb64ufsUoNB"
      },
      "source": [
        "from __future__ import print_function, division\n",
        "import torch\n",
        "import torch.nn as nn\n",
        "import torch.optim as optim\n",
        "from torch.optim import lr_scheduler\n",
        "import numpy as np\n",
        "import torchvision\n",
        "from torchvision import datasets, models, transforms\n",
        "import matplotlib.pyplot as plt\n",
        "import time\n",
        "import os\n",
        "import copy\n",
        "import math\n",
        "from typing import List\n",
        "import matplotlib.pyplot as plt\n",
        "import torch\n",
        "from torch.distributions import Uniform\n",
        "from torch.nn import Module\n",
        "from torch.nn.functional import cross_entropy, relu\n",
        "from torch.nn.parameter import Parameter\n",
        "from torch.optim import Adam, SGD\n",
        "from torch.utils.data import DataLoader, TensorDataset\n",
        "import torch.utils.data as data_utils\n",
        "from torch.autograd import Variable\n",
        "from sklearn.metrics import balanced_accuracy_score\n",
        "\n",
        "\n",
        "import math\n",
        "from typing import List\n",
        "import matplotlib.pyplot as plt\n",
        "import torch\n",
        "from torch.distributions import Uniform\n",
        "from torch.nn import Module\n",
        "import torch.nn as nn\n",
        "import torch.nn.functional as F\n",
        "from torch.nn.functional import cross_entropy, relu\n",
        "from torch.nn.parameter import Parameter\n",
        "from torch.optim import Adam, SGD\n",
        "from torch.utils.data import DataLoader, TensorDataset\n",
        "import torch.utils.data as data_utils\n",
        "from torch.utils.data import DataLoader, TensorDataset, Dataset\n",
        "from torch.utils.data.sampler import SubsetRandomSampler\n",
        "from torchvision import transforms\n",
        "#from melanoma_dataloader import CustomDataset\n",
        "import torch.utils.data as data\n",
        "#from model_melanoma import Network\n",
        "import glob\n",
        "import cv2\n",
        "import matplotlib.pyplot as plt\n",
        "from sklearn.model_selection import train_test_split\n",
        "\n",
        "def train(train_loader: DataLoader, val_loader:DataLoader, model: Module, optimizer : SGD, loss_criterion, total_epochs):\n",
        "    accuracy = 0.0                  #can be used later to keep training loop with a specific accuracy\n",
        "    train_loss_each_epoch = []      #contains average training loss in each epoch \n",
        "    val_loss_each_epoch = []        #contains average validation loss in each epoch \n",
        "    train_accuracy_each_epoch = []  #contains average training accuracy in each epoch\n",
        "    val_accuracy_each_epoch = []    #contains average validation accuracy in each epoch\n",
        "    train_bac_each_epoch = []       # contains bac after each epoch\n",
        "    val_bac_each_epoch = []\n",
        "\n",
        "    for epoch in range(total_epochs):\n",
        "\n",
        "        print(f\"Running epoch \", epoch, \" of \", total_epochs)\n",
        "\n",
        "        training_loss = float(0.0)\n",
        "        \n",
        "        correct_train_preds = 0\n",
        "        '''\n",
        "        Input: (N, C)(N,C) where C = number of classes,\n",
        "        Target: If containing class indices, shape (N)(N) where each value is 0 \\leq \\text{targets}[i] \\leq C-10≤targets[i]≤C−1,\n",
        "        \n",
        "        '''\n",
        "        \n",
        "        actual = []\n",
        "        predicted = []\n",
        "\n",
        "        for x, y in train_loader:\n",
        "            x = model(x)\n",
        "            y = torch.tensor(y, dtype=torch.float)\n",
        "            x = torch.tensor(x, dtype=torch.float)\n",
        "\n",
        "            x = Variable(x, requires_grad=True)\n",
        "            y = Variable(y, requires_grad=True)\n",
        "            y = y.squeeze()\n",
        "            y = y.type(torch.float) #\n",
        "            x = x.type(torch.float)\n",
        "\n",
        "            # print(f\"y shape {y.shape}\")\n",
        "            # print(f\"x shape {x.shape}\")\n",
        "\n",
        "            loss = loss_criterion(x, y.long())\n",
        "            # y = y.type(torch.long) #\n",
        "            # x = x.type(torch.long)\n",
        "\n",
        "            \n",
        "\n",
        "            # #y = y.float()\n",
        "            # y = y.to(torch.float32)\n",
        "            # print(\"shapes\")\n",
        "            # print(f\"y shape {y.shape}\")\n",
        "            # print(f\"x shape {x.shape}\")\n",
        "            # print(y)\n",
        "            # print(x)\n",
        "            # print(type(x))\n",
        "            # print(type(y))\n",
        "            # loss = loss_criterion(x, y.long())\n",
        "            # loss = loss_criterion(x, y.long())\n",
        "            optimizer.zero_grad()\n",
        "            loss.backward()\n",
        "            optimizer.step()\n",
        "            x_pred = torch.argmax(x, axis=1)\n",
        "            training_loss = training_loss + loss.item()\n",
        "            # x_pred = torch.argmax(x, axis=1)\n",
        "            correct_train_preds = correct_train_preds + torch.eq(x_pred, y).sum()\n",
        "\n",
        "            actual.extend(y.detach().numpy())\n",
        "            predicted.extend(x_pred.detach().numpy())\n",
        "        \n",
        "        \n",
        "        train_accuracy = float(correct_train_preds/len(train_loader))\n",
        "        \n",
        "        # print(\"test\")\n",
        "        # print(len(actual))\n",
        "        # print(len(predicted))\n",
        "        # print(actual)\n",
        "        # print(predicted)\n",
        "\n",
        "        bac_score = balanced_accuracy_score(actual,predicted)\n",
        "        \n",
        "        train_loss = training_loss\n",
        "\n",
        "        train_loss_each_epoch.append(train_loss)\n",
        "        train_accuracy_each_epoch.append(train_accuracy)\n",
        "        train_bac_each_epoch.append(bac_score)\n",
        "\n",
        "        print(f\"Training loss : {train_loss}, training accuracy : {train_accuracy}, training BAC: {bac_score} after epoch : {epoch}\")\n",
        "\n",
        "        print(\"EPOCHHH DONE NEXT UP \")\n",
        "        validation_loss = float(0.0)\n",
        "        correct_val_preds = 0 \n",
        "\n",
        "        # TODO: \n",
        "        # Implement a stratified split to maintain min melanoma # in dataset\n",
        "        # implement balanced accuracy \n",
        "        # cross validation - if we have time\n",
        "        val_predict = []\n",
        "        val_actual = []\n",
        "\n",
        "        for x, y in val_loader:\n",
        "            x = model(x)\n",
        "            y = torch.tensor(y, dtype=torch.float)\n",
        "            x = torch.tensor(x, dtype=torch.float)\n",
        "\n",
        "            x = Variable(x, requires_grad=True)\n",
        "            y = Variable(y, requires_grad=True)\n",
        "            y = y.squeeze()\n",
        "            y = y.type(torch.float) #\n",
        "            x = x.type(torch.float)\n",
        "            loss = loss_criterion(x, y.long())\n",
        "\n",
        "            validation_loss += loss.item()  \n",
        "            x_pred = torch.argmax(x, axis=1)\n",
        "            correct_val_preds = correct_val_preds + torch.eq(x_pred, y).sum()\n",
        "\n",
        "            val_actual.extend(y.detach().numpy())\n",
        "            val_predict.extend(x_pred.detach().numpy())\n",
        "\n",
        "        print(\"Val Actual: \")\n",
        "        print(val_actual)\n",
        "        print(\"Val Predict: \")\n",
        "        print(val_predict)\n",
        "        \n",
        "\n",
        "        val_accuracy = float(correct_val_preds/len(val_loader))\n",
        "        val_loss = float(validation_loss/len(val_loader))\n",
        "        bac_score = balanced_accuracy_score(val_actual,val_predict)\n",
        "\n",
        "        val_loss_each_epoch.append(val_loss)\n",
        "        val_accuracy_each_epoch.append(val_accuracy)\n",
        "        val_bac_each_epoch.append(bac_score)\n",
        "\n",
        "        print(f\"Validation loss : {val_loss}, validation accuracy : {val_accuracy}, bac score : {bac_score}  after epoch : {epoch}\")\n",
        "      \n",
        "    return train_loss_each_epoch, train_accuracy_each_epoch, val_loss_each_epoch, val_accuracy_each_epoch, bac_score\n"
      ],
      "execution_count": null,
      "outputs": []
    },
    {
      "cell_type": "code",
      "source": [
        "\n",
        "\n",
        "#from model import melanomaNetwork, baseWorkBlock, firstWorkBlock\n",
        "from sklearn.model_selection import StratifiedKFold\n",
        "\n",
        "def main():\n",
        "\tdata_transforms = transforms.Compose([transforms.RandomRotation(degrees=(-90,90))])\n",
        "\tdataset = CustomDataset(transforms=data_transforms)\n",
        "\tdataset_x = [i for i in range(len(dataset))]\n",
        "\tdataset_y = [i[1] for i in dataset]\n",
        "\t# dataset_train, dataset_valid = data.random_split(dataset, (175,32))\n",
        "\t# targets = dataset.targets\n",
        "\n",
        "\tskf = StratifiedKFold(n_splits=10, shuffle=True)\n",
        "\tskf.get_n_splits(dataset_x, dataset_y)\n",
        " \n",
        "\ttotal_bac_output = 0\n",
        "\tcount = 0\n",
        " \n",
        "\tfor train_index, test_index in skf.split(dataset_x, dataset_y):\n",
        "\t\t# returns indices in the dataset that corresponds to train and test set\n",
        "\t\tprint(f\"Train Index: {train_index}, size: {len(train_index)}\")\n",
        "\t\tprint(f\"Test Index: {test_index}, size: {len(test_index)}\")\n",
        "\t\t# X_train, X_test = dataset_x[train_index], dataset_x[test_index]\n",
        "\t\t# y_train, y_test = dataset_y[train_index], dataset_y[test_index]\n",
        "\n",
        "\t\t# X_train, X_test, y_train, y_test = train_test_split(dataset_x, dataset_y, test_size=0.2, shuffle=True, stratify=dataset_y)\n",
        "\t\tX_train = train_index\n",
        "\t\tX_test = test_index\n",
        "\n",
        "\t\t# generating a sampler object ... might not need\n",
        "\t\t# X_train_sampler = SubsetRandomSampler(X_train)\n",
        "\t\t# X_test_sampler = SubsetRandomSampler(X_test)\n",
        "\t\t# print(X_train)\n",
        "\t\t\n",
        "\t\ttrain_loader = \tDataLoader(dataset=dataset, batch_size=50, sampler=X_train)\n",
        "\t\tval_loader = DataLoader(dataset=dataset, batch_size=21, sampler=X_test)\n",
        "\t\tprint(\"Length of the dataset:\", dataset.__len__())\t\n",
        "\t\ttrain_batch = 0\n",
        "\t\timg, label = next(iter(train_loader))\n",
        "\t\tprint(\"IMAGE SIZE :\",img.size())\n",
        "\t\tprint(\"LABEL SIZE : \",label.size())\n",
        "\t\tnetwork = melanomaNetwork()\n",
        "\t\tprint(\"NETWORK LOADED\")\n",
        "\t\t\n",
        "\t\t#optimizer = SGD(network.parameters(), lr=0.001,nesterov=True,momentum=0.9,weight_decay=0.01)\n",
        "\t\toptimizer = Adam(network.parameters(), lr=0.0001)\n",
        "\t\t\n",
        "\n",
        "\t\tprint(\"MODEL TRAINING STARTS\")\n",
        "\t\t\n",
        "\t\t# #def train(train_loader: DataLoader, model: Module, optimizer : SGD, loss_criterion, total_epochs):\n",
        "\t\tloss = nn.CrossEntropyLoss()\n",
        "\t\t# loss = nn.BCELoss()\n",
        "\t\t#train_loss_each_epoch, train_accuracy_each_epoch, val_loss_each_epoch, val_accuracy_each_epoch = train(train_loader, network, optimizer, loss, 30)\n",
        "\t\t\n",
        "\t\ttrain_loss_each_epoch, train_accuracy_each_epoch, val_loss_each_epoch, val_accuracy_each_epoch, bac_output = train(train_loader, val_loader, network, optimizer, loss, 10)\n",
        "\n",
        "\t\tprint(\"MODEL TRAINING IS FINISHED!\")\n",
        "\n",
        "\t\ttotal_bac_output += bac_output\n",
        "\t\tcount += 1\n",
        "\n",
        "\t\t#plt.plot(train_loss_each_epoch)\n",
        "\t\t#plt.show()\n",
        "\t\t# plt.plot(train_loss_each_epoch)\n",
        "\t\t# plt.show()\n",
        "\t\t# fig, (ax1, ax2, ax3, ax4) = plt.subplots(4,1,constrained_layout=True, figsize=(20, 10))\n",
        "\t\t# fig.set_figheight(15)\n",
        "\t\t# fig.set_figwidth(15)\n",
        "\n",
        "\t\t# ax1.plot(train_loss_each_epoch)\n",
        "\t\t# ax1.set_xlabel('Epochs')\n",
        "\t\t# ax1.set_ylabel('Training loss')\n",
        "\t\t# ax1.set_title('Training loss vs epochs')\n",
        "\n",
        "\n",
        "\t# ax2.plot(train_accuracy_each_epoch)\n",
        "\t# ax2.set_xlabel('Epochs')\n",
        "\t# ax2.set_ylabel('Training accuracy')\n",
        "\t# ax2.set_title('Training accuracy vs epochs')\n",
        "\n",
        "\t# ax3.plot(val_loss_each_epoch)\n",
        "\t# ax2.set_xlabel('Epochs')\n",
        "\t# ax3.set_ylabel('Validation loss')\n",
        "\t# ax3.set_title('Validation loss vs epochs')\n",
        "\n",
        "\t# ax4.plot(val_accuracy_each_epoch)\n",
        "\t# ax4.set_xlabel('Epochs')\n",
        "\t# ax4.set_ylabel('Validation accuracy')\n",
        "\t# ax4.set_title('Validation accuracy vs epochs')\n",
        "\taverage = total_bac_output/count\n",
        "\tprint(f\"Average BAC 10-fold Cross Validation: {average}\")\n",
        "\n",
        "if __name__ == \"__main__\":\n",
        "\tmain()\n"
      ],
      "metadata": {
        "colab": {
          "base_uri": "https://localhost:8080/"
        },
        "id": "Tu7BxaKrg0a3",
        "outputId": "7787bea7-a5b4-4eb9-f3a8-c74d5377d2ae"
      },
      "execution_count": null,
      "outputs": [
        {
          "output_type": "stream",
          "name": "stdout",
          "text": [
            "Train Index: [  0   1   2   3   5   6   7   8   9  10  11  12  13  15  16  17  18  19\n",
            "  20  21  22  23  24  26  27  28  30  31  32  33  34  35  36  37  38  39\n",
            "  42  43  44  46  47  49  50  51  52  53  54  56  57  58  59  60  61  62\n",
            "  63  64  65  66  67  68  69  70  71  72  73  74  75  76  77  78  79  80\n",
            "  81  82  83  84  85  86  87  89  90  91  92  93  94  96  97  98  99 101\n",
            " 102 103 104 105 106 107 108 109 110 111 113 114 115 116 117 118 119 120\n",
            " 121 122 123 125 126 127 128 129 130 131 133 136 137 138 139 140 141 142\n",
            " 143 144 145 146 147 148 149 150 151 152 153 154 155 156 157 158 159 160\n",
            " 161 162 165 166 167 168 169 170 171 172 173 174 175 176 177 178 179 181\n",
            " 182 183 184 185 186 187 188 189 190 191 192 193 194 195 197 198 199 200\n",
            " 201 202 203 204 205 206], size: 186\n",
            "Test Index: [  4  14  25  29  40  41  45  48  55  88  95 100 112 124 132 134 135 163\n",
            " 164 180 196], size: 21\n",
            "Length of the dataset: 207\n",
            "IMAGE SIZE : torch.Size([50, 51, 32, 32])\n",
            "LABEL SIZE :  torch.Size([50, 1])\n",
            "NETWORK LOADED\n",
            "MODEL TRAINING STARTS\n",
            "Running epoch  0  of  10\n"
          ]
        },
        {
          "output_type": "stream",
          "name": "stderr",
          "text": [
            "/usr/local/lib/python3.7/dist-packages/ipykernel_launcher.py:79: UserWarning: To copy construct from a tensor, it is recommended to use sourceTensor.clone().detach() or sourceTensor.clone().detach().requires_grad_(True), rather than torch.tensor(sourceTensor).\n",
            "/usr/local/lib/python3.7/dist-packages/ipykernel_launcher.py:80: UserWarning: To copy construct from a tensor, it is recommended to use sourceTensor.clone().detach() or sourceTensor.clone().detach().requires_grad_(True), rather than torch.tensor(sourceTensor).\n"
          ]
        },
        {
          "output_type": "stream",
          "name": "stdout",
          "text": [
            "y shape torch.Size([50])\n",
            "x shape torch.Size([50, 2])\n",
            "y shape torch.Size([50])\n",
            "x shape torch.Size([50, 2])\n",
            "y shape torch.Size([50])\n",
            "x shape torch.Size([50, 2])\n",
            "y shape torch.Size([36])\n",
            "x shape torch.Size([36, 2])\n",
            "Training loss : 3.0070481300354004, training accuracy : 5.25, training BAC: 0.523121387283237 after epoch : 0\n",
            "EPOCHHH DONE NEXT UP \n"
          ]
        },
        {
          "output_type": "stream",
          "name": "stderr",
          "text": [
            "/usr/local/lib/python3.7/dist-packages/ipykernel_launcher.py:151: UserWarning: To copy construct from a tensor, it is recommended to use sourceTensor.clone().detach() or sourceTensor.clone().detach().requires_grad_(True), rather than torch.tensor(sourceTensor).\n",
            "/usr/local/lib/python3.7/dist-packages/ipykernel_launcher.py:152: UserWarning: To copy construct from a tensor, it is recommended to use sourceTensor.clone().detach() or sourceTensor.clone().detach().requires_grad_(True), rather than torch.tensor(sourceTensor).\n"
          ]
        },
        {
          "output_type": "stream",
          "name": "stdout",
          "text": [
            "Val Actual: \n",
            "[1.0, 1.0, 0.0, 0.0, 0.0, 0.0, 0.0, 0.0, 0.0, 0.0, 0.0, 0.0, 0.0, 0.0, 0.0, 0.0, 0.0, 0.0, 0.0, 0.0, 0.0]\n",
            "Val Predict: \n",
            "[1, 1, 1, 0, 1, 1, 1, 1, 0, 1, 1, 1, 0, 1, 1, 1, 1, 1, 0, 1, 1]\n",
            "Validation loss : 0.7352715730667114, validation accuracy : 6.0, bac score : 0.6052631578947368  after epoch : 0\n",
            "Running epoch  1  of  10\n"
          ]
        },
        {
          "output_type": "stream",
          "name": "stderr",
          "text": [
            "/usr/local/lib/python3.7/dist-packages/ipykernel_launcher.py:79: UserWarning: To copy construct from a tensor, it is recommended to use sourceTensor.clone().detach() or sourceTensor.clone().detach().requires_grad_(True), rather than torch.tensor(sourceTensor).\n",
            "/usr/local/lib/python3.7/dist-packages/ipykernel_launcher.py:80: UserWarning: To copy construct from a tensor, it is recommended to use sourceTensor.clone().detach() or sourceTensor.clone().detach().requires_grad_(True), rather than torch.tensor(sourceTensor).\n"
          ]
        },
        {
          "output_type": "stream",
          "name": "stdout",
          "text": [
            "y shape torch.Size([50])\n",
            "x shape torch.Size([50, 2])\n",
            "y shape torch.Size([50])\n",
            "x shape torch.Size([50, 2])\n",
            "y shape torch.Size([50])\n",
            "x shape torch.Size([50, 2])\n",
            "y shape torch.Size([36])\n",
            "x shape torch.Size([36, 2])\n",
            "Training loss : 3.0226650834083557, training accuracy : 4.0, training BAC: 0.47309915518008006 after epoch : 1\n",
            "EPOCHHH DONE NEXT UP \n"
          ]
        },
        {
          "output_type": "stream",
          "name": "stderr",
          "text": [
            "/usr/local/lib/python3.7/dist-packages/ipykernel_launcher.py:151: UserWarning: To copy construct from a tensor, it is recommended to use sourceTensor.clone().detach() or sourceTensor.clone().detach().requires_grad_(True), rather than torch.tensor(sourceTensor).\n",
            "/usr/local/lib/python3.7/dist-packages/ipykernel_launcher.py:152: UserWarning: To copy construct from a tensor, it is recommended to use sourceTensor.clone().detach() or sourceTensor.clone().detach().requires_grad_(True), rather than torch.tensor(sourceTensor).\n"
          ]
        },
        {
          "output_type": "stream",
          "name": "stdout",
          "text": [
            "Val Actual: \n",
            "[1.0, 1.0, 0.0, 0.0, 0.0, 0.0, 0.0, 0.0, 0.0, 0.0, 0.0, 0.0, 0.0, 0.0, 0.0, 0.0, 0.0, 0.0, 0.0, 0.0, 0.0]\n",
            "Val Predict: \n",
            "[1, 1, 1, 1, 1, 0, 1, 1, 1, 1, 1, 1, 1, 1, 1, 1, 1, 1, 0, 1, 1]\n",
            "Validation loss : 0.754971444606781, validation accuracy : 4.0, bac score : 0.5526315789473684  after epoch : 1\n",
            "Running epoch  2  of  10\n"
          ]
        },
        {
          "output_type": "stream",
          "name": "stderr",
          "text": [
            "/usr/local/lib/python3.7/dist-packages/ipykernel_launcher.py:79: UserWarning: To copy construct from a tensor, it is recommended to use sourceTensor.clone().detach() or sourceTensor.clone().detach().requires_grad_(True), rather than torch.tensor(sourceTensor).\n",
            "/usr/local/lib/python3.7/dist-packages/ipykernel_launcher.py:80: UserWarning: To copy construct from a tensor, it is recommended to use sourceTensor.clone().detach() or sourceTensor.clone().detach().requires_grad_(True), rather than torch.tensor(sourceTensor).\n"
          ]
        },
        {
          "output_type": "stream",
          "name": "stdout",
          "text": [
            "y shape torch.Size([50])\n",
            "x shape torch.Size([50, 2])\n",
            "y shape torch.Size([50])\n",
            "x shape torch.Size([50, 2])\n",
            "y shape torch.Size([50])\n",
            "x shape torch.Size([50, 2])\n",
            "y shape torch.Size([36])\n",
            "x shape torch.Size([36, 2])\n",
            "Training loss : 3.0223055481910706, training accuracy : 4.75, training BAC: 0.5173410404624278 after epoch : 2\n",
            "EPOCHHH DONE NEXT UP \n"
          ]
        },
        {
          "output_type": "stream",
          "name": "stderr",
          "text": [
            "/usr/local/lib/python3.7/dist-packages/ipykernel_launcher.py:151: UserWarning: To copy construct from a tensor, it is recommended to use sourceTensor.clone().detach() or sourceTensor.clone().detach().requires_grad_(True), rather than torch.tensor(sourceTensor).\n",
            "/usr/local/lib/python3.7/dist-packages/ipykernel_launcher.py:152: UserWarning: To copy construct from a tensor, it is recommended to use sourceTensor.clone().detach() or sourceTensor.clone().detach().requires_grad_(True), rather than torch.tensor(sourceTensor).\n"
          ]
        },
        {
          "output_type": "stream",
          "name": "stdout",
          "text": [
            "Val Actual: \n",
            "[1.0, 1.0, 0.0, 0.0, 0.0, 0.0, 0.0, 0.0, 0.0, 0.0, 0.0, 0.0, 0.0, 0.0, 0.0, 0.0, 0.0, 0.0, 0.0, 0.0, 0.0]\n",
            "Val Predict: \n",
            "[1, 1, 1, 1, 1, 0, 1, 1, 1, 1, 1, 1, 0, 1, 1, 1, 1, 1, 0, 1, 1]\n",
            "Validation loss : 0.7439343333244324, validation accuracy : 5.0, bac score : 0.5789473684210527  after epoch : 2\n",
            "Running epoch  3  of  10\n"
          ]
        },
        {
          "output_type": "stream",
          "name": "stderr",
          "text": [
            "/usr/local/lib/python3.7/dist-packages/ipykernel_launcher.py:79: UserWarning: To copy construct from a tensor, it is recommended to use sourceTensor.clone().detach() or sourceTensor.clone().detach().requires_grad_(True), rather than torch.tensor(sourceTensor).\n",
            "/usr/local/lib/python3.7/dist-packages/ipykernel_launcher.py:80: UserWarning: To copy construct from a tensor, it is recommended to use sourceTensor.clone().detach() or sourceTensor.clone().detach().requires_grad_(True), rather than torch.tensor(sourceTensor).\n"
          ]
        },
        {
          "output_type": "stream",
          "name": "stdout",
          "text": [
            "y shape torch.Size([50])\n",
            "x shape torch.Size([50, 2])\n",
            "y shape torch.Size([50])\n",
            "x shape torch.Size([50, 2])\n",
            "y shape torch.Size([50])\n",
            "x shape torch.Size([50, 2])\n",
            "y shape torch.Size([36])\n",
            "x shape torch.Size([36, 2])\n",
            "Training loss : 3.0107550024986267, training accuracy : 5.25, training BAC: 0.523121387283237 after epoch : 3\n",
            "EPOCHHH DONE NEXT UP \n"
          ]
        },
        {
          "output_type": "stream",
          "name": "stderr",
          "text": [
            "/usr/local/lib/python3.7/dist-packages/ipykernel_launcher.py:151: UserWarning: To copy construct from a tensor, it is recommended to use sourceTensor.clone().detach() or sourceTensor.clone().detach().requires_grad_(True), rather than torch.tensor(sourceTensor).\n",
            "/usr/local/lib/python3.7/dist-packages/ipykernel_launcher.py:152: UserWarning: To copy construct from a tensor, it is recommended to use sourceTensor.clone().detach() or sourceTensor.clone().detach().requires_grad_(True), rather than torch.tensor(sourceTensor).\n"
          ]
        },
        {
          "output_type": "stream",
          "name": "stdout",
          "text": [
            "Val Actual: \n",
            "[1.0, 1.0, 0.0, 0.0, 0.0, 0.0, 0.0, 0.0, 0.0, 0.0, 0.0, 0.0, 0.0, 0.0, 0.0, 0.0, 0.0, 0.0, 0.0, 0.0, 0.0]\n",
            "Val Predict: \n",
            "[1, 1, 1, 1, 1, 1, 1, 1, 0, 1, 1, 1, 1, 1, 1, 1, 1, 1, 0, 1, 1]\n",
            "Validation loss : 0.7316529154777527, validation accuracy : 4.0, bac score : 0.5526315789473684  after epoch : 3\n",
            "Running epoch  4  of  10\n"
          ]
        },
        {
          "output_type": "stream",
          "name": "stderr",
          "text": [
            "/usr/local/lib/python3.7/dist-packages/ipykernel_launcher.py:79: UserWarning: To copy construct from a tensor, it is recommended to use sourceTensor.clone().detach() or sourceTensor.clone().detach().requires_grad_(True), rather than torch.tensor(sourceTensor).\n",
            "/usr/local/lib/python3.7/dist-packages/ipykernel_launcher.py:80: UserWarning: To copy construct from a tensor, it is recommended to use sourceTensor.clone().detach() or sourceTensor.clone().detach().requires_grad_(True), rather than torch.tensor(sourceTensor).\n"
          ]
        },
        {
          "output_type": "stream",
          "name": "stdout",
          "text": [
            "y shape torch.Size([50])\n",
            "x shape torch.Size([50, 2])\n",
            "y shape torch.Size([50])\n",
            "x shape torch.Size([50, 2])\n",
            "y shape torch.Size([50])\n",
            "x shape torch.Size([50, 2])\n",
            "y shape torch.Size([36])\n",
            "x shape torch.Size([36, 2])\n",
            "Training loss : 3.035850763320923, training accuracy : 5.0, training BAC: 0.48465984882169855 after epoch : 4\n",
            "EPOCHHH DONE NEXT UP \n"
          ]
        },
        {
          "output_type": "stream",
          "name": "stderr",
          "text": [
            "/usr/local/lib/python3.7/dist-packages/ipykernel_launcher.py:151: UserWarning: To copy construct from a tensor, it is recommended to use sourceTensor.clone().detach() or sourceTensor.clone().detach().requires_grad_(True), rather than torch.tensor(sourceTensor).\n",
            "/usr/local/lib/python3.7/dist-packages/ipykernel_launcher.py:152: UserWarning: To copy construct from a tensor, it is recommended to use sourceTensor.clone().detach() or sourceTensor.clone().detach().requires_grad_(True), rather than torch.tensor(sourceTensor).\n"
          ]
        },
        {
          "output_type": "stream",
          "name": "stdout",
          "text": [
            "Val Actual: \n",
            "[1.0, 1.0, 0.0, 0.0, 0.0, 0.0, 0.0, 0.0, 0.0, 0.0, 0.0, 0.0, 0.0, 0.0, 0.0, 0.0, 0.0, 0.0, 0.0, 0.0, 0.0]\n",
            "Val Predict: \n",
            "[1, 1, 1, 1, 1, 0, 1, 1, 0, 1, 1, 1, 1, 1, 1, 1, 1, 1, 1, 1, 1]\n",
            "Validation loss : 0.7440499067306519, validation accuracy : 4.0, bac score : 0.5526315789473684  after epoch : 4\n",
            "Running epoch  5  of  10\n"
          ]
        },
        {
          "output_type": "stream",
          "name": "stderr",
          "text": [
            "/usr/local/lib/python3.7/dist-packages/ipykernel_launcher.py:79: UserWarning: To copy construct from a tensor, it is recommended to use sourceTensor.clone().detach() or sourceTensor.clone().detach().requires_grad_(True), rather than torch.tensor(sourceTensor).\n",
            "/usr/local/lib/python3.7/dist-packages/ipykernel_launcher.py:80: UserWarning: To copy construct from a tensor, it is recommended to use sourceTensor.clone().detach() or sourceTensor.clone().detach().requires_grad_(True), rather than torch.tensor(sourceTensor).\n"
          ]
        },
        {
          "output_type": "stream",
          "name": "stdout",
          "text": [
            "y shape torch.Size([50])\n",
            "x shape torch.Size([50, 2])\n",
            "y shape torch.Size([50])\n",
            "x shape torch.Size([50, 2])\n",
            "y shape torch.Size([50])\n",
            "x shape torch.Size([50, 2])\n",
            "y shape torch.Size([36])\n",
            "x shape torch.Size([36, 2])\n",
            "Training loss : 3.0128093361854553, training accuracy : 5.0, training BAC: 0.48465984882169855 after epoch : 5\n",
            "EPOCHHH DONE NEXT UP \n"
          ]
        },
        {
          "output_type": "stream",
          "name": "stderr",
          "text": [
            "/usr/local/lib/python3.7/dist-packages/ipykernel_launcher.py:151: UserWarning: To copy construct from a tensor, it is recommended to use sourceTensor.clone().detach() or sourceTensor.clone().detach().requires_grad_(True), rather than torch.tensor(sourceTensor).\n",
            "/usr/local/lib/python3.7/dist-packages/ipykernel_launcher.py:152: UserWarning: To copy construct from a tensor, it is recommended to use sourceTensor.clone().detach() or sourceTensor.clone().detach().requires_grad_(True), rather than torch.tensor(sourceTensor).\n"
          ]
        },
        {
          "output_type": "stream",
          "name": "stdout",
          "text": [
            "Val Actual: \n",
            "[1.0, 1.0, 0.0, 0.0, 0.0, 0.0, 0.0, 0.0, 0.0, 0.0, 0.0, 0.0, 0.0, 0.0, 0.0, 0.0, 0.0, 0.0, 0.0, 0.0, 0.0]\n",
            "Val Predict: \n",
            "[1, 1, 1, 1, 1, 1, 1, 1, 0, 1, 1, 1, 0, 1, 1, 1, 1, 1, 1, 1, 1]\n",
            "Validation loss : 0.7527917623519897, validation accuracy : 4.0, bac score : 0.5526315789473684  after epoch : 5\n",
            "Running epoch  6  of  10\n"
          ]
        },
        {
          "output_type": "stream",
          "name": "stderr",
          "text": [
            "/usr/local/lib/python3.7/dist-packages/ipykernel_launcher.py:79: UserWarning: To copy construct from a tensor, it is recommended to use sourceTensor.clone().detach() or sourceTensor.clone().detach().requires_grad_(True), rather than torch.tensor(sourceTensor).\n",
            "/usr/local/lib/python3.7/dist-packages/ipykernel_launcher.py:80: UserWarning: To copy construct from a tensor, it is recommended to use sourceTensor.clone().detach() or sourceTensor.clone().detach().requires_grad_(True), rather than torch.tensor(sourceTensor).\n"
          ]
        },
        {
          "output_type": "stream",
          "name": "stdout",
          "text": [
            "y shape torch.Size([50])\n",
            "x shape torch.Size([50, 2])\n",
            "y shape torch.Size([50])\n",
            "x shape torch.Size([50, 2])\n",
            "y shape torch.Size([50])\n",
            "x shape torch.Size([50, 2])\n",
            "y shape torch.Size([36])\n",
            "x shape torch.Size([36, 2])\n",
            "Training loss : 3.0164753198623657, training accuracy : 4.5, training BAC: 0.5144508670520231 after epoch : 6\n",
            "EPOCHHH DONE NEXT UP \n"
          ]
        },
        {
          "output_type": "stream",
          "name": "stderr",
          "text": [
            "/usr/local/lib/python3.7/dist-packages/ipykernel_launcher.py:151: UserWarning: To copy construct from a tensor, it is recommended to use sourceTensor.clone().detach() or sourceTensor.clone().detach().requires_grad_(True), rather than torch.tensor(sourceTensor).\n",
            "/usr/local/lib/python3.7/dist-packages/ipykernel_launcher.py:152: UserWarning: To copy construct from a tensor, it is recommended to use sourceTensor.clone().detach() or sourceTensor.clone().detach().requires_grad_(True), rather than torch.tensor(sourceTensor).\n"
          ]
        },
        {
          "output_type": "stream",
          "name": "stdout",
          "text": [
            "Val Actual: \n",
            "[1.0, 1.0, 0.0, 0.0, 0.0, 0.0, 0.0, 0.0, 0.0, 0.0, 0.0, 0.0, 0.0, 0.0, 0.0, 0.0, 0.0, 0.0, 0.0, 0.0, 0.0]\n",
            "Val Predict: \n",
            "[1, 1, 1, 1, 1, 1, 1, 1, 1, 1, 1, 1, 0, 1, 1, 1, 1, 1, 1, 1, 1]\n",
            "Validation loss : 0.7574000954627991, validation accuracy : 3.0, bac score : 0.5263157894736842  after epoch : 6\n",
            "Running epoch  7  of  10\n"
          ]
        },
        {
          "output_type": "stream",
          "name": "stderr",
          "text": [
            "/usr/local/lib/python3.7/dist-packages/ipykernel_launcher.py:79: UserWarning: To copy construct from a tensor, it is recommended to use sourceTensor.clone().detach() or sourceTensor.clone().detach().requires_grad_(True), rather than torch.tensor(sourceTensor).\n",
            "/usr/local/lib/python3.7/dist-packages/ipykernel_launcher.py:80: UserWarning: To copy construct from a tensor, it is recommended to use sourceTensor.clone().detach() or sourceTensor.clone().detach().requires_grad_(True), rather than torch.tensor(sourceTensor).\n"
          ]
        },
        {
          "output_type": "stream",
          "name": "stdout",
          "text": [
            "y shape torch.Size([50])\n",
            "x shape torch.Size([50, 2])\n",
            "y shape torch.Size([50])\n",
            "x shape torch.Size([50, 2])\n",
            "y shape torch.Size([50])\n",
            "x shape torch.Size([50, 2])\n",
            "y shape torch.Size([36])\n",
            "x shape torch.Size([36, 2])\n",
            "Training loss : 3.004321038722992, training accuracy : 4.5, training BAC: 0.5144508670520231 after epoch : 7\n",
            "EPOCHHH DONE NEXT UP \n"
          ]
        },
        {
          "output_type": "stream",
          "name": "stderr",
          "text": [
            "/usr/local/lib/python3.7/dist-packages/ipykernel_launcher.py:151: UserWarning: To copy construct from a tensor, it is recommended to use sourceTensor.clone().detach() or sourceTensor.clone().detach().requires_grad_(True), rather than torch.tensor(sourceTensor).\n",
            "/usr/local/lib/python3.7/dist-packages/ipykernel_launcher.py:152: UserWarning: To copy construct from a tensor, it is recommended to use sourceTensor.clone().detach() or sourceTensor.clone().detach().requires_grad_(True), rather than torch.tensor(sourceTensor).\n"
          ]
        },
        {
          "output_type": "stream",
          "name": "stdout",
          "text": [
            "Val Actual: \n",
            "[1.0, 1.0, 0.0, 0.0, 0.0, 0.0, 0.0, 0.0, 0.0, 0.0, 0.0, 0.0, 0.0, 0.0, 0.0, 0.0, 0.0, 0.0, 0.0, 0.0, 0.0]\n",
            "Val Predict: \n",
            "[1, 1, 1, 1, 1, 0, 1, 1, 1, 1, 1, 1, 0, 1, 1, 1, 1, 1, 1, 1, 1]\n",
            "Validation loss : 0.7393051981925964, validation accuracy : 4.0, bac score : 0.5526315789473684  after epoch : 7\n",
            "Running epoch  8  of  10\n"
          ]
        },
        {
          "output_type": "stream",
          "name": "stderr",
          "text": [
            "/usr/local/lib/python3.7/dist-packages/ipykernel_launcher.py:79: UserWarning: To copy construct from a tensor, it is recommended to use sourceTensor.clone().detach() or sourceTensor.clone().detach().requires_grad_(True), rather than torch.tensor(sourceTensor).\n",
            "/usr/local/lib/python3.7/dist-packages/ipykernel_launcher.py:80: UserWarning: To copy construct from a tensor, it is recommended to use sourceTensor.clone().detach() or sourceTensor.clone().detach().requires_grad_(True), rather than torch.tensor(sourceTensor).\n"
          ]
        },
        {
          "output_type": "stream",
          "name": "stdout",
          "text": [
            "y shape torch.Size([50])\n",
            "x shape torch.Size([50, 2])\n",
            "y shape torch.Size([50])\n",
            "x shape torch.Size([50, 2])\n",
            "y shape torch.Size([50])\n",
            "x shape torch.Size([50, 2])\n",
            "y shape torch.Size([36])\n",
            "x shape torch.Size([36, 2])\n",
            "Training loss : 3.006219983100891, training accuracy : 4.25, training BAC: 0.5115606936416185 after epoch : 8\n",
            "EPOCHHH DONE NEXT UP \n"
          ]
        },
        {
          "output_type": "stream",
          "name": "stderr",
          "text": [
            "/usr/local/lib/python3.7/dist-packages/ipykernel_launcher.py:151: UserWarning: To copy construct from a tensor, it is recommended to use sourceTensor.clone().detach() or sourceTensor.clone().detach().requires_grad_(True), rather than torch.tensor(sourceTensor).\n",
            "/usr/local/lib/python3.7/dist-packages/ipykernel_launcher.py:152: UserWarning: To copy construct from a tensor, it is recommended to use sourceTensor.clone().detach() or sourceTensor.clone().detach().requires_grad_(True), rather than torch.tensor(sourceTensor).\n"
          ]
        },
        {
          "output_type": "stream",
          "name": "stdout",
          "text": [
            "Val Actual: \n",
            "[1.0, 1.0, 0.0, 0.0, 0.0, 0.0, 0.0, 0.0, 0.0, 0.0, 0.0, 0.0, 0.0, 0.0, 0.0, 0.0, 0.0, 0.0, 0.0, 0.0, 0.0]\n",
            "Val Predict: \n",
            "[1, 1, 1, 1, 1, 1, 1, 1, 1, 1, 1, 1, 0, 1, 1, 1, 1, 1, 1, 1, 1]\n",
            "Validation loss : 0.7441815137863159, validation accuracy : 3.0, bac score : 0.5263157894736842  after epoch : 8\n",
            "Running epoch  9  of  10\n"
          ]
        },
        {
          "output_type": "stream",
          "name": "stderr",
          "text": [
            "/usr/local/lib/python3.7/dist-packages/ipykernel_launcher.py:79: UserWarning: To copy construct from a tensor, it is recommended to use sourceTensor.clone().detach() or sourceTensor.clone().detach().requires_grad_(True), rather than torch.tensor(sourceTensor).\n",
            "/usr/local/lib/python3.7/dist-packages/ipykernel_launcher.py:80: UserWarning: To copy construct from a tensor, it is recommended to use sourceTensor.clone().detach() or sourceTensor.clone().detach().requires_grad_(True), rather than torch.tensor(sourceTensor).\n"
          ]
        },
        {
          "output_type": "stream",
          "name": "stdout",
          "text": [
            "y shape torch.Size([50])\n",
            "x shape torch.Size([50, 2])\n",
            "y shape torch.Size([50])\n",
            "x shape torch.Size([50, 2])\n",
            "y shape torch.Size([50])\n",
            "x shape torch.Size([50, 2])\n",
            "y shape torch.Size([36])\n",
            "x shape torch.Size([36, 2])\n",
            "Training loss : 3.011962056159973, training accuracy : 5.25, training BAC: 0.523121387283237 after epoch : 9\n",
            "EPOCHHH DONE NEXT UP \n"
          ]
        },
        {
          "output_type": "stream",
          "name": "stderr",
          "text": [
            "/usr/local/lib/python3.7/dist-packages/ipykernel_launcher.py:151: UserWarning: To copy construct from a tensor, it is recommended to use sourceTensor.clone().detach() or sourceTensor.clone().detach().requires_grad_(True), rather than torch.tensor(sourceTensor).\n",
            "/usr/local/lib/python3.7/dist-packages/ipykernel_launcher.py:152: UserWarning: To copy construct from a tensor, it is recommended to use sourceTensor.clone().detach() or sourceTensor.clone().detach().requires_grad_(True), rather than torch.tensor(sourceTensor).\n"
          ]
        },
        {
          "output_type": "stream",
          "name": "stdout",
          "text": [
            "Val Actual: \n",
            "[1.0, 1.0, 0.0, 0.0, 0.0, 0.0, 0.0, 0.0, 0.0, 0.0, 0.0, 0.0, 0.0, 0.0, 0.0, 0.0, 0.0, 0.0, 0.0, 0.0, 0.0]\n",
            "Val Predict: \n",
            "[1, 1, 1, 1, 1, 1, 1, 1, 1, 1, 1, 1, 1, 1, 1, 1, 1, 1, 1, 1, 1]\n",
            "Validation loss : 0.7634704113006592, validation accuracy : 2.0, bac score : 0.5  after epoch : 9\n",
            "MODEL TRAINING IS FINISHED!\n",
            "Train Index: [  0   1   2   4   5   6   7   8   9  10  12  13  14  15  16  17  18  19\n",
            "  20  21  22  23  24  25  26  27  28  29  30  31  32  33  35  37  38  39\n",
            "  40  41  44  45  47  48  49  51  52  53  54  55  56  57  58  59  60  61\n",
            "  62  63  64  65  66  67  68  69  70  71  72  73  74  76  77  78  79  81\n",
            "  82  84  85  86  87  88  89  90  91  93  94  95  96  97  98 100 101 102\n",
            " 103 104 105 106 107 108 109 110 111 112 113 114 115 117 119 120 121 122\n",
            " 124 125 126 127 128 130 131 132 133 134 135 136 137 138 139 140 141 142\n",
            " 143 144 145 146 147 148 149 151 152 153 154 155 156 158 159 160 161 162\n",
            " 163 164 165 166 167 168 170 171 172 173 174 175 176 177 179 180 181 182\n",
            " 183 184 185 186 187 188 189 190 191 192 193 194 195 196 197 198 199 200\n",
            " 201 202 203 204 205 206], size: 186\n",
            "Test Index: [  3  11  34  36  42  43  46  50  75  80  83  92  99 116 118 123 129 150\n",
            " 157 169 178], size: 21\n",
            "Length of the dataset: 207\n",
            "IMAGE SIZE : torch.Size([50, 51, 32, 32])\n",
            "LABEL SIZE :  torch.Size([50, 1])\n",
            "NETWORK LOADED\n",
            "MODEL TRAINING STARTS\n",
            "Running epoch  0  of  10\n"
          ]
        },
        {
          "output_type": "stream",
          "name": "stderr",
          "text": [
            "/usr/local/lib/python3.7/dist-packages/ipykernel_launcher.py:79: UserWarning: To copy construct from a tensor, it is recommended to use sourceTensor.clone().detach() or sourceTensor.clone().detach().requires_grad_(True), rather than torch.tensor(sourceTensor).\n",
            "/usr/local/lib/python3.7/dist-packages/ipykernel_launcher.py:80: UserWarning: To copy construct from a tensor, it is recommended to use sourceTensor.clone().detach() or sourceTensor.clone().detach().requires_grad_(True), rather than torch.tensor(sourceTensor).\n"
          ]
        },
        {
          "output_type": "stream",
          "name": "stdout",
          "text": [
            "y shape torch.Size([50])\n",
            "x shape torch.Size([50, 2])\n",
            "y shape torch.Size([50])\n",
            "x shape torch.Size([50, 2])\n",
            "y shape torch.Size([50])\n",
            "x shape torch.Size([50, 2])\n",
            "y shape torch.Size([36])\n",
            "x shape torch.Size([36, 2])\n",
            "Training loss : 2.9036319255828857, training accuracy : 6.0, training BAC: 0.5317919075144508 after epoch : 0\n",
            "EPOCHHH DONE NEXT UP \n"
          ]
        },
        {
          "output_type": "stream",
          "name": "stderr",
          "text": [
            "/usr/local/lib/python3.7/dist-packages/ipykernel_launcher.py:151: UserWarning: To copy construct from a tensor, it is recommended to use sourceTensor.clone().detach() or sourceTensor.clone().detach().requires_grad_(True), rather than torch.tensor(sourceTensor).\n",
            "/usr/local/lib/python3.7/dist-packages/ipykernel_launcher.py:152: UserWarning: To copy construct from a tensor, it is recommended to use sourceTensor.clone().detach() or sourceTensor.clone().detach().requires_grad_(True), rather than torch.tensor(sourceTensor).\n"
          ]
        },
        {
          "output_type": "stream",
          "name": "stdout",
          "text": [
            "Val Actual: \n",
            "[1.0, 1.0, 0.0, 0.0, 0.0, 0.0, 0.0, 0.0, 0.0, 0.0, 0.0, 0.0, 0.0, 0.0, 0.0, 0.0, 0.0, 0.0, 0.0, 0.0, 0.0]\n",
            "Val Predict: \n",
            "[1, 1, 1, 1, 0, 1, 1, 1, 1, 1, 1, 1, 1, 1, 1, 0, 1, 1, 1, 1, 1]\n",
            "Validation loss : 0.727378785610199, validation accuracy : 4.0, bac score : 0.5526315789473684  after epoch : 0\n",
            "Running epoch  1  of  10\n"
          ]
        },
        {
          "output_type": "stream",
          "name": "stderr",
          "text": [
            "/usr/local/lib/python3.7/dist-packages/ipykernel_launcher.py:79: UserWarning: To copy construct from a tensor, it is recommended to use sourceTensor.clone().detach() or sourceTensor.clone().detach().requires_grad_(True), rather than torch.tensor(sourceTensor).\n",
            "/usr/local/lib/python3.7/dist-packages/ipykernel_launcher.py:80: UserWarning: To copy construct from a tensor, it is recommended to use sourceTensor.clone().detach() or sourceTensor.clone().detach().requires_grad_(True), rather than torch.tensor(sourceTensor).\n"
          ]
        },
        {
          "output_type": "stream",
          "name": "stdout",
          "text": [
            "y shape torch.Size([50])\n",
            "x shape torch.Size([50, 2])\n",
            "y shape torch.Size([50])\n",
            "x shape torch.Size([50, 2])\n",
            "y shape torch.Size([50])\n",
            "x shape torch.Size([50, 2])\n",
            "y shape torch.Size([36])\n",
            "x shape torch.Size([36, 2])\n",
            "Training loss : 2.906955897808075, training accuracy : 6.0, training BAC: 0.49622054246331704 after epoch : 1\n",
            "EPOCHHH DONE NEXT UP \n"
          ]
        },
        {
          "output_type": "stream",
          "name": "stderr",
          "text": [
            "/usr/local/lib/python3.7/dist-packages/ipykernel_launcher.py:151: UserWarning: To copy construct from a tensor, it is recommended to use sourceTensor.clone().detach() or sourceTensor.clone().detach().requires_grad_(True), rather than torch.tensor(sourceTensor).\n",
            "/usr/local/lib/python3.7/dist-packages/ipykernel_launcher.py:152: UserWarning: To copy construct from a tensor, it is recommended to use sourceTensor.clone().detach() or sourceTensor.clone().detach().requires_grad_(True), rather than torch.tensor(sourceTensor).\n"
          ]
        },
        {
          "output_type": "stream",
          "name": "stdout",
          "text": [
            "Val Actual: \n",
            "[1.0, 1.0, 0.0, 0.0, 0.0, 0.0, 0.0, 0.0, 0.0, 0.0, 0.0, 0.0, 0.0, 0.0, 0.0, 0.0, 0.0, 0.0, 0.0, 0.0, 0.0]\n",
            "Val Predict: \n",
            "[1, 1, 1, 1, 0, 1, 0, 1, 1, 1, 1, 1, 1, 1, 1, 1, 1, 1, 1, 1, 1]\n",
            "Validation loss : 0.7258414626121521, validation accuracy : 4.0, bac score : 0.5526315789473684  after epoch : 1\n",
            "Running epoch  2  of  10\n"
          ]
        },
        {
          "output_type": "stream",
          "name": "stderr",
          "text": [
            "/usr/local/lib/python3.7/dist-packages/ipykernel_launcher.py:79: UserWarning: To copy construct from a tensor, it is recommended to use sourceTensor.clone().detach() or sourceTensor.clone().detach().requires_grad_(True), rather than torch.tensor(sourceTensor).\n",
            "/usr/local/lib/python3.7/dist-packages/ipykernel_launcher.py:80: UserWarning: To copy construct from a tensor, it is recommended to use sourceTensor.clone().detach() or sourceTensor.clone().detach().requires_grad_(True), rather than torch.tensor(sourceTensor).\n"
          ]
        },
        {
          "output_type": "stream",
          "name": "stdout",
          "text": [
            "y shape torch.Size([50])\n",
            "x shape torch.Size([50, 2])\n",
            "y shape torch.Size([50])\n",
            "x shape torch.Size([50, 2])\n",
            "y shape torch.Size([50])\n",
            "x shape torch.Size([50, 2])\n",
            "y shape torch.Size([36])\n",
            "x shape torch.Size([36, 2])\n",
            "Training loss : 2.9071484804153442, training accuracy : 5.75, training BAC: 0.49333036905291244 after epoch : 2\n",
            "EPOCHHH DONE NEXT UP \n"
          ]
        },
        {
          "output_type": "stream",
          "name": "stderr",
          "text": [
            "/usr/local/lib/python3.7/dist-packages/ipykernel_launcher.py:151: UserWarning: To copy construct from a tensor, it is recommended to use sourceTensor.clone().detach() or sourceTensor.clone().detach().requires_grad_(True), rather than torch.tensor(sourceTensor).\n",
            "/usr/local/lib/python3.7/dist-packages/ipykernel_launcher.py:152: UserWarning: To copy construct from a tensor, it is recommended to use sourceTensor.clone().detach() or sourceTensor.clone().detach().requires_grad_(True), rather than torch.tensor(sourceTensor).\n"
          ]
        },
        {
          "output_type": "stream",
          "name": "stdout",
          "text": [
            "Val Actual: \n",
            "[1.0, 1.0, 0.0, 0.0, 0.0, 0.0, 0.0, 0.0, 0.0, 0.0, 0.0, 0.0, 0.0, 0.0, 0.0, 0.0, 0.0, 0.0, 0.0, 0.0, 0.0]\n",
            "Val Predict: \n",
            "[1, 1, 1, 1, 1, 1, 0, 1, 1, 1, 1, 1, 1, 1, 1, 1, 1, 1, 1, 1, 1]\n",
            "Validation loss : 0.7243152856826782, validation accuracy : 3.0, bac score : 0.5263157894736842  after epoch : 2\n",
            "Running epoch  3  of  10\n"
          ]
        },
        {
          "output_type": "stream",
          "name": "stderr",
          "text": [
            "/usr/local/lib/python3.7/dist-packages/ipykernel_launcher.py:79: UserWarning: To copy construct from a tensor, it is recommended to use sourceTensor.clone().detach() or sourceTensor.clone().detach().requires_grad_(True), rather than torch.tensor(sourceTensor).\n",
            "/usr/local/lib/python3.7/dist-packages/ipykernel_launcher.py:80: UserWarning: To copy construct from a tensor, it is recommended to use sourceTensor.clone().detach() or sourceTensor.clone().detach().requires_grad_(True), rather than torch.tensor(sourceTensor).\n"
          ]
        },
        {
          "output_type": "stream",
          "name": "stdout",
          "text": [
            "y shape torch.Size([50])\n",
            "x shape torch.Size([50, 2])\n",
            "y shape torch.Size([50])\n",
            "x shape torch.Size([50, 2])\n",
            "y shape torch.Size([50])\n",
            "x shape torch.Size([50, 2])\n",
            "y shape torch.Size([36])\n",
            "x shape torch.Size([36, 2])\n",
            "Training loss : 2.9114046692848206, training accuracy : 7.0, training BAC: 0.5433526011560693 after epoch : 3\n",
            "EPOCHHH DONE NEXT UP \n"
          ]
        },
        {
          "output_type": "stream",
          "name": "stderr",
          "text": [
            "/usr/local/lib/python3.7/dist-packages/ipykernel_launcher.py:151: UserWarning: To copy construct from a tensor, it is recommended to use sourceTensor.clone().detach() or sourceTensor.clone().detach().requires_grad_(True), rather than torch.tensor(sourceTensor).\n",
            "/usr/local/lib/python3.7/dist-packages/ipykernel_launcher.py:152: UserWarning: To copy construct from a tensor, it is recommended to use sourceTensor.clone().detach() or sourceTensor.clone().detach().requires_grad_(True), rather than torch.tensor(sourceTensor).\n"
          ]
        },
        {
          "output_type": "stream",
          "name": "stdout",
          "text": [
            "Val Actual: \n",
            "[1.0, 1.0, 0.0, 0.0, 0.0, 0.0, 0.0, 0.0, 0.0, 0.0, 0.0, 0.0, 0.0, 0.0, 0.0, 0.0, 0.0, 0.0, 0.0, 0.0, 0.0]\n",
            "Val Predict: \n",
            "[1, 1, 1, 1, 1, 1, 1, 1, 1, 1, 1, 1, 1, 1, 1, 1, 1, 1, 1, 1, 1]\n",
            "Validation loss : 0.7252829074859619, validation accuracy : 2.0, bac score : 0.5  after epoch : 3\n",
            "Running epoch  4  of  10\n"
          ]
        },
        {
          "output_type": "stream",
          "name": "stderr",
          "text": [
            "/usr/local/lib/python3.7/dist-packages/ipykernel_launcher.py:79: UserWarning: To copy construct from a tensor, it is recommended to use sourceTensor.clone().detach() or sourceTensor.clone().detach().requires_grad_(True), rather than torch.tensor(sourceTensor).\n",
            "/usr/local/lib/python3.7/dist-packages/ipykernel_launcher.py:80: UserWarning: To copy construct from a tensor, it is recommended to use sourceTensor.clone().detach() or sourceTensor.clone().detach().requires_grad_(True), rather than torch.tensor(sourceTensor).\n"
          ]
        },
        {
          "output_type": "stream",
          "name": "stdout",
          "text": [
            "y shape torch.Size([50])\n",
            "x shape torch.Size([50, 2])\n",
            "y shape torch.Size([50])\n",
            "x shape torch.Size([50, 2])\n",
            "y shape torch.Size([50])\n",
            "x shape torch.Size([50, 2])\n",
            "y shape torch.Size([36])\n",
            "x shape torch.Size([36, 2])\n",
            "Training loss : 2.908617317676544, training accuracy : 6.0, training BAC: 0.5317919075144508 after epoch : 4\n",
            "EPOCHHH DONE NEXT UP \n"
          ]
        },
        {
          "output_type": "stream",
          "name": "stderr",
          "text": [
            "/usr/local/lib/python3.7/dist-packages/ipykernel_launcher.py:151: UserWarning: To copy construct from a tensor, it is recommended to use sourceTensor.clone().detach() or sourceTensor.clone().detach().requires_grad_(True), rather than torch.tensor(sourceTensor).\n",
            "/usr/local/lib/python3.7/dist-packages/ipykernel_launcher.py:152: UserWarning: To copy construct from a tensor, it is recommended to use sourceTensor.clone().detach() or sourceTensor.clone().detach().requires_grad_(True), rather than torch.tensor(sourceTensor).\n"
          ]
        },
        {
          "output_type": "stream",
          "name": "stdout",
          "text": [
            "Val Actual: \n",
            "[1.0, 1.0, 0.0, 0.0, 0.0, 0.0, 0.0, 0.0, 0.0, 0.0, 0.0, 0.0, 0.0, 0.0, 0.0, 0.0, 0.0, 0.0, 0.0, 0.0, 0.0]\n",
            "Val Predict: \n",
            "[1, 1, 1, 1, 1, 1, 1, 1, 1, 1, 1, 1, 1, 1, 1, 1, 1, 1, 1, 1, 1]\n",
            "Validation loss : 0.7221106886863708, validation accuracy : 2.0, bac score : 0.5  after epoch : 4\n",
            "Running epoch  5  of  10\n"
          ]
        },
        {
          "output_type": "stream",
          "name": "stderr",
          "text": [
            "/usr/local/lib/python3.7/dist-packages/ipykernel_launcher.py:79: UserWarning: To copy construct from a tensor, it is recommended to use sourceTensor.clone().detach() or sourceTensor.clone().detach().requires_grad_(True), rather than torch.tensor(sourceTensor).\n",
            "/usr/local/lib/python3.7/dist-packages/ipykernel_launcher.py:80: UserWarning: To copy construct from a tensor, it is recommended to use sourceTensor.clone().detach() or sourceTensor.clone().detach().requires_grad_(True), rather than torch.tensor(sourceTensor).\n"
          ]
        },
        {
          "output_type": "stream",
          "name": "stdout",
          "text": [
            "y shape torch.Size([50])\n",
            "x shape torch.Size([50, 2])\n",
            "y shape torch.Size([50])\n",
            "x shape torch.Size([50, 2])\n",
            "y shape torch.Size([50])\n",
            "x shape torch.Size([50, 2])\n",
            "y shape torch.Size([36])\n",
            "x shape torch.Size([36, 2])\n",
            "Training loss : 2.907091200351715, training accuracy : 5.75, training BAC: 0.5289017341040463 after epoch : 5\n",
            "EPOCHHH DONE NEXT UP \n"
          ]
        },
        {
          "output_type": "stream",
          "name": "stderr",
          "text": [
            "/usr/local/lib/python3.7/dist-packages/ipykernel_launcher.py:151: UserWarning: To copy construct from a tensor, it is recommended to use sourceTensor.clone().detach() or sourceTensor.clone().detach().requires_grad_(True), rather than torch.tensor(sourceTensor).\n",
            "/usr/local/lib/python3.7/dist-packages/ipykernel_launcher.py:152: UserWarning: To copy construct from a tensor, it is recommended to use sourceTensor.clone().detach() or sourceTensor.clone().detach().requires_grad_(True), rather than torch.tensor(sourceTensor).\n"
          ]
        },
        {
          "output_type": "stream",
          "name": "stdout",
          "text": [
            "Val Actual: \n",
            "[1.0, 1.0, 0.0, 0.0, 0.0, 0.0, 0.0, 0.0, 0.0, 0.0, 0.0, 0.0, 0.0, 0.0, 0.0, 0.0, 0.0, 0.0, 0.0, 0.0, 0.0]\n",
            "Val Predict: \n",
            "[1, 1, 1, 1, 1, 1, 0, 1, 1, 1, 1, 1, 1, 1, 1, 1, 1, 1, 1, 1, 1]\n",
            "Validation loss : 0.7179412245750427, validation accuracy : 3.0, bac score : 0.5263157894736842  after epoch : 5\n",
            "Running epoch  6  of  10\n"
          ]
        },
        {
          "output_type": "stream",
          "name": "stderr",
          "text": [
            "/usr/local/lib/python3.7/dist-packages/ipykernel_launcher.py:79: UserWarning: To copy construct from a tensor, it is recommended to use sourceTensor.clone().detach() or sourceTensor.clone().detach().requires_grad_(True), rather than torch.tensor(sourceTensor).\n",
            "/usr/local/lib/python3.7/dist-packages/ipykernel_launcher.py:80: UserWarning: To copy construct from a tensor, it is recommended to use sourceTensor.clone().detach() or sourceTensor.clone().detach().requires_grad_(True), rather than torch.tensor(sourceTensor).\n"
          ]
        },
        {
          "output_type": "stream",
          "name": "stdout",
          "text": [
            "y shape torch.Size([50])\n",
            "x shape torch.Size([50, 2])\n",
            "y shape torch.Size([50])\n",
            "x shape torch.Size([50, 2])\n",
            "y shape torch.Size([50])\n",
            "x shape torch.Size([50, 2])\n",
            "y shape torch.Size([36])\n",
            "x shape torch.Size([36, 2])\n",
            "Training loss : 2.9070128202438354, training accuracy : 6.5, training BAC: 0.5375722543352601 after epoch : 6\n",
            "EPOCHHH DONE NEXT UP \n"
          ]
        },
        {
          "output_type": "stream",
          "name": "stderr",
          "text": [
            "/usr/local/lib/python3.7/dist-packages/ipykernel_launcher.py:151: UserWarning: To copy construct from a tensor, it is recommended to use sourceTensor.clone().detach() or sourceTensor.clone().detach().requires_grad_(True), rather than torch.tensor(sourceTensor).\n",
            "/usr/local/lib/python3.7/dist-packages/ipykernel_launcher.py:152: UserWarning: To copy construct from a tensor, it is recommended to use sourceTensor.clone().detach() or sourceTensor.clone().detach().requires_grad_(True), rather than torch.tensor(sourceTensor).\n"
          ]
        },
        {
          "output_type": "stream",
          "name": "stdout",
          "text": [
            "Val Actual: \n",
            "[1.0, 1.0, 0.0, 0.0, 0.0, 0.0, 0.0, 0.0, 0.0, 0.0, 0.0, 0.0, 0.0, 0.0, 0.0, 0.0, 0.0, 0.0, 0.0, 0.0, 0.0]\n",
            "Val Predict: \n",
            "[1, 1, 1, 1, 1, 1, 1, 1, 1, 1, 1, 1, 1, 1, 1, 0, 1, 1, 1, 1, 1]\n",
            "Validation loss : 0.7241329550743103, validation accuracy : 3.0, bac score : 0.5263157894736842  after epoch : 6\n",
            "Running epoch  7  of  10\n"
          ]
        },
        {
          "output_type": "stream",
          "name": "stderr",
          "text": [
            "/usr/local/lib/python3.7/dist-packages/ipykernel_launcher.py:79: UserWarning: To copy construct from a tensor, it is recommended to use sourceTensor.clone().detach() or sourceTensor.clone().detach().requires_grad_(True), rather than torch.tensor(sourceTensor).\n",
            "/usr/local/lib/python3.7/dist-packages/ipykernel_launcher.py:80: UserWarning: To copy construct from a tensor, it is recommended to use sourceTensor.clone().detach() or sourceTensor.clone().detach().requires_grad_(True), rather than torch.tensor(sourceTensor).\n"
          ]
        },
        {
          "output_type": "stream",
          "name": "stdout",
          "text": [
            "y shape torch.Size([50])\n",
            "x shape torch.Size([50, 2])\n",
            "y shape torch.Size([50])\n",
            "x shape torch.Size([50, 2])\n",
            "y shape torch.Size([50])\n",
            "x shape torch.Size([50, 2])\n",
            "y shape torch.Size([36])\n",
            "x shape torch.Size([36, 2])\n",
            "Training loss : 2.910483956336975, training accuracy : 6.75, training BAC: 0.5404624277456648 after epoch : 7\n",
            "EPOCHHH DONE NEXT UP \n"
          ]
        },
        {
          "output_type": "stream",
          "name": "stderr",
          "text": [
            "/usr/local/lib/python3.7/dist-packages/ipykernel_launcher.py:151: UserWarning: To copy construct from a tensor, it is recommended to use sourceTensor.clone().detach() or sourceTensor.clone().detach().requires_grad_(True), rather than torch.tensor(sourceTensor).\n",
            "/usr/local/lib/python3.7/dist-packages/ipykernel_launcher.py:152: UserWarning: To copy construct from a tensor, it is recommended to use sourceTensor.clone().detach() or sourceTensor.clone().detach().requires_grad_(True), rather than torch.tensor(sourceTensor).\n"
          ]
        },
        {
          "output_type": "stream",
          "name": "stdout",
          "text": [
            "Val Actual: \n",
            "[1.0, 1.0, 0.0, 0.0, 0.0, 0.0, 0.0, 0.0, 0.0, 0.0, 0.0, 0.0, 0.0, 0.0, 0.0, 0.0, 0.0, 0.0, 0.0, 0.0, 0.0]\n",
            "Val Predict: \n",
            "[1, 1, 1, 1, 1, 1, 1, 1, 1, 1, 1, 1, 1, 1, 1, 1, 1, 1, 1, 1, 1]\n",
            "Validation loss : 0.7256653308868408, validation accuracy : 2.0, bac score : 0.5  after epoch : 7\n",
            "Running epoch  8  of  10\n"
          ]
        },
        {
          "output_type": "stream",
          "name": "stderr",
          "text": [
            "/usr/local/lib/python3.7/dist-packages/ipykernel_launcher.py:79: UserWarning: To copy construct from a tensor, it is recommended to use sourceTensor.clone().detach() or sourceTensor.clone().detach().requires_grad_(True), rather than torch.tensor(sourceTensor).\n",
            "/usr/local/lib/python3.7/dist-packages/ipykernel_launcher.py:80: UserWarning: To copy construct from a tensor, it is recommended to use sourceTensor.clone().detach() or sourceTensor.clone().detach().requires_grad_(True), rather than torch.tensor(sourceTensor).\n"
          ]
        },
        {
          "output_type": "stream",
          "name": "stdout",
          "text": [
            "y shape torch.Size([50])\n",
            "x shape torch.Size([50, 2])\n",
            "y shape torch.Size([50])\n",
            "x shape torch.Size([50, 2])\n",
            "y shape torch.Size([50])\n",
            "x shape torch.Size([50, 2])\n",
            "y shape torch.Size([36])\n",
            "x shape torch.Size([36, 2])\n",
            "Training loss : 2.9126853346824646, training accuracy : 6.0, training BAC: 0.5317919075144508 after epoch : 8\n",
            "EPOCHHH DONE NEXT UP \n"
          ]
        },
        {
          "output_type": "stream",
          "name": "stderr",
          "text": [
            "/usr/local/lib/python3.7/dist-packages/ipykernel_launcher.py:151: UserWarning: To copy construct from a tensor, it is recommended to use sourceTensor.clone().detach() or sourceTensor.clone().detach().requires_grad_(True), rather than torch.tensor(sourceTensor).\n",
            "/usr/local/lib/python3.7/dist-packages/ipykernel_launcher.py:152: UserWarning: To copy construct from a tensor, it is recommended to use sourceTensor.clone().detach() or sourceTensor.clone().detach().requires_grad_(True), rather than torch.tensor(sourceTensor).\n"
          ]
        },
        {
          "output_type": "stream",
          "name": "stdout",
          "text": [
            "Val Actual: \n",
            "[1.0, 1.0, 0.0, 0.0, 0.0, 0.0, 0.0, 0.0, 0.0, 0.0, 0.0, 0.0, 0.0, 0.0, 0.0, 0.0, 0.0, 0.0, 0.0, 0.0, 0.0]\n",
            "Val Predict: \n",
            "[1, 1, 1, 1, 1, 1, 1, 1, 1, 1, 1, 1, 1, 1, 1, 1, 1, 1, 1, 1, 1]\n",
            "Validation loss : 0.7196663022041321, validation accuracy : 2.0, bac score : 0.5  after epoch : 8\n",
            "Running epoch  9  of  10\n"
          ]
        },
        {
          "output_type": "stream",
          "name": "stderr",
          "text": [
            "/usr/local/lib/python3.7/dist-packages/ipykernel_launcher.py:79: UserWarning: To copy construct from a tensor, it is recommended to use sourceTensor.clone().detach() or sourceTensor.clone().detach().requires_grad_(True), rather than torch.tensor(sourceTensor).\n",
            "/usr/local/lib/python3.7/dist-packages/ipykernel_launcher.py:80: UserWarning: To copy construct from a tensor, it is recommended to use sourceTensor.clone().detach() or sourceTensor.clone().detach().requires_grad_(True), rather than torch.tensor(sourceTensor).\n"
          ]
        },
        {
          "output_type": "stream",
          "name": "stdout",
          "text": [
            "y shape torch.Size([50])\n",
            "x shape torch.Size([50, 2])\n",
            "y shape torch.Size([50])\n",
            "x shape torch.Size([50, 2])\n",
            "y shape torch.Size([50])\n",
            "x shape torch.Size([50, 2])\n",
            "y shape torch.Size([36])\n",
            "x shape torch.Size([36, 2])\n",
            "Training loss : 2.9083651304244995, training accuracy : 5.75, training BAC: 0.49333036905291244 after epoch : 9\n",
            "EPOCHHH DONE NEXT UP \n"
          ]
        },
        {
          "output_type": "stream",
          "name": "stderr",
          "text": [
            "/usr/local/lib/python3.7/dist-packages/ipykernel_launcher.py:151: UserWarning: To copy construct from a tensor, it is recommended to use sourceTensor.clone().detach() or sourceTensor.clone().detach().requires_grad_(True), rather than torch.tensor(sourceTensor).\n",
            "/usr/local/lib/python3.7/dist-packages/ipykernel_launcher.py:152: UserWarning: To copy construct from a tensor, it is recommended to use sourceTensor.clone().detach() or sourceTensor.clone().detach().requires_grad_(True), rather than torch.tensor(sourceTensor).\n"
          ]
        },
        {
          "output_type": "stream",
          "name": "stdout",
          "text": [
            "Val Actual: \n",
            "[1.0, 1.0, 0.0, 0.0, 0.0, 0.0, 0.0, 0.0, 0.0, 0.0, 0.0, 0.0, 0.0, 0.0, 0.0, 0.0, 0.0, 0.0, 0.0, 0.0, 0.0]\n",
            "Val Predict: \n",
            "[1, 1, 1, 1, 1, 1, 1, 1, 1, 1, 1, 1, 1, 1, 1, 1, 1, 1, 1, 1, 1]\n",
            "Validation loss : 0.7231677770614624, validation accuracy : 2.0, bac score : 0.5  after epoch : 9\n",
            "MODEL TRAINING IS FINISHED!\n",
            "Train Index: [  1   2   3   4   5   7   8   9  10  11  12  13  14  15  16  17  18  19\n",
            "  20  21  22  24  25  27  28  29  30  31  32  33  34  35  36  38  39  40\n",
            "  41  42  43  45  46  47  48  50  51  52  53  54  55  56  57  59  60  61\n",
            "  62  63  64  65  66  67  68  69  70  71  72  73  74  75  76  77  78  79\n",
            "  80  81  83  85  86  87  88  89  90  91  92  93  95  96  97  98  99 100\n",
            " 101 102 103 104 105 106 107 108 109 110 111 112 113 114 115 116 117 118\n",
            " 119 120 121 122 123 124 125 127 128 129 130 131 132 133 134 135 136 137\n",
            " 138 139 141 142 143 144 145 146 147 148 149 150 151 152 153 154 155 156\n",
            " 157 158 159 160 161 162 163 164 165 168 169 170 171 172 173 174 175 176\n",
            " 177 178 179 180 182 183 184 185 186 187 188 189 191 193 194 195 196 197\n",
            " 198 199 200 201 203 206], size: 186\n",
            "Test Index: [  0   6  23  26  37  44  49  58  82  84  94 126 140 166 167 181 190 192\n",
            " 202 204 205], size: 21\n",
            "Length of the dataset: 207\n",
            "IMAGE SIZE : torch.Size([50, 51, 32, 32])\n",
            "LABEL SIZE :  torch.Size([50, 1])\n",
            "NETWORK LOADED\n",
            "MODEL TRAINING STARTS\n",
            "Running epoch  0  of  10\n"
          ]
        },
        {
          "output_type": "stream",
          "name": "stderr",
          "text": [
            "/usr/local/lib/python3.7/dist-packages/ipykernel_launcher.py:79: UserWarning: To copy construct from a tensor, it is recommended to use sourceTensor.clone().detach() or sourceTensor.clone().detach().requires_grad_(True), rather than torch.tensor(sourceTensor).\n",
            "/usr/local/lib/python3.7/dist-packages/ipykernel_launcher.py:80: UserWarning: To copy construct from a tensor, it is recommended to use sourceTensor.clone().detach() or sourceTensor.clone().detach().requires_grad_(True), rather than torch.tensor(sourceTensor).\n"
          ]
        },
        {
          "output_type": "stream",
          "name": "stdout",
          "text": [
            "y shape torch.Size([50])\n",
            "x shape torch.Size([50, 2])\n",
            "y shape torch.Size([50])\n",
            "x shape torch.Size([50, 2])\n",
            "y shape torch.Size([50])\n",
            "x shape torch.Size([50, 2])\n",
            "y shape torch.Size([36])\n",
            "x shape torch.Size([36, 2])\n",
            "Training loss : 2.5457953214645386, training accuracy : 43.25, training BAC: 0.5 after epoch : 0\n",
            "EPOCHHH DONE NEXT UP \n"
          ]
        },
        {
          "output_type": "stream",
          "name": "stderr",
          "text": [
            "/usr/local/lib/python3.7/dist-packages/ipykernel_launcher.py:151: UserWarning: To copy construct from a tensor, it is recommended to use sourceTensor.clone().detach() or sourceTensor.clone().detach().requires_grad_(True), rather than torch.tensor(sourceTensor).\n",
            "/usr/local/lib/python3.7/dist-packages/ipykernel_launcher.py:152: UserWarning: To copy construct from a tensor, it is recommended to use sourceTensor.clone().detach() or sourceTensor.clone().detach().requires_grad_(True), rather than torch.tensor(sourceTensor).\n"
          ]
        },
        {
          "output_type": "stream",
          "name": "stdout",
          "text": [
            "Val Actual: \n",
            "[1.0, 1.0, 0.0, 0.0, 0.0, 0.0, 0.0, 0.0, 0.0, 0.0, 0.0, 0.0, 0.0, 0.0, 0.0, 0.0, 0.0, 0.0, 0.0, 0.0, 0.0]\n",
            "Val Predict: \n",
            "[0, 0, 0, 0, 0, 0, 0, 0, 0, 0, 0, 0, 0, 0, 0, 0, 0, 0, 0, 0, 0]\n",
            "Validation loss : 0.6367694139480591, validation accuracy : 19.0, bac score : 0.5  after epoch : 0\n",
            "Running epoch  1  of  10\n"
          ]
        },
        {
          "output_type": "stream",
          "name": "stderr",
          "text": [
            "/usr/local/lib/python3.7/dist-packages/ipykernel_launcher.py:79: UserWarning: To copy construct from a tensor, it is recommended to use sourceTensor.clone().detach() or sourceTensor.clone().detach().requires_grad_(True), rather than torch.tensor(sourceTensor).\n",
            "/usr/local/lib/python3.7/dist-packages/ipykernel_launcher.py:80: UserWarning: To copy construct from a tensor, it is recommended to use sourceTensor.clone().detach() or sourceTensor.clone().detach().requires_grad_(True), rather than torch.tensor(sourceTensor).\n"
          ]
        },
        {
          "output_type": "stream",
          "name": "stdout",
          "text": [
            "y shape torch.Size([50])\n",
            "x shape torch.Size([50, 2])\n",
            "y shape torch.Size([50])\n",
            "x shape torch.Size([50, 2])\n",
            "y shape torch.Size([50])\n",
            "x shape torch.Size([50, 2])\n",
            "y shape torch.Size([36])\n",
            "x shape torch.Size([36, 2])\n",
            "Training loss : 2.543796479701996, training accuracy : 43.25, training BAC: 0.5 after epoch : 1\n",
            "EPOCHHH DONE NEXT UP \n"
          ]
        },
        {
          "output_type": "stream",
          "name": "stderr",
          "text": [
            "/usr/local/lib/python3.7/dist-packages/ipykernel_launcher.py:151: UserWarning: To copy construct from a tensor, it is recommended to use sourceTensor.clone().detach() or sourceTensor.clone().detach().requires_grad_(True), rather than torch.tensor(sourceTensor).\n",
            "/usr/local/lib/python3.7/dist-packages/ipykernel_launcher.py:152: UserWarning: To copy construct from a tensor, it is recommended to use sourceTensor.clone().detach() or sourceTensor.clone().detach().requires_grad_(True), rather than torch.tensor(sourceTensor).\n"
          ]
        },
        {
          "output_type": "stream",
          "name": "stdout",
          "text": [
            "Val Actual: \n",
            "[1.0, 1.0, 0.0, 0.0, 0.0, 0.0, 0.0, 0.0, 0.0, 0.0, 0.0, 0.0, 0.0, 0.0, 0.0, 0.0, 0.0, 0.0, 0.0, 0.0, 0.0]\n",
            "Val Predict: \n",
            "[0, 0, 0, 0, 0, 0, 0, 0, 0, 0, 0, 0, 0, 0, 0, 0, 0, 0, 0, 0, 0]\n",
            "Validation loss : 0.637468159198761, validation accuracy : 19.0, bac score : 0.5  after epoch : 1\n",
            "Running epoch  2  of  10\n"
          ]
        },
        {
          "output_type": "stream",
          "name": "stderr",
          "text": [
            "/usr/local/lib/python3.7/dist-packages/ipykernel_launcher.py:79: UserWarning: To copy construct from a tensor, it is recommended to use sourceTensor.clone().detach() or sourceTensor.clone().detach().requires_grad_(True), rather than torch.tensor(sourceTensor).\n",
            "/usr/local/lib/python3.7/dist-packages/ipykernel_launcher.py:80: UserWarning: To copy construct from a tensor, it is recommended to use sourceTensor.clone().detach() or sourceTensor.clone().detach().requires_grad_(True), rather than torch.tensor(sourceTensor).\n"
          ]
        },
        {
          "output_type": "stream",
          "name": "stdout",
          "text": [
            "y shape torch.Size([50])\n",
            "x shape torch.Size([50, 2])\n",
            "y shape torch.Size([50])\n",
            "x shape torch.Size([50, 2])\n",
            "y shape torch.Size([50])\n",
            "x shape torch.Size([50, 2])\n",
            "y shape torch.Size([36])\n",
            "x shape torch.Size([36, 2])\n",
            "Training loss : 2.5457884669303894, training accuracy : 43.25, training BAC: 0.5 after epoch : 2\n",
            "EPOCHHH DONE NEXT UP \n"
          ]
        },
        {
          "output_type": "stream",
          "name": "stderr",
          "text": [
            "/usr/local/lib/python3.7/dist-packages/ipykernel_launcher.py:151: UserWarning: To copy construct from a tensor, it is recommended to use sourceTensor.clone().detach() or sourceTensor.clone().detach().requires_grad_(True), rather than torch.tensor(sourceTensor).\n",
            "/usr/local/lib/python3.7/dist-packages/ipykernel_launcher.py:152: UserWarning: To copy construct from a tensor, it is recommended to use sourceTensor.clone().detach() or sourceTensor.clone().detach().requires_grad_(True), rather than torch.tensor(sourceTensor).\n"
          ]
        },
        {
          "output_type": "stream",
          "name": "stdout",
          "text": [
            "Val Actual: \n",
            "[1.0, 1.0, 0.0, 0.0, 0.0, 0.0, 0.0, 0.0, 0.0, 0.0, 0.0, 0.0, 0.0, 0.0, 0.0, 0.0, 0.0, 0.0, 0.0, 0.0, 0.0]\n",
            "Val Predict: \n",
            "[0, 0, 0, 0, 0, 0, 0, 0, 0, 0, 0, 0, 0, 0, 0, 0, 0, 0, 0, 0, 0]\n",
            "Validation loss : 0.6403836011886597, validation accuracy : 19.0, bac score : 0.5  after epoch : 2\n",
            "Running epoch  3  of  10\n"
          ]
        },
        {
          "output_type": "stream",
          "name": "stderr",
          "text": [
            "/usr/local/lib/python3.7/dist-packages/ipykernel_launcher.py:79: UserWarning: To copy construct from a tensor, it is recommended to use sourceTensor.clone().detach() or sourceTensor.clone().detach().requires_grad_(True), rather than torch.tensor(sourceTensor).\n",
            "/usr/local/lib/python3.7/dist-packages/ipykernel_launcher.py:80: UserWarning: To copy construct from a tensor, it is recommended to use sourceTensor.clone().detach() or sourceTensor.clone().detach().requires_grad_(True), rather than torch.tensor(sourceTensor).\n"
          ]
        },
        {
          "output_type": "stream",
          "name": "stdout",
          "text": [
            "y shape torch.Size([50])\n",
            "x shape torch.Size([50, 2])\n",
            "y shape torch.Size([50])\n",
            "x shape torch.Size([50, 2])\n",
            "y shape torch.Size([50])\n",
            "x shape torch.Size([50, 2])\n",
            "y shape torch.Size([36])\n",
            "x shape torch.Size([36, 2])\n",
            "Training loss : 2.542951762676239, training accuracy : 43.25, training BAC: 0.5 after epoch : 3\n",
            "EPOCHHH DONE NEXT UP \n"
          ]
        },
        {
          "output_type": "stream",
          "name": "stderr",
          "text": [
            "/usr/local/lib/python3.7/dist-packages/ipykernel_launcher.py:151: UserWarning: To copy construct from a tensor, it is recommended to use sourceTensor.clone().detach() or sourceTensor.clone().detach().requires_grad_(True), rather than torch.tensor(sourceTensor).\n",
            "/usr/local/lib/python3.7/dist-packages/ipykernel_launcher.py:152: UserWarning: To copy construct from a tensor, it is recommended to use sourceTensor.clone().detach() or sourceTensor.clone().detach().requires_grad_(True), rather than torch.tensor(sourceTensor).\n"
          ]
        },
        {
          "output_type": "stream",
          "name": "stdout",
          "text": [
            "Val Actual: \n",
            "[1.0, 1.0, 0.0, 0.0, 0.0, 0.0, 0.0, 0.0, 0.0, 0.0, 0.0, 0.0, 0.0, 0.0, 0.0, 0.0, 0.0, 0.0, 0.0, 0.0, 0.0]\n",
            "Val Predict: \n",
            "[0, 0, 0, 0, 0, 0, 0, 0, 0, 0, 0, 0, 0, 0, 0, 0, 0, 0, 0, 0, 0]\n",
            "Validation loss : 0.6416565775871277, validation accuracy : 19.0, bac score : 0.5  after epoch : 3\n",
            "Running epoch  4  of  10\n"
          ]
        },
        {
          "output_type": "stream",
          "name": "stderr",
          "text": [
            "/usr/local/lib/python3.7/dist-packages/ipykernel_launcher.py:79: UserWarning: To copy construct from a tensor, it is recommended to use sourceTensor.clone().detach() or sourceTensor.clone().detach().requires_grad_(True), rather than torch.tensor(sourceTensor).\n",
            "/usr/local/lib/python3.7/dist-packages/ipykernel_launcher.py:80: UserWarning: To copy construct from a tensor, it is recommended to use sourceTensor.clone().detach() or sourceTensor.clone().detach().requires_grad_(True), rather than torch.tensor(sourceTensor).\n"
          ]
        },
        {
          "output_type": "stream",
          "name": "stdout",
          "text": [
            "y shape torch.Size([50])\n",
            "x shape torch.Size([50, 2])\n",
            "y shape torch.Size([50])\n",
            "x shape torch.Size([50, 2])\n",
            "y shape torch.Size([50])\n",
            "x shape torch.Size([50, 2])\n",
            "y shape torch.Size([36])\n",
            "x shape torch.Size([36, 2])\n",
            "Training loss : 2.5453478693962097, training accuracy : 43.25, training BAC: 0.5 after epoch : 4\n",
            "EPOCHHH DONE NEXT UP \n"
          ]
        },
        {
          "output_type": "stream",
          "name": "stderr",
          "text": [
            "/usr/local/lib/python3.7/dist-packages/ipykernel_launcher.py:151: UserWarning: To copy construct from a tensor, it is recommended to use sourceTensor.clone().detach() or sourceTensor.clone().detach().requires_grad_(True), rather than torch.tensor(sourceTensor).\n",
            "/usr/local/lib/python3.7/dist-packages/ipykernel_launcher.py:152: UserWarning: To copy construct from a tensor, it is recommended to use sourceTensor.clone().detach() or sourceTensor.clone().detach().requires_grad_(True), rather than torch.tensor(sourceTensor).\n"
          ]
        },
        {
          "output_type": "stream",
          "name": "stdout",
          "text": [
            "Val Actual: \n",
            "[1.0, 1.0, 0.0, 0.0, 0.0, 0.0, 0.0, 0.0, 0.0, 0.0, 0.0, 0.0, 0.0, 0.0, 0.0, 0.0, 0.0, 0.0, 0.0, 0.0, 0.0]\n",
            "Val Predict: \n",
            "[0, 0, 0, 0, 0, 0, 0, 0, 0, 0, 0, 0, 0, 0, 0, 0, 0, 0, 0, 0, 0]\n",
            "Validation loss : 0.6384869813919067, validation accuracy : 19.0, bac score : 0.5  after epoch : 4\n",
            "Running epoch  5  of  10\n"
          ]
        },
        {
          "output_type": "stream",
          "name": "stderr",
          "text": [
            "/usr/local/lib/python3.7/dist-packages/ipykernel_launcher.py:79: UserWarning: To copy construct from a tensor, it is recommended to use sourceTensor.clone().detach() or sourceTensor.clone().detach().requires_grad_(True), rather than torch.tensor(sourceTensor).\n",
            "/usr/local/lib/python3.7/dist-packages/ipykernel_launcher.py:80: UserWarning: To copy construct from a tensor, it is recommended to use sourceTensor.clone().detach() or sourceTensor.clone().detach().requires_grad_(True), rather than torch.tensor(sourceTensor).\n"
          ]
        },
        {
          "output_type": "stream",
          "name": "stdout",
          "text": [
            "y shape torch.Size([50])\n",
            "x shape torch.Size([50, 2])\n",
            "y shape torch.Size([50])\n",
            "x shape torch.Size([50, 2])\n",
            "y shape torch.Size([50])\n",
            "x shape torch.Size([50, 2])\n",
            "y shape torch.Size([36])\n",
            "x shape torch.Size([36, 2])\n",
            "Training loss : 2.5406797528266907, training accuracy : 43.25, training BAC: 0.5 after epoch : 5\n",
            "EPOCHHH DONE NEXT UP \n"
          ]
        },
        {
          "output_type": "stream",
          "name": "stderr",
          "text": [
            "/usr/local/lib/python3.7/dist-packages/ipykernel_launcher.py:151: UserWarning: To copy construct from a tensor, it is recommended to use sourceTensor.clone().detach() or sourceTensor.clone().detach().requires_grad_(True), rather than torch.tensor(sourceTensor).\n",
            "/usr/local/lib/python3.7/dist-packages/ipykernel_launcher.py:152: UserWarning: To copy construct from a tensor, it is recommended to use sourceTensor.clone().detach() or sourceTensor.clone().detach().requires_grad_(True), rather than torch.tensor(sourceTensor).\n"
          ]
        },
        {
          "output_type": "stream",
          "name": "stdout",
          "text": [
            "Val Actual: \n",
            "[1.0, 1.0, 0.0, 0.0, 0.0, 0.0, 0.0, 0.0, 0.0, 0.0, 0.0, 0.0, 0.0, 0.0, 0.0, 0.0, 0.0, 0.0, 0.0, 0.0, 0.0]\n",
            "Val Predict: \n",
            "[0, 0, 0, 0, 0, 0, 0, 0, 0, 0, 0, 0, 0, 0, 0, 0, 0, 0, 0, 0, 0]\n",
            "Validation loss : 0.6353007555007935, validation accuracy : 19.0, bac score : 0.5  after epoch : 5\n",
            "Running epoch  6  of  10\n"
          ]
        },
        {
          "output_type": "stream",
          "name": "stderr",
          "text": [
            "/usr/local/lib/python3.7/dist-packages/ipykernel_launcher.py:79: UserWarning: To copy construct from a tensor, it is recommended to use sourceTensor.clone().detach() or sourceTensor.clone().detach().requires_grad_(True), rather than torch.tensor(sourceTensor).\n",
            "/usr/local/lib/python3.7/dist-packages/ipykernel_launcher.py:80: UserWarning: To copy construct from a tensor, it is recommended to use sourceTensor.clone().detach() or sourceTensor.clone().detach().requires_grad_(True), rather than torch.tensor(sourceTensor).\n"
          ]
        },
        {
          "output_type": "stream",
          "name": "stdout",
          "text": [
            "y shape torch.Size([50])\n",
            "x shape torch.Size([50, 2])\n",
            "y shape torch.Size([50])\n",
            "x shape torch.Size([50, 2])\n",
            "y shape torch.Size([50])\n",
            "x shape torch.Size([50, 2])\n",
            "y shape torch.Size([36])\n",
            "x shape torch.Size([36, 2])\n",
            "Training loss : 2.5441272854804993, training accuracy : 43.25, training BAC: 0.5 after epoch : 6\n",
            "EPOCHHH DONE NEXT UP \n"
          ]
        },
        {
          "output_type": "stream",
          "name": "stderr",
          "text": [
            "/usr/local/lib/python3.7/dist-packages/ipykernel_launcher.py:151: UserWarning: To copy construct from a tensor, it is recommended to use sourceTensor.clone().detach() or sourceTensor.clone().detach().requires_grad_(True), rather than torch.tensor(sourceTensor).\n",
            "/usr/local/lib/python3.7/dist-packages/ipykernel_launcher.py:152: UserWarning: To copy construct from a tensor, it is recommended to use sourceTensor.clone().detach() or sourceTensor.clone().detach().requires_grad_(True), rather than torch.tensor(sourceTensor).\n"
          ]
        },
        {
          "output_type": "stream",
          "name": "stdout",
          "text": [
            "Val Actual: \n",
            "[1.0, 1.0, 0.0, 0.0, 0.0, 0.0, 0.0, 0.0, 0.0, 0.0, 0.0, 0.0, 0.0, 0.0, 0.0, 0.0, 0.0, 0.0, 0.0, 0.0, 0.0]\n",
            "Val Predict: \n",
            "[0, 0, 0, 0, 0, 0, 0, 0, 0, 0, 0, 0, 0, 0, 0, 0, 0, 0, 0, 0, 0]\n",
            "Validation loss : 0.6382589936256409, validation accuracy : 19.0, bac score : 0.5  after epoch : 6\n",
            "Running epoch  7  of  10\n"
          ]
        },
        {
          "output_type": "stream",
          "name": "stderr",
          "text": [
            "/usr/local/lib/python3.7/dist-packages/ipykernel_launcher.py:79: UserWarning: To copy construct from a tensor, it is recommended to use sourceTensor.clone().detach() or sourceTensor.clone().detach().requires_grad_(True), rather than torch.tensor(sourceTensor).\n",
            "/usr/local/lib/python3.7/dist-packages/ipykernel_launcher.py:80: UserWarning: To copy construct from a tensor, it is recommended to use sourceTensor.clone().detach() or sourceTensor.clone().detach().requires_grad_(True), rather than torch.tensor(sourceTensor).\n"
          ]
        },
        {
          "output_type": "stream",
          "name": "stdout",
          "text": [
            "y shape torch.Size([50])\n",
            "x shape torch.Size([50, 2])\n",
            "y shape torch.Size([50])\n",
            "x shape torch.Size([50, 2])\n",
            "y shape torch.Size([50])\n",
            "x shape torch.Size([50, 2])\n",
            "y shape torch.Size([36])\n",
            "x shape torch.Size([36, 2])\n",
            "Training loss : 2.5399299263954163, training accuracy : 43.25, training BAC: 0.5 after epoch : 7\n",
            "EPOCHHH DONE NEXT UP \n"
          ]
        },
        {
          "output_type": "stream",
          "name": "stderr",
          "text": [
            "/usr/local/lib/python3.7/dist-packages/ipykernel_launcher.py:151: UserWarning: To copy construct from a tensor, it is recommended to use sourceTensor.clone().detach() or sourceTensor.clone().detach().requires_grad_(True), rather than torch.tensor(sourceTensor).\n",
            "/usr/local/lib/python3.7/dist-packages/ipykernel_launcher.py:152: UserWarning: To copy construct from a tensor, it is recommended to use sourceTensor.clone().detach() or sourceTensor.clone().detach().requires_grad_(True), rather than torch.tensor(sourceTensor).\n"
          ]
        },
        {
          "output_type": "stream",
          "name": "stdout",
          "text": [
            "Val Actual: \n",
            "[1.0, 1.0, 0.0, 0.0, 0.0, 0.0, 0.0, 0.0, 0.0, 0.0, 0.0, 0.0, 0.0, 0.0, 0.0, 0.0, 0.0, 0.0, 0.0, 0.0, 0.0]\n",
            "Val Predict: \n",
            "[0, 0, 0, 0, 0, 0, 0, 0, 0, 0, 0, 0, 0, 0, 0, 0, 0, 0, 0, 0, 0]\n",
            "Validation loss : 0.6356160044670105, validation accuracy : 19.0, bac score : 0.5  after epoch : 7\n",
            "Running epoch  8  of  10\n"
          ]
        },
        {
          "output_type": "stream",
          "name": "stderr",
          "text": [
            "/usr/local/lib/python3.7/dist-packages/ipykernel_launcher.py:79: UserWarning: To copy construct from a tensor, it is recommended to use sourceTensor.clone().detach() or sourceTensor.clone().detach().requires_grad_(True), rather than torch.tensor(sourceTensor).\n",
            "/usr/local/lib/python3.7/dist-packages/ipykernel_launcher.py:80: UserWarning: To copy construct from a tensor, it is recommended to use sourceTensor.clone().detach() or sourceTensor.clone().detach().requires_grad_(True), rather than torch.tensor(sourceTensor).\n"
          ]
        },
        {
          "output_type": "stream",
          "name": "stdout",
          "text": [
            "y shape torch.Size([50])\n",
            "x shape torch.Size([50, 2])\n",
            "y shape torch.Size([50])\n",
            "x shape torch.Size([50, 2])\n",
            "y shape torch.Size([50])\n",
            "x shape torch.Size([50, 2])\n",
            "y shape torch.Size([36])\n",
            "x shape torch.Size([36, 2])\n",
            "Training loss : 2.5404512882232666, training accuracy : 43.25, training BAC: 0.5 after epoch : 8\n",
            "EPOCHHH DONE NEXT UP \n"
          ]
        },
        {
          "output_type": "stream",
          "name": "stderr",
          "text": [
            "/usr/local/lib/python3.7/dist-packages/ipykernel_launcher.py:151: UserWarning: To copy construct from a tensor, it is recommended to use sourceTensor.clone().detach() or sourceTensor.clone().detach().requires_grad_(True), rather than torch.tensor(sourceTensor).\n",
            "/usr/local/lib/python3.7/dist-packages/ipykernel_launcher.py:152: UserWarning: To copy construct from a tensor, it is recommended to use sourceTensor.clone().detach() or sourceTensor.clone().detach().requires_grad_(True), rather than torch.tensor(sourceTensor).\n"
          ]
        },
        {
          "output_type": "stream",
          "name": "stdout",
          "text": [
            "Val Actual: \n",
            "[1.0, 1.0, 0.0, 0.0, 0.0, 0.0, 0.0, 0.0, 0.0, 0.0, 0.0, 0.0, 0.0, 0.0, 0.0, 0.0, 0.0, 0.0, 0.0, 0.0, 0.0]\n",
            "Val Predict: \n",
            "[0, 0, 0, 0, 0, 0, 0, 0, 0, 0, 0, 0, 0, 0, 0, 0, 0, 0, 0, 0, 0]\n",
            "Validation loss : 0.6331450939178467, validation accuracy : 19.0, bac score : 0.5  after epoch : 8\n",
            "Running epoch  9  of  10\n"
          ]
        },
        {
          "output_type": "stream",
          "name": "stderr",
          "text": [
            "/usr/local/lib/python3.7/dist-packages/ipykernel_launcher.py:79: UserWarning: To copy construct from a tensor, it is recommended to use sourceTensor.clone().detach() or sourceTensor.clone().detach().requires_grad_(True), rather than torch.tensor(sourceTensor).\n",
            "/usr/local/lib/python3.7/dist-packages/ipykernel_launcher.py:80: UserWarning: To copy construct from a tensor, it is recommended to use sourceTensor.clone().detach() or sourceTensor.clone().detach().requires_grad_(True), rather than torch.tensor(sourceTensor).\n"
          ]
        },
        {
          "output_type": "stream",
          "name": "stdout",
          "text": [
            "y shape torch.Size([50])\n",
            "x shape torch.Size([50, 2])\n",
            "y shape torch.Size([50])\n",
            "x shape torch.Size([50, 2])\n",
            "y shape torch.Size([50])\n",
            "x shape torch.Size([50, 2])\n",
            "y shape torch.Size([36])\n",
            "x shape torch.Size([36, 2])\n",
            "Training loss : 2.54465788602829, training accuracy : 43.25, training BAC: 0.5 after epoch : 9\n",
            "EPOCHHH DONE NEXT UP \n"
          ]
        },
        {
          "output_type": "stream",
          "name": "stderr",
          "text": [
            "/usr/local/lib/python3.7/dist-packages/ipykernel_launcher.py:151: UserWarning: To copy construct from a tensor, it is recommended to use sourceTensor.clone().detach() or sourceTensor.clone().detach().requires_grad_(True), rather than torch.tensor(sourceTensor).\n",
            "/usr/local/lib/python3.7/dist-packages/ipykernel_launcher.py:152: UserWarning: To copy construct from a tensor, it is recommended to use sourceTensor.clone().detach() or sourceTensor.clone().detach().requires_grad_(True), rather than torch.tensor(sourceTensor).\n"
          ]
        },
        {
          "output_type": "stream",
          "name": "stdout",
          "text": [
            "Val Actual: \n",
            "[1.0, 1.0, 0.0, 0.0, 0.0, 0.0, 0.0, 0.0, 0.0, 0.0, 0.0, 0.0, 0.0, 0.0, 0.0, 0.0, 0.0, 0.0, 0.0, 0.0, 0.0]\n",
            "Val Predict: \n",
            "[0, 0, 0, 0, 0, 0, 0, 0, 0, 0, 0, 0, 0, 0, 0, 0, 0, 0, 0, 0, 0]\n",
            "Validation loss : 0.6381460428237915, validation accuracy : 19.0, bac score : 0.5  after epoch : 9\n",
            "MODEL TRAINING IS FINISHED!\n",
            "Train Index: [  0   2   3   4   5   6   7   8   9  11  12  13  14  15  17  19  20  21\n",
            "  22  23  24  25  26  27  28  29  30  32  34  35  36  37  38  40  41  42\n",
            "  43  44  45  46  47  48  49  50  51  52  53  55  56  57  58  59  60  62\n",
            "  63  64  65  66  67  68  69  70  72  73  74  75  76  77  78  79  80  81\n",
            "  82  83  84  85  86  87  88  89  90  91  92  93  94  95  96  97  98  99\n",
            " 100 101 102 103 104 105 106 107 109 110 111 112 113 114 115 116 117 118\n",
            " 119 120 121 122 123 124 126 127 128 129 130 132 133 134 135 136 137 138\n",
            " 139 140 141 142 143 144 145 146 148 149 150 151 152 153 154 155 156 157\n",
            " 158 159 160 161 163 164 165 166 167 168 169 170 171 172 173 174 176 177\n",
            " 178 179 180 181 182 183 184 185 186 187 190 192 193 194 196 197 198 199\n",
            " 200 201 202 203 204 205], size: 186\n",
            "Test Index: [  1  10  16  18  31  33  39  54  61  71 108 125 131 147 162 175 188 189\n",
            " 191 195 206], size: 21\n",
            "Length of the dataset: 207\n",
            "IMAGE SIZE : torch.Size([50, 51, 32, 32])\n",
            "LABEL SIZE :  torch.Size([50, 1])\n",
            "NETWORK LOADED\n",
            "MODEL TRAINING STARTS\n",
            "Running epoch  0  of  10\n"
          ]
        },
        {
          "output_type": "stream",
          "name": "stderr",
          "text": [
            "/usr/local/lib/python3.7/dist-packages/ipykernel_launcher.py:79: UserWarning: To copy construct from a tensor, it is recommended to use sourceTensor.clone().detach() or sourceTensor.clone().detach().requires_grad_(True), rather than torch.tensor(sourceTensor).\n",
            "/usr/local/lib/python3.7/dist-packages/ipykernel_launcher.py:80: UserWarning: To copy construct from a tensor, it is recommended to use sourceTensor.clone().detach() or sourceTensor.clone().detach().requires_grad_(True), rather than torch.tensor(sourceTensor).\n"
          ]
        },
        {
          "output_type": "stream",
          "name": "stdout",
          "text": [
            "y shape torch.Size([50])\n",
            "x shape torch.Size([50, 2])\n",
            "y shape torch.Size([50])\n",
            "x shape torch.Size([50, 2])\n",
            "y shape torch.Size([50])\n",
            "x shape torch.Size([50, 2])\n",
            "y shape torch.Size([36])\n",
            "x shape torch.Size([36, 2])\n",
            "Training loss : 2.7623572945594788, training accuracy : 21.5, training BAC: 0.39084037349933304 after epoch : 0\n",
            "EPOCHHH DONE NEXT UP \n"
          ]
        },
        {
          "output_type": "stream",
          "name": "stderr",
          "text": [
            "/usr/local/lib/python3.7/dist-packages/ipykernel_launcher.py:151: UserWarning: To copy construct from a tensor, it is recommended to use sourceTensor.clone().detach() or sourceTensor.clone().detach().requires_grad_(True), rather than torch.tensor(sourceTensor).\n",
            "/usr/local/lib/python3.7/dist-packages/ipykernel_launcher.py:152: UserWarning: To copy construct from a tensor, it is recommended to use sourceTensor.clone().detach() or sourceTensor.clone().detach().requires_grad_(True), rather than torch.tensor(sourceTensor).\n"
          ]
        },
        {
          "output_type": "stream",
          "name": "stdout",
          "text": [
            "Val Actual: \n",
            "[1.0, 1.0, 0.0, 0.0, 0.0, 0.0, 0.0, 0.0, 0.0, 0.0, 0.0, 0.0, 0.0, 0.0, 0.0, 0.0, 0.0, 0.0, 0.0, 0.0, 0.0]\n",
            "Val Predict: \n",
            "[1, 1, 0, 1, 1, 1, 1, 1, 1, 1, 0, 1, 0, 1, 1, 0, 1, 1, 0, 0, 1]\n",
            "Validation loss : 0.6788023114204407, validation accuracy : 8.0, bac score : 0.6578947368421053  after epoch : 0\n",
            "Running epoch  1  of  10\n"
          ]
        },
        {
          "output_type": "stream",
          "name": "stderr",
          "text": [
            "/usr/local/lib/python3.7/dist-packages/ipykernel_launcher.py:79: UserWarning: To copy construct from a tensor, it is recommended to use sourceTensor.clone().detach() or sourceTensor.clone().detach().requires_grad_(True), rather than torch.tensor(sourceTensor).\n",
            "/usr/local/lib/python3.7/dist-packages/ipykernel_launcher.py:80: UserWarning: To copy construct from a tensor, it is recommended to use sourceTensor.clone().detach() or sourceTensor.clone().detach().requires_grad_(True), rather than torch.tensor(sourceTensor).\n"
          ]
        },
        {
          "output_type": "stream",
          "name": "stdout",
          "text": [
            "y shape torch.Size([50])\n",
            "x shape torch.Size([50, 2])\n",
            "y shape torch.Size([50])\n",
            "x shape torch.Size([50, 2])\n",
            "y shape torch.Size([50])\n",
            "x shape torch.Size([50, 2])\n",
            "y shape torch.Size([36])\n",
            "x shape torch.Size([36, 2])\n",
            "Training loss : 2.7653110027313232, training accuracy : 20.25, training BAC: 0.34081814139617606 after epoch : 1\n",
            "EPOCHHH DONE NEXT UP \n"
          ]
        },
        {
          "output_type": "stream",
          "name": "stderr",
          "text": [
            "/usr/local/lib/python3.7/dist-packages/ipykernel_launcher.py:151: UserWarning: To copy construct from a tensor, it is recommended to use sourceTensor.clone().detach() or sourceTensor.clone().detach().requires_grad_(True), rather than torch.tensor(sourceTensor).\n",
            "/usr/local/lib/python3.7/dist-packages/ipykernel_launcher.py:152: UserWarning: To copy construct from a tensor, it is recommended to use sourceTensor.clone().detach() or sourceTensor.clone().detach().requires_grad_(True), rather than torch.tensor(sourceTensor).\n"
          ]
        },
        {
          "output_type": "stream",
          "name": "stdout",
          "text": [
            "Val Actual: \n",
            "[1.0, 1.0, 0.0, 0.0, 0.0, 0.0, 0.0, 0.0, 0.0, 0.0, 0.0, 0.0, 0.0, 0.0, 0.0, 0.0, 0.0, 0.0, 0.0, 0.0, 0.0]\n",
            "Val Predict: \n",
            "[1, 0, 0, 1, 1, 1, 1, 1, 1, 0, 0, 1, 0, 1, 0, 1, 1, 1, 0, 0, 0]\n",
            "Validation loss : 0.6890273690223694, validation accuracy : 9.0, bac score : 0.4605263157894737  after epoch : 1\n",
            "Running epoch  2  of  10\n"
          ]
        },
        {
          "output_type": "stream",
          "name": "stderr",
          "text": [
            "/usr/local/lib/python3.7/dist-packages/ipykernel_launcher.py:79: UserWarning: To copy construct from a tensor, it is recommended to use sourceTensor.clone().detach() or sourceTensor.clone().detach().requires_grad_(True), rather than torch.tensor(sourceTensor).\n",
            "/usr/local/lib/python3.7/dist-packages/ipykernel_launcher.py:80: UserWarning: To copy construct from a tensor, it is recommended to use sourceTensor.clone().detach() or sourceTensor.clone().detach().requires_grad_(True), rather than torch.tensor(sourceTensor).\n"
          ]
        },
        {
          "output_type": "stream",
          "name": "stdout",
          "text": [
            "y shape torch.Size([50])\n",
            "x shape torch.Size([50, 2])\n",
            "y shape torch.Size([50])\n",
            "x shape torch.Size([50, 2])\n",
            "y shape torch.Size([50])\n",
            "x shape torch.Size([50, 2])\n",
            "y shape torch.Size([36])\n",
            "x shape torch.Size([36, 2])\n",
            "Training loss : 2.7490885853767395, training accuracy : 21.75, training BAC: 0.42930191196087153 after epoch : 2\n",
            "EPOCHHH DONE NEXT UP \n"
          ]
        },
        {
          "output_type": "stream",
          "name": "stderr",
          "text": [
            "/usr/local/lib/python3.7/dist-packages/ipykernel_launcher.py:151: UserWarning: To copy construct from a tensor, it is recommended to use sourceTensor.clone().detach() or sourceTensor.clone().detach().requires_grad_(True), rather than torch.tensor(sourceTensor).\n",
            "/usr/local/lib/python3.7/dist-packages/ipykernel_launcher.py:152: UserWarning: To copy construct from a tensor, it is recommended to use sourceTensor.clone().detach() or sourceTensor.clone().detach().requires_grad_(True), rather than torch.tensor(sourceTensor).\n"
          ]
        },
        {
          "output_type": "stream",
          "name": "stdout",
          "text": [
            "Val Actual: \n",
            "[1.0, 1.0, 0.0, 0.0, 0.0, 0.0, 0.0, 0.0, 0.0, 0.0, 0.0, 0.0, 0.0, 0.0, 0.0, 0.0, 0.0, 0.0, 0.0, 0.0, 0.0]\n",
            "Val Predict: \n",
            "[1, 0, 0, 1, 1, 1, 1, 1, 0, 1, 0, 1, 1, 1, 0, 1, 1, 1, 0, 0, 0]\n",
            "Validation loss : 0.6918850541114807, validation accuracy : 8.0, bac score : 0.4342105263157895  after epoch : 2\n",
            "Running epoch  3  of  10\n"
          ]
        },
        {
          "output_type": "stream",
          "name": "stderr",
          "text": [
            "/usr/local/lib/python3.7/dist-packages/ipykernel_launcher.py:79: UserWarning: To copy construct from a tensor, it is recommended to use sourceTensor.clone().detach() or sourceTensor.clone().detach().requires_grad_(True), rather than torch.tensor(sourceTensor).\n",
            "/usr/local/lib/python3.7/dist-packages/ipykernel_launcher.py:80: UserWarning: To copy construct from a tensor, it is recommended to use sourceTensor.clone().detach() or sourceTensor.clone().detach().requires_grad_(True), rather than torch.tensor(sourceTensor).\n"
          ]
        },
        {
          "output_type": "stream",
          "name": "stdout",
          "text": [
            "y shape torch.Size([50])\n",
            "x shape torch.Size([50, 2])\n",
            "y shape torch.Size([50])\n",
            "x shape torch.Size([50, 2])\n",
            "y shape torch.Size([50])\n",
            "x shape torch.Size([50, 2])\n",
            "y shape torch.Size([36])\n",
            "x shape torch.Size([36, 2])\n",
            "Training loss : 2.7572526931762695, training accuracy : 20.5, training BAC: 0.3437083148065807 after epoch : 3\n",
            "EPOCHHH DONE NEXT UP \n"
          ]
        },
        {
          "output_type": "stream",
          "name": "stderr",
          "text": [
            "/usr/local/lib/python3.7/dist-packages/ipykernel_launcher.py:151: UserWarning: To copy construct from a tensor, it is recommended to use sourceTensor.clone().detach() or sourceTensor.clone().detach().requires_grad_(True), rather than torch.tensor(sourceTensor).\n",
            "/usr/local/lib/python3.7/dist-packages/ipykernel_launcher.py:152: UserWarning: To copy construct from a tensor, it is recommended to use sourceTensor.clone().detach() or sourceTensor.clone().detach().requires_grad_(True), rather than torch.tensor(sourceTensor).\n"
          ]
        },
        {
          "output_type": "stream",
          "name": "stdout",
          "text": [
            "Val Actual: \n",
            "[1.0, 1.0, 0.0, 0.0, 0.0, 0.0, 0.0, 0.0, 0.0, 0.0, 0.0, 0.0, 0.0, 0.0, 0.0, 0.0, 0.0, 0.0, 0.0, 0.0, 0.0]\n",
            "Val Predict: \n",
            "[0, 0, 0, 1, 1, 1, 1, 1, 1, 1, 0, 1, 0, 1, 0, 1, 1, 1, 0, 0, 1]\n",
            "Validation loss : 0.6966631412506104, validation accuracy : 6.0, bac score : 0.15789473684210525  after epoch : 3\n",
            "Running epoch  4  of  10\n"
          ]
        },
        {
          "output_type": "stream",
          "name": "stderr",
          "text": [
            "/usr/local/lib/python3.7/dist-packages/ipykernel_launcher.py:79: UserWarning: To copy construct from a tensor, it is recommended to use sourceTensor.clone().detach() or sourceTensor.clone().detach().requires_grad_(True), rather than torch.tensor(sourceTensor).\n",
            "/usr/local/lib/python3.7/dist-packages/ipykernel_launcher.py:80: UserWarning: To copy construct from a tensor, it is recommended to use sourceTensor.clone().detach() or sourceTensor.clone().detach().requires_grad_(True), rather than torch.tensor(sourceTensor).\n"
          ]
        },
        {
          "output_type": "stream",
          "name": "stdout",
          "text": [
            "y shape torch.Size([50])\n",
            "x shape torch.Size([50, 2])\n",
            "y shape torch.Size([50])\n",
            "x shape torch.Size([50, 2])\n",
            "y shape torch.Size([50])\n",
            "x shape torch.Size([50, 2])\n",
            "y shape torch.Size([36])\n",
            "x shape torch.Size([36, 2])\n",
            "Training loss : 2.7488620281219482, training accuracy : 20.75, training BAC: 0.38216985326811914 after epoch : 4\n",
            "EPOCHHH DONE NEXT UP \n"
          ]
        },
        {
          "output_type": "stream",
          "name": "stderr",
          "text": [
            "/usr/local/lib/python3.7/dist-packages/ipykernel_launcher.py:151: UserWarning: To copy construct from a tensor, it is recommended to use sourceTensor.clone().detach() or sourceTensor.clone().detach().requires_grad_(True), rather than torch.tensor(sourceTensor).\n",
            "/usr/local/lib/python3.7/dist-packages/ipykernel_launcher.py:152: UserWarning: To copy construct from a tensor, it is recommended to use sourceTensor.clone().detach() or sourceTensor.clone().detach().requires_grad_(True), rather than torch.tensor(sourceTensor).\n"
          ]
        },
        {
          "output_type": "stream",
          "name": "stdout",
          "text": [
            "Val Actual: \n",
            "[1.0, 1.0, 0.0, 0.0, 0.0, 0.0, 0.0, 0.0, 0.0, 0.0, 0.0, 0.0, 0.0, 0.0, 0.0, 0.0, 0.0, 0.0, 0.0, 0.0, 0.0]\n",
            "Val Predict: \n",
            "[1, 1, 0, 1, 1, 1, 1, 1, 1, 1, 0, 1, 1, 0, 0, 1, 1, 1, 1, 1, 0]\n",
            "Validation loss : 0.6859114766120911, validation accuracy : 7.0, bac score : 0.631578947368421  after epoch : 4\n",
            "Running epoch  5  of  10\n"
          ]
        },
        {
          "output_type": "stream",
          "name": "stderr",
          "text": [
            "/usr/local/lib/python3.7/dist-packages/ipykernel_launcher.py:79: UserWarning: To copy construct from a tensor, it is recommended to use sourceTensor.clone().detach() or sourceTensor.clone().detach().requires_grad_(True), rather than torch.tensor(sourceTensor).\n",
            "/usr/local/lib/python3.7/dist-packages/ipykernel_launcher.py:80: UserWarning: To copy construct from a tensor, it is recommended to use sourceTensor.clone().detach() or sourceTensor.clone().detach().requires_grad_(True), rather than torch.tensor(sourceTensor).\n"
          ]
        },
        {
          "output_type": "stream",
          "name": "stdout",
          "text": [
            "y shape torch.Size([50])\n",
            "x shape torch.Size([50, 2])\n",
            "y shape torch.Size([50])\n",
            "x shape torch.Size([50, 2])\n",
            "y shape torch.Size([50])\n",
            "x shape torch.Size([50, 2])\n",
            "y shape torch.Size([36])\n",
            "x shape torch.Size([36, 2])\n",
            "Training loss : 2.7795318961143494, training accuracy : 19.75, training BAC: 0.2638950644730992 after epoch : 5\n",
            "EPOCHHH DONE NEXT UP \n"
          ]
        },
        {
          "output_type": "stream",
          "name": "stderr",
          "text": [
            "/usr/local/lib/python3.7/dist-packages/ipykernel_launcher.py:151: UserWarning: To copy construct from a tensor, it is recommended to use sourceTensor.clone().detach() or sourceTensor.clone().detach().requires_grad_(True), rather than torch.tensor(sourceTensor).\n",
            "/usr/local/lib/python3.7/dist-packages/ipykernel_launcher.py:152: UserWarning: To copy construct from a tensor, it is recommended to use sourceTensor.clone().detach() or sourceTensor.clone().detach().requires_grad_(True), rather than torch.tensor(sourceTensor).\n"
          ]
        },
        {
          "output_type": "stream",
          "name": "stdout",
          "text": [
            "Val Actual: \n",
            "[1.0, 1.0, 0.0, 0.0, 0.0, 0.0, 0.0, 0.0, 0.0, 0.0, 0.0, 0.0, 0.0, 0.0, 0.0, 0.0, 0.0, 0.0, 0.0, 0.0, 0.0]\n",
            "Val Predict: \n",
            "[0, 1, 0, 1, 1, 1, 1, 1, 1, 1, 0, 1, 1, 1, 0, 0, 1, 1, 0, 1, 0]\n",
            "Validation loss : 0.6968404650688171, validation accuracy : 7.0, bac score : 0.40789473684210525  after epoch : 5\n",
            "Running epoch  6  of  10\n"
          ]
        },
        {
          "output_type": "stream",
          "name": "stderr",
          "text": [
            "/usr/local/lib/python3.7/dist-packages/ipykernel_launcher.py:79: UserWarning: To copy construct from a tensor, it is recommended to use sourceTensor.clone().detach() or sourceTensor.clone().detach().requires_grad_(True), rather than torch.tensor(sourceTensor).\n",
            "/usr/local/lib/python3.7/dist-packages/ipykernel_launcher.py:80: UserWarning: To copy construct from a tensor, it is recommended to use sourceTensor.clone().detach() or sourceTensor.clone().detach().requires_grad_(True), rather than torch.tensor(sourceTensor).\n"
          ]
        },
        {
          "output_type": "stream",
          "name": "stdout",
          "text": [
            "y shape torch.Size([50])\n",
            "x shape torch.Size([50, 2])\n",
            "y shape torch.Size([50])\n",
            "x shape torch.Size([50, 2])\n",
            "y shape torch.Size([50])\n",
            "x shape torch.Size([50, 2])\n",
            "y shape torch.Size([36])\n",
            "x shape torch.Size([36, 2])\n",
            "Training loss : 2.756392478942871, training accuracy : 21.25, training BAC: 0.38795020008892844 after epoch : 6\n",
            "EPOCHHH DONE NEXT UP \n"
          ]
        },
        {
          "output_type": "stream",
          "name": "stderr",
          "text": [
            "/usr/local/lib/python3.7/dist-packages/ipykernel_launcher.py:151: UserWarning: To copy construct from a tensor, it is recommended to use sourceTensor.clone().detach() or sourceTensor.clone().detach().requires_grad_(True), rather than torch.tensor(sourceTensor).\n",
            "/usr/local/lib/python3.7/dist-packages/ipykernel_launcher.py:152: UserWarning: To copy construct from a tensor, it is recommended to use sourceTensor.clone().detach() or sourceTensor.clone().detach().requires_grad_(True), rather than torch.tensor(sourceTensor).\n"
          ]
        },
        {
          "output_type": "stream",
          "name": "stdout",
          "text": [
            "Val Actual: \n",
            "[1.0, 1.0, 0.0, 0.0, 0.0, 0.0, 0.0, 0.0, 0.0, 0.0, 0.0, 0.0, 0.0, 0.0, 0.0, 0.0, 0.0, 0.0, 0.0, 0.0, 0.0]\n",
            "Val Predict: \n",
            "[0, 1, 0, 1, 1, 1, 1, 1, 1, 1, 0, 1, 1, 1, 0, 1, 0, 1, 0, 0, 0]\n",
            "Validation loss : 0.6882763504981995, validation accuracy : 8.0, bac score : 0.4342105263157895  after epoch : 6\n",
            "Running epoch  7  of  10\n"
          ]
        },
        {
          "output_type": "stream",
          "name": "stderr",
          "text": [
            "/usr/local/lib/python3.7/dist-packages/ipykernel_launcher.py:79: UserWarning: To copy construct from a tensor, it is recommended to use sourceTensor.clone().detach() or sourceTensor.clone().detach().requires_grad_(True), rather than torch.tensor(sourceTensor).\n",
            "/usr/local/lib/python3.7/dist-packages/ipykernel_launcher.py:80: UserWarning: To copy construct from a tensor, it is recommended to use sourceTensor.clone().detach() or sourceTensor.clone().detach().requires_grad_(True), rather than torch.tensor(sourceTensor).\n"
          ]
        },
        {
          "output_type": "stream",
          "name": "stdout",
          "text": [
            "y shape torch.Size([50])\n",
            "x shape torch.Size([50, 2])\n",
            "y shape torch.Size([50])\n",
            "x shape torch.Size([50, 2])\n",
            "y shape torch.Size([50])\n",
            "x shape torch.Size([50, 2])\n",
            "y shape torch.Size([36])\n",
            "x shape torch.Size([36, 2])\n",
            "Training loss : 2.778015375137329, training accuracy : 19.25, training BAC: 0.2936860827034238 after epoch : 7\n",
            "EPOCHHH DONE NEXT UP \n"
          ]
        },
        {
          "output_type": "stream",
          "name": "stderr",
          "text": [
            "/usr/local/lib/python3.7/dist-packages/ipykernel_launcher.py:151: UserWarning: To copy construct from a tensor, it is recommended to use sourceTensor.clone().detach() or sourceTensor.clone().detach().requires_grad_(True), rather than torch.tensor(sourceTensor).\n",
            "/usr/local/lib/python3.7/dist-packages/ipykernel_launcher.py:152: UserWarning: To copy construct from a tensor, it is recommended to use sourceTensor.clone().detach() or sourceTensor.clone().detach().requires_grad_(True), rather than torch.tensor(sourceTensor).\n"
          ]
        },
        {
          "output_type": "stream",
          "name": "stdout",
          "text": [
            "Val Actual: \n",
            "[1.0, 1.0, 0.0, 0.0, 0.0, 0.0, 0.0, 0.0, 0.0, 0.0, 0.0, 0.0, 0.0, 0.0, 0.0, 0.0, 0.0, 0.0, 0.0, 0.0, 0.0]\n",
            "Val Predict: \n",
            "[0, 0, 0, 1, 1, 1, 1, 1, 1, 1, 0, 1, 1, 0, 0, 1, 1, 1, 0, 0, 1]\n",
            "Validation loss : 0.6954513788223267, validation accuracy : 6.0, bac score : 0.15789473684210525  after epoch : 7\n",
            "Running epoch  8  of  10\n"
          ]
        },
        {
          "output_type": "stream",
          "name": "stderr",
          "text": [
            "/usr/local/lib/python3.7/dist-packages/ipykernel_launcher.py:79: UserWarning: To copy construct from a tensor, it is recommended to use sourceTensor.clone().detach() or sourceTensor.clone().detach().requires_grad_(True), rather than torch.tensor(sourceTensor).\n",
            "/usr/local/lib/python3.7/dist-packages/ipykernel_launcher.py:80: UserWarning: To copy construct from a tensor, it is recommended to use sourceTensor.clone().detach() or sourceTensor.clone().detach().requires_grad_(True), rather than torch.tensor(sourceTensor).\n"
          ]
        },
        {
          "output_type": "stream",
          "name": "stdout",
          "text": [
            "y shape torch.Size([50])\n",
            "x shape torch.Size([50, 2])\n",
            "y shape torch.Size([50])\n",
            "x shape torch.Size([50, 2])\n",
            "y shape torch.Size([50])\n",
            "x shape torch.Size([50, 2])\n",
            "y shape torch.Size([36])\n",
            "x shape torch.Size([36, 2])\n",
            "Training loss : 2.7512144446372986, training accuracy : 19.75, training BAC: 0.44175188972876833 after epoch : 8\n",
            "EPOCHHH DONE NEXT UP \n"
          ]
        },
        {
          "output_type": "stream",
          "name": "stderr",
          "text": [
            "/usr/local/lib/python3.7/dist-packages/ipykernel_launcher.py:151: UserWarning: To copy construct from a tensor, it is recommended to use sourceTensor.clone().detach() or sourceTensor.clone().detach().requires_grad_(True), rather than torch.tensor(sourceTensor).\n",
            "/usr/local/lib/python3.7/dist-packages/ipykernel_launcher.py:152: UserWarning: To copy construct from a tensor, it is recommended to use sourceTensor.clone().detach() or sourceTensor.clone().detach().requires_grad_(True), rather than torch.tensor(sourceTensor).\n"
          ]
        },
        {
          "output_type": "stream",
          "name": "stdout",
          "text": [
            "Val Actual: \n",
            "[1.0, 1.0, 0.0, 0.0, 0.0, 0.0, 0.0, 0.0, 0.0, 0.0, 0.0, 0.0, 0.0, 0.0, 0.0, 0.0, 0.0, 0.0, 0.0, 0.0, 0.0]\n",
            "Val Predict: \n",
            "[1, 1, 0, 1, 1, 1, 1, 1, 1, 0, 0, 1, 0, 0, 0, 0, 1, 1, 0, 0, 1]\n",
            "Validation loss : 0.6793767213821411, validation accuracy : 11.0, bac score : 0.7368421052631579  after epoch : 8\n",
            "Running epoch  9  of  10\n"
          ]
        },
        {
          "output_type": "stream",
          "name": "stderr",
          "text": [
            "/usr/local/lib/python3.7/dist-packages/ipykernel_launcher.py:79: UserWarning: To copy construct from a tensor, it is recommended to use sourceTensor.clone().detach() or sourceTensor.clone().detach().requires_grad_(True), rather than torch.tensor(sourceTensor).\n",
            "/usr/local/lib/python3.7/dist-packages/ipykernel_launcher.py:80: UserWarning: To copy construct from a tensor, it is recommended to use sourceTensor.clone().detach() or sourceTensor.clone().detach().requires_grad_(True), rather than torch.tensor(sourceTensor).\n"
          ]
        },
        {
          "output_type": "stream",
          "name": "stdout",
          "text": [
            "y shape torch.Size([50])\n",
            "x shape torch.Size([50, 2])\n",
            "y shape torch.Size([50])\n",
            "x shape torch.Size([50, 2])\n",
            "y shape torch.Size([50])\n",
            "x shape torch.Size([50, 2])\n",
            "y shape torch.Size([36])\n",
            "x shape torch.Size([36, 2])\n",
            "Training loss : 2.758152425289154, training accuracy : 20.5, training BAC: 0.3437083148065807 after epoch : 9\n",
            "EPOCHHH DONE NEXT UP \n"
          ]
        },
        {
          "output_type": "stream",
          "name": "stderr",
          "text": [
            "/usr/local/lib/python3.7/dist-packages/ipykernel_launcher.py:151: UserWarning: To copy construct from a tensor, it is recommended to use sourceTensor.clone().detach() or sourceTensor.clone().detach().requires_grad_(True), rather than torch.tensor(sourceTensor).\n",
            "/usr/local/lib/python3.7/dist-packages/ipykernel_launcher.py:152: UserWarning: To copy construct from a tensor, it is recommended to use sourceTensor.clone().detach() or sourceTensor.clone().detach().requires_grad_(True), rather than torch.tensor(sourceTensor).\n"
          ]
        },
        {
          "output_type": "stream",
          "name": "stdout",
          "text": [
            "Val Actual: \n",
            "[1.0, 1.0, 0.0, 0.0, 0.0, 0.0, 0.0, 0.0, 0.0, 0.0, 0.0, 0.0, 0.0, 0.0, 0.0, 0.0, 0.0, 0.0, 0.0, 0.0, 0.0]\n",
            "Val Predict: \n",
            "[1, 0, 0, 1, 1, 1, 1, 1, 0, 1, 0, 0, 0, 1, 0, 1, 1, 1, 0, 0, 1]\n",
            "Validation loss : 0.6894058585166931, validation accuracy : 9.0, bac score : 0.4605263157894737  after epoch : 9\n",
            "MODEL TRAINING IS FINISHED!\n",
            "Train Index: [  0   1   2   3   4   5   6   8   9  10  11  12  14  15  16  18  20  22\n",
            "  23  24  25  26  27  28  29  30  31  32  33  34  35  36  37  39  40  41\n",
            "  42  43  44  45  46  47  48  49  50  51  52  53  54  55  56  58  59  60\n",
            "  61  62  63  64  65  66  67  68  71  72  74  75  76  77  78  80  81  82\n",
            "  83  84  85  86  87  88  89  90  91  92  94  95  96  97  98  99 100 101\n",
            " 102 104 106 107 108 109 110 111 112 113 115 116 117 118 119 120 121 122\n",
            " 123 124 125 126 127 129 130 131 132 133 134 135 136 137 138 139 140 141\n",
            " 142 144 145 147 148 149 150 151 152 153 154 155 156 157 158 159 160 161\n",
            " 162 163 164 165 166 167 168 169 170 171 172 173 174 175 176 177 178 179\n",
            " 180 181 182 183 185 186 187 188 189 190 191 192 193 194 195 196 199 200\n",
            " 201 202 203 204 205 206], size: 186\n",
            "Test Index: [  7  13  17  19  21  38  57  69  70  73  79  93 103 105 114 128 143 146\n",
            " 184 197 198], size: 21\n",
            "Length of the dataset: 207\n",
            "IMAGE SIZE : torch.Size([50, 51, 32, 32])\n",
            "LABEL SIZE :  torch.Size([50, 1])\n",
            "NETWORK LOADED\n",
            "MODEL TRAINING STARTS\n",
            "Running epoch  0  of  10\n"
          ]
        },
        {
          "output_type": "stream",
          "name": "stderr",
          "text": [
            "/usr/local/lib/python3.7/dist-packages/ipykernel_launcher.py:79: UserWarning: To copy construct from a tensor, it is recommended to use sourceTensor.clone().detach() or sourceTensor.clone().detach().requires_grad_(True), rather than torch.tensor(sourceTensor).\n",
            "/usr/local/lib/python3.7/dist-packages/ipykernel_launcher.py:80: UserWarning: To copy construct from a tensor, it is recommended to use sourceTensor.clone().detach() or sourceTensor.clone().detach().requires_grad_(True), rather than torch.tensor(sourceTensor).\n"
          ]
        },
        {
          "output_type": "stream",
          "name": "stdout",
          "text": [
            "y shape torch.Size([50])\n",
            "x shape torch.Size([50, 2])\n",
            "y shape torch.Size([50])\n",
            "x shape torch.Size([50, 2])\n",
            "y shape torch.Size([50])\n",
            "x shape torch.Size([50, 2])\n",
            "y shape torch.Size([36])\n",
            "x shape torch.Size([36, 2])\n",
            "Training loss : 2.672769546508789, training accuracy : 36.75, training BAC: 0.602712316585149 after epoch : 0\n",
            "EPOCHHH DONE NEXT UP \n"
          ]
        },
        {
          "output_type": "stream",
          "name": "stderr",
          "text": [
            "/usr/local/lib/python3.7/dist-packages/ipykernel_launcher.py:151: UserWarning: To copy construct from a tensor, it is recommended to use sourceTensor.clone().detach() or sourceTensor.clone().detach().requires_grad_(True), rather than torch.tensor(sourceTensor).\n",
            "/usr/local/lib/python3.7/dist-packages/ipykernel_launcher.py:152: UserWarning: To copy construct from a tensor, it is recommended to use sourceTensor.clone().detach() or sourceTensor.clone().detach().requires_grad_(True), rather than torch.tensor(sourceTensor).\n"
          ]
        },
        {
          "output_type": "stream",
          "name": "stdout",
          "text": [
            "Val Actual: \n",
            "[1.0, 1.0, 0.0, 0.0, 0.0, 0.0, 0.0, 0.0, 0.0, 0.0, 0.0, 0.0, 0.0, 0.0, 0.0, 0.0, 0.0, 0.0, 0.0, 0.0, 0.0]\n",
            "Val Predict: \n",
            "[0, 0, 0, 1, 1, 1, 0, 1, 0, 1, 0, 0, 0, 0, 0, 0, 0, 0, 0, 0, 0]\n",
            "Validation loss : 0.6769558191299438, validation accuracy : 14.0, bac score : 0.3684210526315789  after epoch : 0\n",
            "Running epoch  1  of  10\n"
          ]
        },
        {
          "output_type": "stream",
          "name": "stderr",
          "text": [
            "/usr/local/lib/python3.7/dist-packages/ipykernel_launcher.py:79: UserWarning: To copy construct from a tensor, it is recommended to use sourceTensor.clone().detach() or sourceTensor.clone().detach().requires_grad_(True), rather than torch.tensor(sourceTensor).\n",
            "/usr/local/lib/python3.7/dist-packages/ipykernel_launcher.py:80: UserWarning: To copy construct from a tensor, it is recommended to use sourceTensor.clone().detach() or sourceTensor.clone().detach().requires_grad_(True), rather than torch.tensor(sourceTensor).\n"
          ]
        },
        {
          "output_type": "stream",
          "name": "stdout",
          "text": [
            "y shape torch.Size([50])\n",
            "x shape torch.Size([50, 2])\n",
            "y shape torch.Size([50])\n",
            "x shape torch.Size([50, 2])\n",
            "y shape torch.Size([50])\n",
            "x shape torch.Size([50, 2])\n",
            "y shape torch.Size([36])\n",
            "x shape torch.Size([36, 2])\n",
            "Training loss : 2.6781086921691895, training accuracy : 37.25, training BAC: 0.6796353935082259 after epoch : 1\n",
            "EPOCHHH DONE NEXT UP \n"
          ]
        },
        {
          "output_type": "stream",
          "name": "stderr",
          "text": [
            "/usr/local/lib/python3.7/dist-packages/ipykernel_launcher.py:151: UserWarning: To copy construct from a tensor, it is recommended to use sourceTensor.clone().detach() or sourceTensor.clone().detach().requires_grad_(True), rather than torch.tensor(sourceTensor).\n",
            "/usr/local/lib/python3.7/dist-packages/ipykernel_launcher.py:152: UserWarning: To copy construct from a tensor, it is recommended to use sourceTensor.clone().detach() or sourceTensor.clone().detach().requires_grad_(True), rather than torch.tensor(sourceTensor).\n"
          ]
        },
        {
          "output_type": "stream",
          "name": "stdout",
          "text": [
            "Val Actual: \n",
            "[1.0, 1.0, 0.0, 0.0, 0.0, 0.0, 0.0, 0.0, 0.0, 0.0, 0.0, 0.0, 0.0, 0.0, 0.0, 0.0, 0.0, 0.0, 0.0, 0.0, 0.0]\n",
            "Val Predict: \n",
            "[0, 1, 0, 1, 1, 1, 0, 0, 0, 0, 0, 0, 0, 0, 0, 0, 0, 0, 0, 0, 0]\n",
            "Validation loss : 0.6488569378852844, validation accuracy : 17.0, bac score : 0.6710526315789473  after epoch : 1\n",
            "Running epoch  2  of  10\n"
          ]
        },
        {
          "output_type": "stream",
          "name": "stderr",
          "text": [
            "/usr/local/lib/python3.7/dist-packages/ipykernel_launcher.py:79: UserWarning: To copy construct from a tensor, it is recommended to use sourceTensor.clone().detach() or sourceTensor.clone().detach().requires_grad_(True), rather than torch.tensor(sourceTensor).\n",
            "/usr/local/lib/python3.7/dist-packages/ipykernel_launcher.py:80: UserWarning: To copy construct from a tensor, it is recommended to use sourceTensor.clone().detach() or sourceTensor.clone().detach().requires_grad_(True), rather than torch.tensor(sourceTensor).\n"
          ]
        },
        {
          "output_type": "stream",
          "name": "stdout",
          "text": [
            "y shape torch.Size([50])\n",
            "x shape torch.Size([50, 2])\n",
            "y shape torch.Size([50])\n",
            "x shape torch.Size([50, 2])\n",
            "y shape torch.Size([50])\n",
            "x shape torch.Size([50, 2])\n",
            "y shape torch.Size([36])\n",
            "x shape torch.Size([36, 2])\n",
            "Training loss : 2.669215738773346, training accuracy : 37.25, training BAC: 0.5373499333036905 after epoch : 2\n",
            "EPOCHHH DONE NEXT UP \n"
          ]
        },
        {
          "output_type": "stream",
          "name": "stderr",
          "text": [
            "/usr/local/lib/python3.7/dist-packages/ipykernel_launcher.py:151: UserWarning: To copy construct from a tensor, it is recommended to use sourceTensor.clone().detach() or sourceTensor.clone().detach().requires_grad_(True), rather than torch.tensor(sourceTensor).\n",
            "/usr/local/lib/python3.7/dist-packages/ipykernel_launcher.py:152: UserWarning: To copy construct from a tensor, it is recommended to use sourceTensor.clone().detach() or sourceTensor.clone().detach().requires_grad_(True), rather than torch.tensor(sourceTensor).\n"
          ]
        },
        {
          "output_type": "stream",
          "name": "stdout",
          "text": [
            "Val Actual: \n",
            "[1.0, 1.0, 0.0, 0.0, 0.0, 0.0, 0.0, 0.0, 0.0, 0.0, 0.0, 0.0, 0.0, 0.0, 0.0, 0.0, 0.0, 0.0, 0.0, 0.0, 0.0]\n",
            "Val Predict: \n",
            "[0, 0, 0, 0, 0, 0, 0, 0, 0, 0, 0, 0, 0, 0, 0, 0, 0, 0, 0, 0, 0]\n",
            "Validation loss : 0.6592622399330139, validation accuracy : 19.0, bac score : 0.5  after epoch : 2\n",
            "Running epoch  3  of  10\n"
          ]
        },
        {
          "output_type": "stream",
          "name": "stderr",
          "text": [
            "/usr/local/lib/python3.7/dist-packages/ipykernel_launcher.py:79: UserWarning: To copy construct from a tensor, it is recommended to use sourceTensor.clone().detach() or sourceTensor.clone().detach().requires_grad_(True), rather than torch.tensor(sourceTensor).\n",
            "/usr/local/lib/python3.7/dist-packages/ipykernel_launcher.py:80: UserWarning: To copy construct from a tensor, it is recommended to use sourceTensor.clone().detach() or sourceTensor.clone().detach().requires_grad_(True), rather than torch.tensor(sourceTensor).\n"
          ]
        },
        {
          "output_type": "stream",
          "name": "stdout",
          "text": [
            "y shape torch.Size([50])\n",
            "x shape torch.Size([50, 2])\n",
            "y shape torch.Size([50])\n",
            "x shape torch.Size([50, 2])\n",
            "y shape torch.Size([50])\n",
            "x shape torch.Size([50, 2])\n",
            "y shape torch.Size([36])\n",
            "x shape torch.Size([36, 2])\n",
            "Training loss : 2.669805943965912, training accuracy : 37.25, training BAC: 0.6084926634059582 after epoch : 3\n",
            "EPOCHHH DONE NEXT UP \n"
          ]
        },
        {
          "output_type": "stream",
          "name": "stderr",
          "text": [
            "/usr/local/lib/python3.7/dist-packages/ipykernel_launcher.py:151: UserWarning: To copy construct from a tensor, it is recommended to use sourceTensor.clone().detach() or sourceTensor.clone().detach().requires_grad_(True), rather than torch.tensor(sourceTensor).\n",
            "/usr/local/lib/python3.7/dist-packages/ipykernel_launcher.py:152: UserWarning: To copy construct from a tensor, it is recommended to use sourceTensor.clone().detach() or sourceTensor.clone().detach().requires_grad_(True), rather than torch.tensor(sourceTensor).\n"
          ]
        },
        {
          "output_type": "stream",
          "name": "stdout",
          "text": [
            "Val Actual: \n",
            "[1.0, 1.0, 0.0, 0.0, 0.0, 0.0, 0.0, 0.0, 0.0, 0.0, 0.0, 0.0, 0.0, 0.0, 0.0, 0.0, 0.0, 0.0, 0.0, 0.0, 0.0]\n",
            "Val Predict: \n",
            "[0, 1, 0, 1, 0, 0, 0, 0, 0, 0, 0, 0, 0, 0, 0, 0, 0, 0, 0, 1, 0]\n",
            "Validation loss : 0.6360917687416077, validation accuracy : 18.0, bac score : 0.6973684210526316  after epoch : 3\n",
            "Running epoch  4  of  10\n"
          ]
        },
        {
          "output_type": "stream",
          "name": "stderr",
          "text": [
            "/usr/local/lib/python3.7/dist-packages/ipykernel_launcher.py:79: UserWarning: To copy construct from a tensor, it is recommended to use sourceTensor.clone().detach() or sourceTensor.clone().detach().requires_grad_(True), rather than torch.tensor(sourceTensor).\n",
            "/usr/local/lib/python3.7/dist-packages/ipykernel_launcher.py:80: UserWarning: To copy construct from a tensor, it is recommended to use sourceTensor.clone().detach() or sourceTensor.clone().detach().requires_grad_(True), rather than torch.tensor(sourceTensor).\n"
          ]
        },
        {
          "output_type": "stream",
          "name": "stdout",
          "text": [
            "y shape torch.Size([50])\n",
            "x shape torch.Size([50, 2])\n",
            "y shape torch.Size([50])\n",
            "x shape torch.Size([50, 2])\n",
            "y shape torch.Size([50])\n",
            "x shape torch.Size([50, 2])\n",
            "y shape torch.Size([36])\n",
            "x shape torch.Size([36, 2])\n",
            "Training loss : 2.6785295009613037, training accuracy : 36.25, training BAC: 0.525789239662072 after epoch : 4\n",
            "EPOCHHH DONE NEXT UP \n"
          ]
        },
        {
          "output_type": "stream",
          "name": "stderr",
          "text": [
            "/usr/local/lib/python3.7/dist-packages/ipykernel_launcher.py:151: UserWarning: To copy construct from a tensor, it is recommended to use sourceTensor.clone().detach() or sourceTensor.clone().detach().requires_grad_(True), rather than torch.tensor(sourceTensor).\n",
            "/usr/local/lib/python3.7/dist-packages/ipykernel_launcher.py:152: UserWarning: To copy construct from a tensor, it is recommended to use sourceTensor.clone().detach() or sourceTensor.clone().detach().requires_grad_(True), rather than torch.tensor(sourceTensor).\n"
          ]
        },
        {
          "output_type": "stream",
          "name": "stdout",
          "text": [
            "Val Actual: \n",
            "[1.0, 1.0, 0.0, 0.0, 0.0, 0.0, 0.0, 0.0, 0.0, 0.0, 0.0, 0.0, 0.0, 0.0, 0.0, 0.0, 0.0, 0.0, 0.0, 0.0, 0.0]\n",
            "Val Predict: \n",
            "[0, 0, 0, 1, 0, 1, 0, 0, 0, 1, 0, 0, 0, 0, 0, 1, 0, 0, 0, 0, 0]\n",
            "Validation loss : 0.6666213870048523, validation accuracy : 15.0, bac score : 0.39473684210526316  after epoch : 4\n",
            "Running epoch  5  of  10\n"
          ]
        },
        {
          "output_type": "stream",
          "name": "stderr",
          "text": [
            "/usr/local/lib/python3.7/dist-packages/ipykernel_launcher.py:79: UserWarning: To copy construct from a tensor, it is recommended to use sourceTensor.clone().detach() or sourceTensor.clone().detach().requires_grad_(True), rather than torch.tensor(sourceTensor).\n",
            "/usr/local/lib/python3.7/dist-packages/ipykernel_launcher.py:80: UserWarning: To copy construct from a tensor, it is recommended to use sourceTensor.clone().detach() or sourceTensor.clone().detach().requires_grad_(True), rather than torch.tensor(sourceTensor).\n"
          ]
        },
        {
          "output_type": "stream",
          "name": "stdout",
          "text": [
            "y shape torch.Size([50])\n",
            "x shape torch.Size([50, 2])\n",
            "y shape torch.Size([50])\n",
            "x shape torch.Size([50, 2])\n",
            "y shape torch.Size([50])\n",
            "x shape torch.Size([50, 2])\n",
            "y shape torch.Size([36])\n",
            "x shape torch.Size([36, 2])\n",
            "Training loss : 2.6785441040992737, training accuracy : 36.5, training BAC: 0.5998221431747444 after epoch : 5\n",
            "EPOCHHH DONE NEXT UP \n"
          ]
        },
        {
          "output_type": "stream",
          "name": "stderr",
          "text": [
            "/usr/local/lib/python3.7/dist-packages/ipykernel_launcher.py:151: UserWarning: To copy construct from a tensor, it is recommended to use sourceTensor.clone().detach() or sourceTensor.clone().detach().requires_grad_(True), rather than torch.tensor(sourceTensor).\n",
            "/usr/local/lib/python3.7/dist-packages/ipykernel_launcher.py:152: UserWarning: To copy construct from a tensor, it is recommended to use sourceTensor.clone().detach() or sourceTensor.clone().detach().requires_grad_(True), rather than torch.tensor(sourceTensor).\n"
          ]
        },
        {
          "output_type": "stream",
          "name": "stdout",
          "text": [
            "Val Actual: \n",
            "[1.0, 1.0, 0.0, 0.0, 0.0, 0.0, 0.0, 0.0, 0.0, 0.0, 0.0, 0.0, 0.0, 0.0, 0.0, 0.0, 0.0, 0.0, 0.0, 0.0, 0.0]\n",
            "Val Predict: \n",
            "[0, 1, 0, 0, 1, 0, 0, 0, 0, 1, 1, 0, 0, 0, 0, 0, 0, 0, 0, 0, 0]\n",
            "Validation loss : 0.6516938805580139, validation accuracy : 17.0, bac score : 0.6710526315789473  after epoch : 5\n",
            "Running epoch  6  of  10\n"
          ]
        },
        {
          "output_type": "stream",
          "name": "stderr",
          "text": [
            "/usr/local/lib/python3.7/dist-packages/ipykernel_launcher.py:79: UserWarning: To copy construct from a tensor, it is recommended to use sourceTensor.clone().detach() or sourceTensor.clone().detach().requires_grad_(True), rather than torch.tensor(sourceTensor).\n",
            "/usr/local/lib/python3.7/dist-packages/ipykernel_launcher.py:80: UserWarning: To copy construct from a tensor, it is recommended to use sourceTensor.clone().detach() or sourceTensor.clone().detach().requires_grad_(True), rather than torch.tensor(sourceTensor).\n"
          ]
        },
        {
          "output_type": "stream",
          "name": "stdout",
          "text": [
            "y shape torch.Size([50])\n",
            "x shape torch.Size([50, 2])\n",
            "y shape torch.Size([50])\n",
            "x shape torch.Size([50, 2])\n",
            "y shape torch.Size([50])\n",
            "x shape torch.Size([50, 2])\n",
            "y shape torch.Size([36])\n",
            "x shape torch.Size([36, 2])\n",
            "Training loss : 2.691465198993683, training accuracy : 34.0, training BAC: 0.4997776789684304 after epoch : 6\n",
            "EPOCHHH DONE NEXT UP \n"
          ]
        },
        {
          "output_type": "stream",
          "name": "stderr",
          "text": [
            "/usr/local/lib/python3.7/dist-packages/ipykernel_launcher.py:151: UserWarning: To copy construct from a tensor, it is recommended to use sourceTensor.clone().detach() or sourceTensor.clone().detach().requires_grad_(True), rather than torch.tensor(sourceTensor).\n",
            "/usr/local/lib/python3.7/dist-packages/ipykernel_launcher.py:152: UserWarning: To copy construct from a tensor, it is recommended to use sourceTensor.clone().detach() or sourceTensor.clone().detach().requires_grad_(True), rather than torch.tensor(sourceTensor).\n"
          ]
        },
        {
          "output_type": "stream",
          "name": "stdout",
          "text": [
            "Val Actual: \n",
            "[1.0, 1.0, 0.0, 0.0, 0.0, 0.0, 0.0, 0.0, 0.0, 0.0, 0.0, 0.0, 0.0, 0.0, 0.0, 0.0, 0.0, 0.0, 0.0, 0.0, 0.0]\n",
            "Val Predict: \n",
            "[0, 0, 0, 0, 1, 1, 0, 1, 0, 1, 0, 0, 0, 0, 0, 0, 0, 0, 0, 0, 0]\n",
            "Validation loss : 0.6729983687400818, validation accuracy : 15.0, bac score : 0.39473684210526316  after epoch : 6\n",
            "Running epoch  7  of  10\n"
          ]
        },
        {
          "output_type": "stream",
          "name": "stderr",
          "text": [
            "/usr/local/lib/python3.7/dist-packages/ipykernel_launcher.py:79: UserWarning: To copy construct from a tensor, it is recommended to use sourceTensor.clone().detach() or sourceTensor.clone().detach().requires_grad_(True), rather than torch.tensor(sourceTensor).\n",
            "/usr/local/lib/python3.7/dist-packages/ipykernel_launcher.py:80: UserWarning: To copy construct from a tensor, it is recommended to use sourceTensor.clone().detach() or sourceTensor.clone().detach().requires_grad_(True), rather than torch.tensor(sourceTensor).\n"
          ]
        },
        {
          "output_type": "stream",
          "name": "stdout",
          "text": [
            "y shape torch.Size([50])\n",
            "x shape torch.Size([50, 2])\n",
            "y shape torch.Size([50])\n",
            "x shape torch.Size([50, 2])\n",
            "y shape torch.Size([50])\n",
            "x shape torch.Size([50, 2])\n",
            "y shape torch.Size([36])\n",
            "x shape torch.Size([36, 2])\n",
            "Training loss : 2.6759807467460632, training accuracy : 36.25, training BAC: 0.5969319697643397 after epoch : 7\n",
            "EPOCHHH DONE NEXT UP \n"
          ]
        },
        {
          "output_type": "stream",
          "name": "stderr",
          "text": [
            "/usr/local/lib/python3.7/dist-packages/ipykernel_launcher.py:151: UserWarning: To copy construct from a tensor, it is recommended to use sourceTensor.clone().detach() or sourceTensor.clone().detach().requires_grad_(True), rather than torch.tensor(sourceTensor).\n",
            "/usr/local/lib/python3.7/dist-packages/ipykernel_launcher.py:152: UserWarning: To copy construct from a tensor, it is recommended to use sourceTensor.clone().detach() or sourceTensor.clone().detach().requires_grad_(True), rather than torch.tensor(sourceTensor).\n"
          ]
        },
        {
          "output_type": "stream",
          "name": "stdout",
          "text": [
            "Val Actual: \n",
            "[1.0, 1.0, 0.0, 0.0, 0.0, 0.0, 0.0, 0.0, 0.0, 0.0, 0.0, 0.0, 0.0, 0.0, 0.0, 0.0, 0.0, 0.0, 0.0, 0.0, 0.0]\n",
            "Val Predict: \n",
            "[0, 1, 0, 1, 1, 1, 0, 1, 0, 0, 0, 0, 0, 0, 1, 0, 0, 0, 0, 0, 0]\n",
            "Validation loss : 0.6664096117019653, validation accuracy : 15.0, bac score : 0.618421052631579  after epoch : 7\n",
            "Running epoch  8  of  10\n"
          ]
        },
        {
          "output_type": "stream",
          "name": "stderr",
          "text": [
            "/usr/local/lib/python3.7/dist-packages/ipykernel_launcher.py:79: UserWarning: To copy construct from a tensor, it is recommended to use sourceTensor.clone().detach() or sourceTensor.clone().detach().requires_grad_(True), rather than torch.tensor(sourceTensor).\n",
            "/usr/local/lib/python3.7/dist-packages/ipykernel_launcher.py:80: UserWarning: To copy construct from a tensor, it is recommended to use sourceTensor.clone().detach() or sourceTensor.clone().detach().requires_grad_(True), rather than torch.tensor(sourceTensor).\n"
          ]
        },
        {
          "output_type": "stream",
          "name": "stdout",
          "text": [
            "y shape torch.Size([50])\n",
            "x shape torch.Size([50, 2])\n",
            "y shape torch.Size([50])\n",
            "x shape torch.Size([50, 2])\n",
            "y shape torch.Size([50])\n",
            "x shape torch.Size([50, 2])\n",
            "y shape torch.Size([36])\n",
            "x shape torch.Size([36, 2])\n",
            "Training loss : 2.673074781894684, training accuracy : 36.5, training BAC: 0.6353935082258781 after epoch : 8\n",
            "EPOCHHH DONE NEXT UP \n"
          ]
        },
        {
          "output_type": "stream",
          "name": "stderr",
          "text": [
            "/usr/local/lib/python3.7/dist-packages/ipykernel_launcher.py:151: UserWarning: To copy construct from a tensor, it is recommended to use sourceTensor.clone().detach() or sourceTensor.clone().detach().requires_grad_(True), rather than torch.tensor(sourceTensor).\n",
            "/usr/local/lib/python3.7/dist-packages/ipykernel_launcher.py:152: UserWarning: To copy construct from a tensor, it is recommended to use sourceTensor.clone().detach() or sourceTensor.clone().detach().requires_grad_(True), rather than torch.tensor(sourceTensor).\n"
          ]
        },
        {
          "output_type": "stream",
          "name": "stdout",
          "text": [
            "Val Actual: \n",
            "[1.0, 1.0, 0.0, 0.0, 0.0, 0.0, 0.0, 0.0, 0.0, 0.0, 0.0, 0.0, 0.0, 0.0, 0.0, 0.0, 0.0, 0.0, 0.0, 0.0, 0.0]\n",
            "Val Predict: \n",
            "[0, 0, 0, 1, 1, 1, 0, 1, 0, 0, 0, 0, 0, 0, 1, 0, 0, 0, 0, 0, 0]\n",
            "Validation loss : 0.6773021221160889, validation accuracy : 14.0, bac score : 0.3684210526315789  after epoch : 8\n",
            "Running epoch  9  of  10\n"
          ]
        },
        {
          "output_type": "stream",
          "name": "stderr",
          "text": [
            "/usr/local/lib/python3.7/dist-packages/ipykernel_launcher.py:79: UserWarning: To copy construct from a tensor, it is recommended to use sourceTensor.clone().detach() or sourceTensor.clone().detach().requires_grad_(True), rather than torch.tensor(sourceTensor).\n",
            "/usr/local/lib/python3.7/dist-packages/ipykernel_launcher.py:80: UserWarning: To copy construct from a tensor, it is recommended to use sourceTensor.clone().detach() or sourceTensor.clone().detach().requires_grad_(True), rather than torch.tensor(sourceTensor).\n"
          ]
        },
        {
          "output_type": "stream",
          "name": "stdout",
          "text": [
            "y shape torch.Size([50])\n",
            "x shape torch.Size([50, 2])\n",
            "y shape torch.Size([50])\n",
            "x shape torch.Size([50, 2])\n",
            "y shape torch.Size([50])\n",
            "x shape torch.Size([50, 2])\n",
            "y shape torch.Size([36])\n",
            "x shape torch.Size([36, 2])\n",
            "Training loss : 2.6756930351257324, training accuracy : 38.0, training BAC: 0.5104490884837706 after epoch : 9\n",
            "EPOCHHH DONE NEXT UP \n"
          ]
        },
        {
          "output_type": "stream",
          "name": "stderr",
          "text": [
            "/usr/local/lib/python3.7/dist-packages/ipykernel_launcher.py:151: UserWarning: To copy construct from a tensor, it is recommended to use sourceTensor.clone().detach() or sourceTensor.clone().detach().requires_grad_(True), rather than torch.tensor(sourceTensor).\n",
            "/usr/local/lib/python3.7/dist-packages/ipykernel_launcher.py:152: UserWarning: To copy construct from a tensor, it is recommended to use sourceTensor.clone().detach() or sourceTensor.clone().detach().requires_grad_(True), rather than torch.tensor(sourceTensor).\n"
          ]
        },
        {
          "output_type": "stream",
          "name": "stdout",
          "text": [
            "Val Actual: \n",
            "[1.0, 1.0, 0.0, 0.0, 0.0, 0.0, 0.0, 0.0, 0.0, 0.0, 0.0, 0.0, 0.0, 0.0, 0.0, 0.0, 0.0, 0.0, 0.0, 0.0, 0.0]\n",
            "Val Predict: \n",
            "[0, 1, 0, 1, 0, 1, 0, 0, 0, 1, 0, 0, 0, 0, 0, 0, 0, 0, 0, 0, 0]\n",
            "Validation loss : 0.6494814157485962, validation accuracy : 17.0, bac score : 0.6710526315789473  after epoch : 9\n",
            "MODEL TRAINING IS FINISHED!\n",
            "Train Index: [  0   1   2   3   4   5   6   7   8  10  11  12  13  14  15  16  17  18\n",
            "  19  20  21  22  23  24  25  26  27  28  29  30  31  32  33  34  35  36\n",
            "  37  38  39  40  41  42  43  44  45  46  47  48  49  50  51  52  53  54\n",
            "  55  56  57  58  59  60  61  62  64  65  67  69  70  71  72  73  74  75\n",
            "  76  77  78  79  80  81  82  83  84  85  86  87  88  89  90  91  92  93\n",
            "  94  95  97  98  99 100 101 102 103 105 106 108 109 110 111 112 113 114\n",
            " 116 118 119 120 121 123 124 125 126 127 128 129 131 132 133 134 135 137\n",
            " 138 140 142 143 144 145 146 147 148 149 150 152 153 154 155 157 158 160\n",
            " 161 162 163 164 165 166 167 168 169 170 172 173 175 177 178 179 180 181\n",
            " 182 183 184 186 187 188 189 190 191 192 193 194 195 196 197 198 199 200\n",
            " 201 202 203 204 205 206], size: 186\n",
            "Test Index: [  9  63  66  68  96 104 107 115 117 122 130 136 139 141 151 156 159 171\n",
            " 174 176 185], size: 21\n",
            "Length of the dataset: 207\n",
            "IMAGE SIZE : torch.Size([50, 51, 32, 32])\n",
            "LABEL SIZE :  torch.Size([50, 1])\n",
            "NETWORK LOADED\n",
            "MODEL TRAINING STARTS\n",
            "Running epoch  0  of  10\n"
          ]
        },
        {
          "output_type": "stream",
          "name": "stderr",
          "text": [
            "/usr/local/lib/python3.7/dist-packages/ipykernel_launcher.py:79: UserWarning: To copy construct from a tensor, it is recommended to use sourceTensor.clone().detach() or sourceTensor.clone().detach().requires_grad_(True), rather than torch.tensor(sourceTensor).\n",
            "/usr/local/lib/python3.7/dist-packages/ipykernel_launcher.py:80: UserWarning: To copy construct from a tensor, it is recommended to use sourceTensor.clone().detach() or sourceTensor.clone().detach().requires_grad_(True), rather than torch.tensor(sourceTensor).\n"
          ]
        },
        {
          "output_type": "stream",
          "name": "stdout",
          "text": [
            "y shape torch.Size([50])\n",
            "x shape torch.Size([50, 2])\n",
            "y shape torch.Size([50])\n",
            "x shape torch.Size([50, 2])\n",
            "y shape torch.Size([50])\n",
            "x shape torch.Size([50, 2])\n",
            "y shape torch.Size([36])\n",
            "x shape torch.Size([36, 2])\n",
            "Training loss : 2.6260711550712585, training accuracy : 43.0, training BAC: 0.5 after epoch : 0\n",
            "EPOCHHH DONE NEXT UP \n"
          ]
        },
        {
          "output_type": "stream",
          "name": "stderr",
          "text": [
            "/usr/local/lib/python3.7/dist-packages/ipykernel_launcher.py:151: UserWarning: To copy construct from a tensor, it is recommended to use sourceTensor.clone().detach() or sourceTensor.clone().detach().requires_grad_(True), rather than torch.tensor(sourceTensor).\n",
            "/usr/local/lib/python3.7/dist-packages/ipykernel_launcher.py:152: UserWarning: To copy construct from a tensor, it is recommended to use sourceTensor.clone().detach() or sourceTensor.clone().detach().requires_grad_(True), rather than torch.tensor(sourceTensor).\n"
          ]
        },
        {
          "output_type": "stream",
          "name": "stdout",
          "text": [
            "Val Actual: \n",
            "[1.0, 0.0, 0.0, 0.0, 0.0, 0.0, 0.0, 0.0, 0.0, 0.0, 0.0, 0.0, 0.0, 0.0, 0.0, 0.0, 0.0, 0.0, 0.0, 0.0, 0.0]\n",
            "Val Predict: \n",
            "[0, 0, 0, 0, 0, 0, 0, 0, 1, 0, 0, 0, 0, 0, 0, 0, 0, 0, 0, 0, 0]\n",
            "Validation loss : 0.6604617834091187, validation accuracy : 19.0, bac score : 0.475  after epoch : 0\n",
            "Running epoch  1  of  10\n"
          ]
        },
        {
          "output_type": "stream",
          "name": "stderr",
          "text": [
            "/usr/local/lib/python3.7/dist-packages/ipykernel_launcher.py:79: UserWarning: To copy construct from a tensor, it is recommended to use sourceTensor.clone().detach() or sourceTensor.clone().detach().requires_grad_(True), rather than torch.tensor(sourceTensor).\n",
            "/usr/local/lib/python3.7/dist-packages/ipykernel_launcher.py:80: UserWarning: To copy construct from a tensor, it is recommended to use sourceTensor.clone().detach() or sourceTensor.clone().detach().requires_grad_(True), rather than torch.tensor(sourceTensor).\n"
          ]
        },
        {
          "output_type": "stream",
          "name": "stdout",
          "text": [
            "y shape torch.Size([50])\n",
            "x shape torch.Size([50, 2])\n",
            "y shape torch.Size([50])\n",
            "x shape torch.Size([50, 2])\n",
            "y shape torch.Size([50])\n",
            "x shape torch.Size([50, 2])\n",
            "y shape torch.Size([36])\n",
            "x shape torch.Size([36, 2])\n",
            "Training loss : 2.6438602805137634, training accuracy : 42.75, training BAC: 0.49709302325581395 after epoch : 1\n",
            "EPOCHHH DONE NEXT UP \n"
          ]
        },
        {
          "output_type": "stream",
          "name": "stderr",
          "text": [
            "/usr/local/lib/python3.7/dist-packages/ipykernel_launcher.py:151: UserWarning: To copy construct from a tensor, it is recommended to use sourceTensor.clone().detach() or sourceTensor.clone().detach().requires_grad_(True), rather than torch.tensor(sourceTensor).\n",
            "/usr/local/lib/python3.7/dist-packages/ipykernel_launcher.py:152: UserWarning: To copy construct from a tensor, it is recommended to use sourceTensor.clone().detach() or sourceTensor.clone().detach().requires_grad_(True), rather than torch.tensor(sourceTensor).\n"
          ]
        },
        {
          "output_type": "stream",
          "name": "stdout",
          "text": [
            "Val Actual: \n",
            "[1.0, 0.0, 0.0, 0.0, 0.0, 0.0, 0.0, 0.0, 0.0, 0.0, 0.0, 0.0, 0.0, 0.0, 0.0, 0.0, 0.0, 0.0, 0.0, 0.0, 0.0]\n",
            "Val Predict: \n",
            "[0, 0, 0, 0, 0, 0, 0, 0, 0, 0, 0, 0, 0, 0, 0, 0, 0, 0, 0, 0, 0]\n",
            "Validation loss : 0.6580321192741394, validation accuracy : 20.0, bac score : 0.5  after epoch : 1\n",
            "Running epoch  2  of  10\n"
          ]
        },
        {
          "output_type": "stream",
          "name": "stderr",
          "text": [
            "/usr/local/lib/python3.7/dist-packages/ipykernel_launcher.py:79: UserWarning: To copy construct from a tensor, it is recommended to use sourceTensor.clone().detach() or sourceTensor.clone().detach().requires_grad_(True), rather than torch.tensor(sourceTensor).\n",
            "/usr/local/lib/python3.7/dist-packages/ipykernel_launcher.py:80: UserWarning: To copy construct from a tensor, it is recommended to use sourceTensor.clone().detach() or sourceTensor.clone().detach().requires_grad_(True), rather than torch.tensor(sourceTensor).\n"
          ]
        },
        {
          "output_type": "stream",
          "name": "stdout",
          "text": [
            "y shape torch.Size([50])\n",
            "x shape torch.Size([50, 2])\n",
            "y shape torch.Size([50])\n",
            "x shape torch.Size([50, 2])\n",
            "y shape torch.Size([50])\n",
            "x shape torch.Size([50, 2])\n",
            "y shape torch.Size([36])\n",
            "x shape torch.Size([36, 2])\n",
            "Training loss : 2.6489537954330444, training accuracy : 42.75, training BAC: 0.49709302325581395 after epoch : 2\n",
            "EPOCHHH DONE NEXT UP \n"
          ]
        },
        {
          "output_type": "stream",
          "name": "stderr",
          "text": [
            "/usr/local/lib/python3.7/dist-packages/ipykernel_launcher.py:151: UserWarning: To copy construct from a tensor, it is recommended to use sourceTensor.clone().detach() or sourceTensor.clone().detach().requires_grad_(True), rather than torch.tensor(sourceTensor).\n",
            "/usr/local/lib/python3.7/dist-packages/ipykernel_launcher.py:152: UserWarning: To copy construct from a tensor, it is recommended to use sourceTensor.clone().detach() or sourceTensor.clone().detach().requires_grad_(True), rather than torch.tensor(sourceTensor).\n"
          ]
        },
        {
          "output_type": "stream",
          "name": "stdout",
          "text": [
            "Val Actual: \n",
            "[1.0, 0.0, 0.0, 0.0, 0.0, 0.0, 0.0, 0.0, 0.0, 0.0, 0.0, 0.0, 0.0, 0.0, 0.0, 0.0, 0.0, 0.0, 0.0, 0.0, 0.0]\n",
            "Val Predict: \n",
            "[0, 0, 0, 0, 0, 0, 0, 0, 0, 0, 0, 1, 0, 0, 0, 0, 0, 0, 0, 0, 0]\n",
            "Validation loss : 0.6552090644836426, validation accuracy : 19.0, bac score : 0.475  after epoch : 2\n",
            "Running epoch  3  of  10\n"
          ]
        },
        {
          "output_type": "stream",
          "name": "stderr",
          "text": [
            "/usr/local/lib/python3.7/dist-packages/ipykernel_launcher.py:79: UserWarning: To copy construct from a tensor, it is recommended to use sourceTensor.clone().detach() or sourceTensor.clone().detach().requires_grad_(True), rather than torch.tensor(sourceTensor).\n",
            "/usr/local/lib/python3.7/dist-packages/ipykernel_launcher.py:80: UserWarning: To copy construct from a tensor, it is recommended to use sourceTensor.clone().detach() or sourceTensor.clone().detach().requires_grad_(True), rather than torch.tensor(sourceTensor).\n"
          ]
        },
        {
          "output_type": "stream",
          "name": "stdout",
          "text": [
            "y shape torch.Size([50])\n",
            "x shape torch.Size([50, 2])\n",
            "y shape torch.Size([50])\n",
            "x shape torch.Size([50, 2])\n",
            "y shape torch.Size([50])\n",
            "x shape torch.Size([50, 2])\n",
            "y shape torch.Size([36])\n",
            "x shape torch.Size([36, 2])\n",
            "Training loss : 2.6487595438957214, training accuracy : 42.25, training BAC: 0.49127906976744184 after epoch : 3\n",
            "EPOCHHH DONE NEXT UP \n"
          ]
        },
        {
          "output_type": "stream",
          "name": "stderr",
          "text": [
            "/usr/local/lib/python3.7/dist-packages/ipykernel_launcher.py:151: UserWarning: To copy construct from a tensor, it is recommended to use sourceTensor.clone().detach() or sourceTensor.clone().detach().requires_grad_(True), rather than torch.tensor(sourceTensor).\n",
            "/usr/local/lib/python3.7/dist-packages/ipykernel_launcher.py:152: UserWarning: To copy construct from a tensor, it is recommended to use sourceTensor.clone().detach() or sourceTensor.clone().detach().requires_grad_(True), rather than torch.tensor(sourceTensor).\n"
          ]
        },
        {
          "output_type": "stream",
          "name": "stdout",
          "text": [
            "Val Actual: \n",
            "[1.0, 0.0, 0.0, 0.0, 0.0, 0.0, 0.0, 0.0, 0.0, 0.0, 0.0, 0.0, 0.0, 0.0, 0.0, 0.0, 0.0, 0.0, 0.0, 0.0, 0.0]\n",
            "Val Predict: \n",
            "[0, 0, 0, 0, 0, 0, 0, 0, 0, 0, 0, 1, 0, 0, 0, 0, 0, 0, 0, 0, 0]\n",
            "Validation loss : 0.6564144492149353, validation accuracy : 19.0, bac score : 0.475  after epoch : 3\n",
            "Running epoch  4  of  10\n"
          ]
        },
        {
          "output_type": "stream",
          "name": "stderr",
          "text": [
            "/usr/local/lib/python3.7/dist-packages/ipykernel_launcher.py:79: UserWarning: To copy construct from a tensor, it is recommended to use sourceTensor.clone().detach() or sourceTensor.clone().detach().requires_grad_(True), rather than torch.tensor(sourceTensor).\n",
            "/usr/local/lib/python3.7/dist-packages/ipykernel_launcher.py:80: UserWarning: To copy construct from a tensor, it is recommended to use sourceTensor.clone().detach() or sourceTensor.clone().detach().requires_grad_(True), rather than torch.tensor(sourceTensor).\n"
          ]
        },
        {
          "output_type": "stream",
          "name": "stdout",
          "text": [
            "y shape torch.Size([50])\n",
            "x shape torch.Size([50, 2])\n",
            "y shape torch.Size([50])\n",
            "x shape torch.Size([50, 2])\n",
            "y shape torch.Size([50])\n",
            "x shape torch.Size([50, 2])\n",
            "y shape torch.Size([36])\n",
            "x shape torch.Size([36, 2])\n",
            "Training loss : 2.6437785029411316, training accuracy : 42.25, training BAC: 0.49127906976744184 after epoch : 4\n",
            "EPOCHHH DONE NEXT UP \n"
          ]
        },
        {
          "output_type": "stream",
          "name": "stderr",
          "text": [
            "/usr/local/lib/python3.7/dist-packages/ipykernel_launcher.py:151: UserWarning: To copy construct from a tensor, it is recommended to use sourceTensor.clone().detach() or sourceTensor.clone().detach().requires_grad_(True), rather than torch.tensor(sourceTensor).\n",
            "/usr/local/lib/python3.7/dist-packages/ipykernel_launcher.py:152: UserWarning: To copy construct from a tensor, it is recommended to use sourceTensor.clone().detach() or sourceTensor.clone().detach().requires_grad_(True), rather than torch.tensor(sourceTensor).\n"
          ]
        },
        {
          "output_type": "stream",
          "name": "stdout",
          "text": [
            "Val Actual: \n",
            "[1.0, 0.0, 0.0, 0.0, 0.0, 0.0, 0.0, 0.0, 0.0, 0.0, 0.0, 0.0, 0.0, 0.0, 0.0, 0.0, 0.0, 0.0, 0.0, 0.0, 0.0]\n",
            "Val Predict: \n",
            "[0, 0, 0, 0, 0, 0, 0, 0, 0, 0, 0, 0, 0, 0, 0, 0, 0, 0, 0, 0, 0]\n",
            "Validation loss : 0.6477005481719971, validation accuracy : 20.0, bac score : 0.5  after epoch : 4\n",
            "Running epoch  5  of  10\n"
          ]
        },
        {
          "output_type": "stream",
          "name": "stderr",
          "text": [
            "/usr/local/lib/python3.7/dist-packages/ipykernel_launcher.py:79: UserWarning: To copy construct from a tensor, it is recommended to use sourceTensor.clone().detach() or sourceTensor.clone().detach().requires_grad_(True), rather than torch.tensor(sourceTensor).\n",
            "/usr/local/lib/python3.7/dist-packages/ipykernel_launcher.py:80: UserWarning: To copy construct from a tensor, it is recommended to use sourceTensor.clone().detach() or sourceTensor.clone().detach().requires_grad_(True), rather than torch.tensor(sourceTensor).\n"
          ]
        },
        {
          "output_type": "stream",
          "name": "stdout",
          "text": [
            "y shape torch.Size([50])\n",
            "x shape torch.Size([50, 2])\n",
            "y shape torch.Size([50])\n",
            "x shape torch.Size([50, 2])\n",
            "y shape torch.Size([50])\n",
            "x shape torch.Size([50, 2])\n",
            "y shape torch.Size([36])\n",
            "x shape torch.Size([36, 2])\n",
            "Training loss : 2.639872431755066, training accuracy : 42.25, training BAC: 0.49127906976744184 after epoch : 5\n",
            "EPOCHHH DONE NEXT UP \n"
          ]
        },
        {
          "output_type": "stream",
          "name": "stderr",
          "text": [
            "/usr/local/lib/python3.7/dist-packages/ipykernel_launcher.py:151: UserWarning: To copy construct from a tensor, it is recommended to use sourceTensor.clone().detach() or sourceTensor.clone().detach().requires_grad_(True), rather than torch.tensor(sourceTensor).\n",
            "/usr/local/lib/python3.7/dist-packages/ipykernel_launcher.py:152: UserWarning: To copy construct from a tensor, it is recommended to use sourceTensor.clone().detach() or sourceTensor.clone().detach().requires_grad_(True), rather than torch.tensor(sourceTensor).\n"
          ]
        },
        {
          "output_type": "stream",
          "name": "stdout",
          "text": [
            "Val Actual: \n",
            "[1.0, 0.0, 0.0, 0.0, 0.0, 0.0, 0.0, 0.0, 0.0, 0.0, 0.0, 0.0, 0.0, 0.0, 0.0, 0.0, 0.0, 0.0, 0.0, 0.0, 0.0]\n",
            "Val Predict: \n",
            "[0, 0, 0, 0, 0, 0, 0, 0, 0, 0, 0, 0, 0, 0, 0, 0, 0, 0, 0, 0, 0]\n",
            "Validation loss : 0.6581867933273315, validation accuracy : 20.0, bac score : 0.5  after epoch : 5\n",
            "Running epoch  6  of  10\n"
          ]
        },
        {
          "output_type": "stream",
          "name": "stderr",
          "text": [
            "/usr/local/lib/python3.7/dist-packages/ipykernel_launcher.py:79: UserWarning: To copy construct from a tensor, it is recommended to use sourceTensor.clone().detach() or sourceTensor.clone().detach().requires_grad_(True), rather than torch.tensor(sourceTensor).\n",
            "/usr/local/lib/python3.7/dist-packages/ipykernel_launcher.py:80: UserWarning: To copy construct from a tensor, it is recommended to use sourceTensor.clone().detach() or sourceTensor.clone().detach().requires_grad_(True), rather than torch.tensor(sourceTensor).\n"
          ]
        },
        {
          "output_type": "stream",
          "name": "stdout",
          "text": [
            "y shape torch.Size([50])\n",
            "x shape torch.Size([50, 2])\n",
            "y shape torch.Size([50])\n",
            "x shape torch.Size([50, 2])\n",
            "y shape torch.Size([50])\n",
            "x shape torch.Size([50, 2])\n",
            "y shape torch.Size([36])\n",
            "x shape torch.Size([36, 2])\n",
            "Training loss : 2.6343777179718018, training accuracy : 43.0, training BAC: 0.5 after epoch : 6\n",
            "EPOCHHH DONE NEXT UP \n"
          ]
        },
        {
          "output_type": "stream",
          "name": "stderr",
          "text": [
            "/usr/local/lib/python3.7/dist-packages/ipykernel_launcher.py:151: UserWarning: To copy construct from a tensor, it is recommended to use sourceTensor.clone().detach() or sourceTensor.clone().detach().requires_grad_(True), rather than torch.tensor(sourceTensor).\n",
            "/usr/local/lib/python3.7/dist-packages/ipykernel_launcher.py:152: UserWarning: To copy construct from a tensor, it is recommended to use sourceTensor.clone().detach() or sourceTensor.clone().detach().requires_grad_(True), rather than torch.tensor(sourceTensor).\n"
          ]
        },
        {
          "output_type": "stream",
          "name": "stdout",
          "text": [
            "Val Actual: \n",
            "[1.0, 0.0, 0.0, 0.0, 0.0, 0.0, 0.0, 0.0, 0.0, 0.0, 0.0, 0.0, 0.0, 0.0, 0.0, 0.0, 0.0, 0.0, 0.0, 0.0, 0.0]\n",
            "Val Predict: \n",
            "[0, 0, 0, 0, 0, 0, 0, 0, 1, 0, 0, 0, 0, 0, 0, 0, 0, 0, 0, 0, 0]\n",
            "Validation loss : 0.6534202098846436, validation accuracy : 19.0, bac score : 0.475  after epoch : 6\n",
            "Running epoch  7  of  10\n"
          ]
        },
        {
          "output_type": "stream",
          "name": "stderr",
          "text": [
            "/usr/local/lib/python3.7/dist-packages/ipykernel_launcher.py:79: UserWarning: To copy construct from a tensor, it is recommended to use sourceTensor.clone().detach() or sourceTensor.clone().detach().requires_grad_(True), rather than torch.tensor(sourceTensor).\n",
            "/usr/local/lib/python3.7/dist-packages/ipykernel_launcher.py:80: UserWarning: To copy construct from a tensor, it is recommended to use sourceTensor.clone().detach() or sourceTensor.clone().detach().requires_grad_(True), rather than torch.tensor(sourceTensor).\n"
          ]
        },
        {
          "output_type": "stream",
          "name": "stdout",
          "text": [
            "y shape torch.Size([50])\n",
            "x shape torch.Size([50, 2])\n",
            "y shape torch.Size([50])\n",
            "x shape torch.Size([50, 2])\n",
            "y shape torch.Size([50])\n",
            "x shape torch.Size([50, 2])\n",
            "y shape torch.Size([36])\n",
            "x shape torch.Size([36, 2])\n",
            "Training loss : 2.6330745816230774, training accuracy : 42.75, training BAC: 0.5299003322259136 after epoch : 7\n",
            "EPOCHHH DONE NEXT UP \n"
          ]
        },
        {
          "output_type": "stream",
          "name": "stderr",
          "text": [
            "/usr/local/lib/python3.7/dist-packages/ipykernel_launcher.py:151: UserWarning: To copy construct from a tensor, it is recommended to use sourceTensor.clone().detach() or sourceTensor.clone().detach().requires_grad_(True), rather than torch.tensor(sourceTensor).\n",
            "/usr/local/lib/python3.7/dist-packages/ipykernel_launcher.py:152: UserWarning: To copy construct from a tensor, it is recommended to use sourceTensor.clone().detach() or sourceTensor.clone().detach().requires_grad_(True), rather than torch.tensor(sourceTensor).\n"
          ]
        },
        {
          "output_type": "stream",
          "name": "stdout",
          "text": [
            "Val Actual: \n",
            "[1.0, 0.0, 0.0, 0.0, 0.0, 0.0, 0.0, 0.0, 0.0, 0.0, 0.0, 0.0, 0.0, 0.0, 0.0, 0.0, 0.0, 0.0, 0.0, 0.0, 0.0]\n",
            "Val Predict: \n",
            "[0, 0, 0, 0, 0, 0, 0, 0, 0, 0, 0, 0, 0, 0, 0, 0, 0, 0, 0, 0, 0]\n",
            "Validation loss : 0.6560799479484558, validation accuracy : 20.0, bac score : 0.5  after epoch : 7\n",
            "Running epoch  8  of  10\n"
          ]
        },
        {
          "output_type": "stream",
          "name": "stderr",
          "text": [
            "/usr/local/lib/python3.7/dist-packages/ipykernel_launcher.py:79: UserWarning: To copy construct from a tensor, it is recommended to use sourceTensor.clone().detach() or sourceTensor.clone().detach().requires_grad_(True), rather than torch.tensor(sourceTensor).\n",
            "/usr/local/lib/python3.7/dist-packages/ipykernel_launcher.py:80: UserWarning: To copy construct from a tensor, it is recommended to use sourceTensor.clone().detach() or sourceTensor.clone().detach().requires_grad_(True), rather than torch.tensor(sourceTensor).\n"
          ]
        },
        {
          "output_type": "stream",
          "name": "stdout",
          "text": [
            "y shape torch.Size([50])\n",
            "x shape torch.Size([50, 2])\n",
            "y shape torch.Size([50])\n",
            "x shape torch.Size([50, 2])\n",
            "y shape torch.Size([50])\n",
            "x shape torch.Size([50, 2])\n",
            "y shape torch.Size([36])\n",
            "x shape torch.Size([36, 2])\n",
            "Training loss : 2.641827881336212, training accuracy : 42.25, training BAC: 0.49127906976744184 after epoch : 8\n",
            "EPOCHHH DONE NEXT UP \n"
          ]
        },
        {
          "output_type": "stream",
          "name": "stderr",
          "text": [
            "/usr/local/lib/python3.7/dist-packages/ipykernel_launcher.py:151: UserWarning: To copy construct from a tensor, it is recommended to use sourceTensor.clone().detach() or sourceTensor.clone().detach().requires_grad_(True), rather than torch.tensor(sourceTensor).\n",
            "/usr/local/lib/python3.7/dist-packages/ipykernel_launcher.py:152: UserWarning: To copy construct from a tensor, it is recommended to use sourceTensor.clone().detach() or sourceTensor.clone().detach().requires_grad_(True), rather than torch.tensor(sourceTensor).\n"
          ]
        },
        {
          "output_type": "stream",
          "name": "stdout",
          "text": [
            "Val Actual: \n",
            "[1.0, 0.0, 0.0, 0.0, 0.0, 0.0, 0.0, 0.0, 0.0, 0.0, 0.0, 0.0, 0.0, 0.0, 0.0, 0.0, 0.0, 0.0, 0.0, 0.0, 0.0]\n",
            "Val Predict: \n",
            "[0, 0, 0, 0, 0, 0, 0, 0, 1, 0, 0, 0, 0, 0, 0, 0, 0, 0, 0, 0, 0]\n",
            "Validation loss : 0.6619372963905334, validation accuracy : 19.0, bac score : 0.475  after epoch : 8\n",
            "Running epoch  9  of  10\n"
          ]
        },
        {
          "output_type": "stream",
          "name": "stderr",
          "text": [
            "/usr/local/lib/python3.7/dist-packages/ipykernel_launcher.py:79: UserWarning: To copy construct from a tensor, it is recommended to use sourceTensor.clone().detach() or sourceTensor.clone().detach().requires_grad_(True), rather than torch.tensor(sourceTensor).\n",
            "/usr/local/lib/python3.7/dist-packages/ipykernel_launcher.py:80: UserWarning: To copy construct from a tensor, it is recommended to use sourceTensor.clone().detach() or sourceTensor.clone().detach().requires_grad_(True), rather than torch.tensor(sourceTensor).\n"
          ]
        },
        {
          "output_type": "stream",
          "name": "stdout",
          "text": [
            "y shape torch.Size([50])\n",
            "x shape torch.Size([50, 2])\n",
            "y shape torch.Size([50])\n",
            "x shape torch.Size([50, 2])\n",
            "y shape torch.Size([50])\n",
            "x shape torch.Size([50, 2])\n",
            "y shape torch.Size([36])\n",
            "x shape torch.Size([36, 2])\n",
            "Training loss : 2.6393593549728394, training accuracy : 42.25, training BAC: 0.49127906976744184 after epoch : 9\n",
            "EPOCHHH DONE NEXT UP \n"
          ]
        },
        {
          "output_type": "stream",
          "name": "stderr",
          "text": [
            "/usr/local/lib/python3.7/dist-packages/ipykernel_launcher.py:151: UserWarning: To copy construct from a tensor, it is recommended to use sourceTensor.clone().detach() or sourceTensor.clone().detach().requires_grad_(True), rather than torch.tensor(sourceTensor).\n",
            "/usr/local/lib/python3.7/dist-packages/ipykernel_launcher.py:152: UserWarning: To copy construct from a tensor, it is recommended to use sourceTensor.clone().detach() or sourceTensor.clone().detach().requires_grad_(True), rather than torch.tensor(sourceTensor).\n"
          ]
        },
        {
          "output_type": "stream",
          "name": "stdout",
          "text": [
            "Val Actual: \n",
            "[1.0, 0.0, 0.0, 0.0, 0.0, 0.0, 0.0, 0.0, 0.0, 0.0, 0.0, 0.0, 0.0, 0.0, 0.0, 0.0, 0.0, 0.0, 0.0, 0.0, 0.0]\n",
            "Val Predict: \n",
            "[0, 0, 0, 0, 0, 0, 0, 0, 0, 0, 0, 1, 0, 0, 0, 0, 0, 0, 0, 0, 0]\n",
            "Validation loss : 0.6548184156417847, validation accuracy : 19.0, bac score : 0.475  after epoch : 9\n",
            "MODEL TRAINING IS FINISHED!\n",
            "Train Index: [  0   1   2   3   4   6   7   8   9  10  11  12  13  14  15  16  17  18\n",
            "  19  20  21  22  23  24  25  26  27  28  29  30  31  33  34  35  36  37\n",
            "  38  39  40  41  42  43  44  45  46  48  49  50  51  54  55  57  58  59\n",
            "  61  62  63  64  65  66  67  68  69  70  71  72  73  74  75  76  77  78\n",
            "  79  80  81  82  83  84  85  86  87  88  90  91  92  93  94  95  96  98\n",
            "  99 100 101 102 103 104 105 106 107 108 110 111 112 113 114 115 116 117\n",
            " 118 119 120 121 122 123 124 125 126 127 128 129 130 131 132 133 134 135\n",
            " 136 137 138 139 140 141 142 143 145 146 147 149 150 151 154 155 156 157\n",
            " 158 159 160 161 162 163 164 166 167 168 169 170 171 172 174 175 176 177\n",
            " 178 179 180 181 182 183 184 185 188 189 190 191 192 195 196 197 198 199\n",
            " 200 202 203 204 205 206], size: 186\n",
            "Test Index: [  5  32  47  52  53  56  60  89  97 109 144 148 152 153 165 173 186 187\n",
            " 193 194 201], size: 21\n",
            "Length of the dataset: 207\n",
            "IMAGE SIZE : torch.Size([50, 51, 32, 32])\n",
            "LABEL SIZE :  torch.Size([50, 1])\n",
            "NETWORK LOADED\n",
            "MODEL TRAINING STARTS\n",
            "Running epoch  0  of  10\n"
          ]
        },
        {
          "output_type": "stream",
          "name": "stderr",
          "text": [
            "/usr/local/lib/python3.7/dist-packages/ipykernel_launcher.py:79: UserWarning: To copy construct from a tensor, it is recommended to use sourceTensor.clone().detach() or sourceTensor.clone().detach().requires_grad_(True), rather than torch.tensor(sourceTensor).\n",
            "/usr/local/lib/python3.7/dist-packages/ipykernel_launcher.py:80: UserWarning: To copy construct from a tensor, it is recommended to use sourceTensor.clone().detach() or sourceTensor.clone().detach().requires_grad_(True), rather than torch.tensor(sourceTensor).\n"
          ]
        },
        {
          "output_type": "stream",
          "name": "stdout",
          "text": [
            "y shape torch.Size([50])\n",
            "x shape torch.Size([50, 2])\n",
            "y shape torch.Size([50])\n",
            "x shape torch.Size([50, 2])\n",
            "y shape torch.Size([50])\n",
            "x shape torch.Size([50, 2])\n",
            "y shape torch.Size([36])\n",
            "x shape torch.Size([36, 2])\n",
            "Training loss : 2.9445342421531677, training accuracy : 18.5, training BAC: 0.6088039867109634 after epoch : 0\n",
            "EPOCHHH DONE NEXT UP \n"
          ]
        },
        {
          "output_type": "stream",
          "name": "stderr",
          "text": [
            "/usr/local/lib/python3.7/dist-packages/ipykernel_launcher.py:151: UserWarning: To copy construct from a tensor, it is recommended to use sourceTensor.clone().detach() or sourceTensor.clone().detach().requires_grad_(True), rather than torch.tensor(sourceTensor).\n",
            "/usr/local/lib/python3.7/dist-packages/ipykernel_launcher.py:152: UserWarning: To copy construct from a tensor, it is recommended to use sourceTensor.clone().detach() or sourceTensor.clone().detach().requires_grad_(True), rather than torch.tensor(sourceTensor).\n"
          ]
        },
        {
          "output_type": "stream",
          "name": "stdout",
          "text": [
            "Val Actual: \n",
            "[1.0, 0.0, 0.0, 0.0, 0.0, 0.0, 0.0, 0.0, 0.0, 0.0, 0.0, 0.0, 0.0, 0.0, 0.0, 0.0, 0.0, 0.0, 0.0, 0.0, 0.0]\n",
            "Val Predict: \n",
            "[1, 0, 1, 0, 1, 1, 0, 1, 0, 0, 1, 1, 1, 1, 1, 1, 1, 0, 1, 1, 1]\n",
            "Validation loss : 0.7184945344924927, validation accuracy : 7.0, bac score : 0.65  after epoch : 0\n",
            "Running epoch  1  of  10\n"
          ]
        },
        {
          "output_type": "stream",
          "name": "stderr",
          "text": [
            "/usr/local/lib/python3.7/dist-packages/ipykernel_launcher.py:79: UserWarning: To copy construct from a tensor, it is recommended to use sourceTensor.clone().detach() or sourceTensor.clone().detach().requires_grad_(True), rather than torch.tensor(sourceTensor).\n",
            "/usr/local/lib/python3.7/dist-packages/ipykernel_launcher.py:80: UserWarning: To copy construct from a tensor, it is recommended to use sourceTensor.clone().detach() or sourceTensor.clone().detach().requires_grad_(True), rather than torch.tensor(sourceTensor).\n"
          ]
        },
        {
          "output_type": "stream",
          "name": "stdout",
          "text": [
            "y shape torch.Size([50])\n",
            "x shape torch.Size([50, 2])\n",
            "y shape torch.Size([50])\n",
            "x shape torch.Size([50, 2])\n",
            "y shape torch.Size([50])\n",
            "x shape torch.Size([50, 2])\n",
            "y shape torch.Size([36])\n",
            "x shape torch.Size([36, 2])\n",
            "Training loss : 2.93179053068161, training accuracy : 18.75, training BAC: 0.6117109634551494 after epoch : 1\n",
            "EPOCHHH DONE NEXT UP \n"
          ]
        },
        {
          "output_type": "stream",
          "name": "stderr",
          "text": [
            "/usr/local/lib/python3.7/dist-packages/ipykernel_launcher.py:151: UserWarning: To copy construct from a tensor, it is recommended to use sourceTensor.clone().detach() or sourceTensor.clone().detach().requires_grad_(True), rather than torch.tensor(sourceTensor).\n",
            "/usr/local/lib/python3.7/dist-packages/ipykernel_launcher.py:152: UserWarning: To copy construct from a tensor, it is recommended to use sourceTensor.clone().detach() or sourceTensor.clone().detach().requires_grad_(True), rather than torch.tensor(sourceTensor).\n"
          ]
        },
        {
          "output_type": "stream",
          "name": "stdout",
          "text": [
            "Val Actual: \n",
            "[1.0, 0.0, 0.0, 0.0, 0.0, 0.0, 0.0, 0.0, 0.0, 0.0, 0.0, 0.0, 0.0, 0.0, 0.0, 0.0, 0.0, 0.0, 0.0, 0.0, 0.0]\n",
            "Val Predict: \n",
            "[1, 0, 1, 0, 1, 1, 0, 1, 1, 0, 1, 1, 0, 1, 1, 1, 1, 0, 1, 1, 1]\n",
            "Validation loss : 0.7208054065704346, validation accuracy : 7.0, bac score : 0.65  after epoch : 1\n",
            "Running epoch  2  of  10\n"
          ]
        },
        {
          "output_type": "stream",
          "name": "stderr",
          "text": [
            "/usr/local/lib/python3.7/dist-packages/ipykernel_launcher.py:79: UserWarning: To copy construct from a tensor, it is recommended to use sourceTensor.clone().detach() or sourceTensor.clone().detach().requires_grad_(True), rather than torch.tensor(sourceTensor).\n",
            "/usr/local/lib/python3.7/dist-packages/ipykernel_launcher.py:80: UserWarning: To copy construct from a tensor, it is recommended to use sourceTensor.clone().detach() or sourceTensor.clone().detach().requires_grad_(True), rather than torch.tensor(sourceTensor).\n"
          ]
        },
        {
          "output_type": "stream",
          "name": "stdout",
          "text": [
            "y shape torch.Size([50])\n",
            "x shape torch.Size([50, 2])\n",
            "y shape torch.Size([50])\n",
            "x shape torch.Size([50, 2])\n",
            "y shape torch.Size([50])\n",
            "x shape torch.Size([50, 2])\n",
            "y shape torch.Size([36])\n",
            "x shape torch.Size([36, 2])\n",
            "Training loss : 2.935414969921112, training accuracy : 17.75, training BAC: 0.6000830564784053 after epoch : 2\n",
            "EPOCHHH DONE NEXT UP \n"
          ]
        },
        {
          "output_type": "stream",
          "name": "stderr",
          "text": [
            "/usr/local/lib/python3.7/dist-packages/ipykernel_launcher.py:151: UserWarning: To copy construct from a tensor, it is recommended to use sourceTensor.clone().detach() or sourceTensor.clone().detach().requires_grad_(True), rather than torch.tensor(sourceTensor).\n",
            "/usr/local/lib/python3.7/dist-packages/ipykernel_launcher.py:152: UserWarning: To copy construct from a tensor, it is recommended to use sourceTensor.clone().detach() or sourceTensor.clone().detach().requires_grad_(True), rather than torch.tensor(sourceTensor).\n"
          ]
        },
        {
          "output_type": "stream",
          "name": "stdout",
          "text": [
            "Val Actual: \n",
            "[1.0, 0.0, 0.0, 0.0, 0.0, 0.0, 0.0, 0.0, 0.0, 0.0, 0.0, 0.0, 0.0, 0.0, 0.0, 0.0, 0.0, 0.0, 0.0, 0.0, 0.0]\n",
            "Val Predict: \n",
            "[1, 0, 1, 0, 1, 1, 0, 1, 0, 0, 1, 1, 1, 1, 1, 1, 1, 0, 1, 1, 1]\n",
            "Validation loss : 0.7263607978820801, validation accuracy : 7.0, bac score : 0.65  after epoch : 2\n",
            "Running epoch  3  of  10\n"
          ]
        },
        {
          "output_type": "stream",
          "name": "stderr",
          "text": [
            "/usr/local/lib/python3.7/dist-packages/ipykernel_launcher.py:79: UserWarning: To copy construct from a tensor, it is recommended to use sourceTensor.clone().detach() or sourceTensor.clone().detach().requires_grad_(True), rather than torch.tensor(sourceTensor).\n",
            "/usr/local/lib/python3.7/dist-packages/ipykernel_launcher.py:80: UserWarning: To copy construct from a tensor, it is recommended to use sourceTensor.clone().detach() or sourceTensor.clone().detach().requires_grad_(True), rather than torch.tensor(sourceTensor).\n"
          ]
        },
        {
          "output_type": "stream",
          "name": "stdout",
          "text": [
            "y shape torch.Size([50])\n",
            "x shape torch.Size([50, 2])\n",
            "y shape torch.Size([50])\n",
            "x shape torch.Size([50, 2])\n",
            "y shape torch.Size([50])\n",
            "x shape torch.Size([50, 2])\n",
            "y shape torch.Size([36])\n",
            "x shape torch.Size([36, 2])\n",
            "Training loss : 2.9357059597969055, training accuracy : 18.5, training BAC: 0.6088039867109634 after epoch : 3\n",
            "EPOCHHH DONE NEXT UP \n"
          ]
        },
        {
          "output_type": "stream",
          "name": "stderr",
          "text": [
            "/usr/local/lib/python3.7/dist-packages/ipykernel_launcher.py:151: UserWarning: To copy construct from a tensor, it is recommended to use sourceTensor.clone().detach() or sourceTensor.clone().detach().requires_grad_(True), rather than torch.tensor(sourceTensor).\n",
            "/usr/local/lib/python3.7/dist-packages/ipykernel_launcher.py:152: UserWarning: To copy construct from a tensor, it is recommended to use sourceTensor.clone().detach() or sourceTensor.clone().detach().requires_grad_(True), rather than torch.tensor(sourceTensor).\n"
          ]
        },
        {
          "output_type": "stream",
          "name": "stdout",
          "text": [
            "Val Actual: \n",
            "[1.0, 0.0, 0.0, 0.0, 0.0, 0.0, 0.0, 0.0, 0.0, 0.0, 0.0, 0.0, 0.0, 0.0, 0.0, 0.0, 0.0, 0.0, 0.0, 0.0, 0.0]\n",
            "Val Predict: \n",
            "[1, 0, 1, 0, 1, 1, 0, 1, 1, 0, 1, 1, 0, 1, 1, 1, 1, 0, 1, 1, 1]\n",
            "Validation loss : 0.7238945364952087, validation accuracy : 7.0, bac score : 0.65  after epoch : 3\n",
            "Running epoch  4  of  10\n"
          ]
        },
        {
          "output_type": "stream",
          "name": "stderr",
          "text": [
            "/usr/local/lib/python3.7/dist-packages/ipykernel_launcher.py:79: UserWarning: To copy construct from a tensor, it is recommended to use sourceTensor.clone().detach() or sourceTensor.clone().detach().requires_grad_(True), rather than torch.tensor(sourceTensor).\n",
            "/usr/local/lib/python3.7/dist-packages/ipykernel_launcher.py:80: UserWarning: To copy construct from a tensor, it is recommended to use sourceTensor.clone().detach() or sourceTensor.clone().detach().requires_grad_(True), rather than torch.tensor(sourceTensor).\n"
          ]
        },
        {
          "output_type": "stream",
          "name": "stdout",
          "text": [
            "y shape torch.Size([50])\n",
            "x shape torch.Size([50, 2])\n",
            "y shape torch.Size([50])\n",
            "x shape torch.Size([50, 2])\n",
            "y shape torch.Size([50])\n",
            "x shape torch.Size([50, 2])\n",
            "y shape torch.Size([36])\n",
            "x shape torch.Size([36, 2])\n",
            "Training loss : 2.9411258697509766, training accuracy : 18.0, training BAC: 0.6029900332225914 after epoch : 4\n",
            "EPOCHHH DONE NEXT UP \n"
          ]
        },
        {
          "output_type": "stream",
          "name": "stderr",
          "text": [
            "/usr/local/lib/python3.7/dist-packages/ipykernel_launcher.py:151: UserWarning: To copy construct from a tensor, it is recommended to use sourceTensor.clone().detach() or sourceTensor.clone().detach().requires_grad_(True), rather than torch.tensor(sourceTensor).\n",
            "/usr/local/lib/python3.7/dist-packages/ipykernel_launcher.py:152: UserWarning: To copy construct from a tensor, it is recommended to use sourceTensor.clone().detach() or sourceTensor.clone().detach().requires_grad_(True), rather than torch.tensor(sourceTensor).\n"
          ]
        },
        {
          "output_type": "stream",
          "name": "stdout",
          "text": [
            "Val Actual: \n",
            "[1.0, 0.0, 0.0, 0.0, 0.0, 0.0, 0.0, 0.0, 0.0, 0.0, 0.0, 0.0, 0.0, 0.0, 0.0, 0.0, 0.0, 0.0, 0.0, 0.0, 0.0]\n",
            "Val Predict: \n",
            "[1, 0, 1, 0, 1, 1, 0, 1, 0, 0, 1, 1, 1, 1, 1, 1, 1, 0, 1, 1, 1]\n",
            "Validation loss : 0.7238496541976929, validation accuracy : 7.0, bac score : 0.65  after epoch : 4\n",
            "Running epoch  5  of  10\n"
          ]
        },
        {
          "output_type": "stream",
          "name": "stderr",
          "text": [
            "/usr/local/lib/python3.7/dist-packages/ipykernel_launcher.py:79: UserWarning: To copy construct from a tensor, it is recommended to use sourceTensor.clone().detach() or sourceTensor.clone().detach().requires_grad_(True), rather than torch.tensor(sourceTensor).\n",
            "/usr/local/lib/python3.7/dist-packages/ipykernel_launcher.py:80: UserWarning: To copy construct from a tensor, it is recommended to use sourceTensor.clone().detach() or sourceTensor.clone().detach().requires_grad_(True), rather than torch.tensor(sourceTensor).\n"
          ]
        },
        {
          "output_type": "stream",
          "name": "stdout",
          "text": [
            "y shape torch.Size([50])\n",
            "x shape torch.Size([50, 2])\n",
            "y shape torch.Size([50])\n",
            "x shape torch.Size([50, 2])\n",
            "y shape torch.Size([50])\n",
            "x shape torch.Size([50, 2])\n",
            "y shape torch.Size([36])\n",
            "x shape torch.Size([36, 2])\n",
            "Training loss : 2.9400545358657837, training accuracy : 18.0, training BAC: 0.6029900332225914 after epoch : 5\n",
            "EPOCHHH DONE NEXT UP \n"
          ]
        },
        {
          "output_type": "stream",
          "name": "stderr",
          "text": [
            "/usr/local/lib/python3.7/dist-packages/ipykernel_launcher.py:151: UserWarning: To copy construct from a tensor, it is recommended to use sourceTensor.clone().detach() or sourceTensor.clone().detach().requires_grad_(True), rather than torch.tensor(sourceTensor).\n",
            "/usr/local/lib/python3.7/dist-packages/ipykernel_launcher.py:152: UserWarning: To copy construct from a tensor, it is recommended to use sourceTensor.clone().detach() or sourceTensor.clone().detach().requires_grad_(True), rather than torch.tensor(sourceTensor).\n"
          ]
        },
        {
          "output_type": "stream",
          "name": "stdout",
          "text": [
            "Val Actual: \n",
            "[1.0, 0.0, 0.0, 0.0, 0.0, 0.0, 0.0, 0.0, 0.0, 0.0, 0.0, 0.0, 0.0, 0.0, 0.0, 0.0, 0.0, 0.0, 0.0, 0.0, 0.0]\n",
            "Val Predict: \n",
            "[1, 0, 1, 0, 1, 1, 0, 1, 1, 0, 1, 1, 1, 1, 1, 1, 1, 0, 1, 1, 1]\n",
            "Validation loss : 0.7318654656410217, validation accuracy : 6.0, bac score : 0.625  after epoch : 5\n",
            "Running epoch  6  of  10\n"
          ]
        },
        {
          "output_type": "stream",
          "name": "stderr",
          "text": [
            "/usr/local/lib/python3.7/dist-packages/ipykernel_launcher.py:79: UserWarning: To copy construct from a tensor, it is recommended to use sourceTensor.clone().detach() or sourceTensor.clone().detach().requires_grad_(True), rather than torch.tensor(sourceTensor).\n",
            "/usr/local/lib/python3.7/dist-packages/ipykernel_launcher.py:80: UserWarning: To copy construct from a tensor, it is recommended to use sourceTensor.clone().detach() or sourceTensor.clone().detach().requires_grad_(True), rather than torch.tensor(sourceTensor).\n"
          ]
        },
        {
          "output_type": "stream",
          "name": "stdout",
          "text": [
            "y shape torch.Size([50])\n",
            "x shape torch.Size([50, 2])\n",
            "y shape torch.Size([50])\n",
            "x shape torch.Size([50, 2])\n",
            "y shape torch.Size([50])\n",
            "x shape torch.Size([50, 2])\n",
            "y shape torch.Size([36])\n",
            "x shape torch.Size([36, 2])\n",
            "Training loss : 2.9305931329727173, training accuracy : 18.5, training BAC: 0.6088039867109634 after epoch : 6\n",
            "EPOCHHH DONE NEXT UP \n"
          ]
        },
        {
          "output_type": "stream",
          "name": "stderr",
          "text": [
            "/usr/local/lib/python3.7/dist-packages/ipykernel_launcher.py:151: UserWarning: To copy construct from a tensor, it is recommended to use sourceTensor.clone().detach() or sourceTensor.clone().detach().requires_grad_(True), rather than torch.tensor(sourceTensor).\n",
            "/usr/local/lib/python3.7/dist-packages/ipykernel_launcher.py:152: UserWarning: To copy construct from a tensor, it is recommended to use sourceTensor.clone().detach() or sourceTensor.clone().detach().requires_grad_(True), rather than torch.tensor(sourceTensor).\n"
          ]
        },
        {
          "output_type": "stream",
          "name": "stdout",
          "text": [
            "Val Actual: \n",
            "[1.0, 0.0, 0.0, 0.0, 0.0, 0.0, 0.0, 0.0, 0.0, 0.0, 0.0, 0.0, 0.0, 0.0, 0.0, 0.0, 0.0, 0.0, 0.0, 0.0, 0.0]\n",
            "Val Predict: \n",
            "[1, 0, 1, 0, 1, 1, 0, 1, 0, 0, 1, 1, 1, 1, 1, 1, 1, 0, 1, 1, 1]\n",
            "Validation loss : 0.7222504615783691, validation accuracy : 7.0, bac score : 0.65  after epoch : 6\n",
            "Running epoch  7  of  10\n"
          ]
        },
        {
          "output_type": "stream",
          "name": "stderr",
          "text": [
            "/usr/local/lib/python3.7/dist-packages/ipykernel_launcher.py:79: UserWarning: To copy construct from a tensor, it is recommended to use sourceTensor.clone().detach() or sourceTensor.clone().detach().requires_grad_(True), rather than torch.tensor(sourceTensor).\n",
            "/usr/local/lib/python3.7/dist-packages/ipykernel_launcher.py:80: UserWarning: To copy construct from a tensor, it is recommended to use sourceTensor.clone().detach() or sourceTensor.clone().detach().requires_grad_(True), rather than torch.tensor(sourceTensor).\n"
          ]
        },
        {
          "output_type": "stream",
          "name": "stdout",
          "text": [
            "y shape torch.Size([50])\n",
            "x shape torch.Size([50, 2])\n",
            "y shape torch.Size([50])\n",
            "x shape torch.Size([50, 2])\n",
            "y shape torch.Size([50])\n",
            "x shape torch.Size([50, 2])\n",
            "y shape torch.Size([36])\n",
            "x shape torch.Size([36, 2])\n",
            "Training loss : 2.938055098056793, training accuracy : 17.25, training BAC: 0.5942691029900332 after epoch : 7\n",
            "EPOCHHH DONE NEXT UP \n"
          ]
        },
        {
          "output_type": "stream",
          "name": "stderr",
          "text": [
            "/usr/local/lib/python3.7/dist-packages/ipykernel_launcher.py:151: UserWarning: To copy construct from a tensor, it is recommended to use sourceTensor.clone().detach() or sourceTensor.clone().detach().requires_grad_(True), rather than torch.tensor(sourceTensor).\n",
            "/usr/local/lib/python3.7/dist-packages/ipykernel_launcher.py:152: UserWarning: To copy construct from a tensor, it is recommended to use sourceTensor.clone().detach() or sourceTensor.clone().detach().requires_grad_(True), rather than torch.tensor(sourceTensor).\n"
          ]
        },
        {
          "output_type": "stream",
          "name": "stdout",
          "text": [
            "Val Actual: \n",
            "[1.0, 0.0, 0.0, 0.0, 0.0, 0.0, 0.0, 0.0, 0.0, 0.0, 0.0, 0.0, 0.0, 0.0, 0.0, 0.0, 0.0, 0.0, 0.0, 0.0, 0.0]\n",
            "Val Predict: \n",
            "[1, 0, 1, 0, 1, 1, 0, 1, 1, 0, 1, 1, 1, 1, 1, 1, 1, 0, 1, 1, 1]\n",
            "Validation loss : 0.7272902727127075, validation accuracy : 6.0, bac score : 0.625  after epoch : 7\n",
            "Running epoch  8  of  10\n"
          ]
        },
        {
          "output_type": "stream",
          "name": "stderr",
          "text": [
            "/usr/local/lib/python3.7/dist-packages/ipykernel_launcher.py:79: UserWarning: To copy construct from a tensor, it is recommended to use sourceTensor.clone().detach() or sourceTensor.clone().detach().requires_grad_(True), rather than torch.tensor(sourceTensor).\n",
            "/usr/local/lib/python3.7/dist-packages/ipykernel_launcher.py:80: UserWarning: To copy construct from a tensor, it is recommended to use sourceTensor.clone().detach() or sourceTensor.clone().detach().requires_grad_(True), rather than torch.tensor(sourceTensor).\n"
          ]
        },
        {
          "output_type": "stream",
          "name": "stdout",
          "text": [
            "y shape torch.Size([50])\n",
            "x shape torch.Size([50, 2])\n",
            "y shape torch.Size([50])\n",
            "x shape torch.Size([50, 2])\n",
            "y shape torch.Size([50])\n",
            "x shape torch.Size([50, 2])\n",
            "y shape torch.Size([36])\n",
            "x shape torch.Size([36, 2])\n",
            "Training loss : 2.9501484632492065, training accuracy : 18.0, training BAC: 0.6029900332225914 after epoch : 8\n",
            "EPOCHHH DONE NEXT UP \n"
          ]
        },
        {
          "output_type": "stream",
          "name": "stderr",
          "text": [
            "/usr/local/lib/python3.7/dist-packages/ipykernel_launcher.py:151: UserWarning: To copy construct from a tensor, it is recommended to use sourceTensor.clone().detach() or sourceTensor.clone().detach().requires_grad_(True), rather than torch.tensor(sourceTensor).\n",
            "/usr/local/lib/python3.7/dist-packages/ipykernel_launcher.py:152: UserWarning: To copy construct from a tensor, it is recommended to use sourceTensor.clone().detach() or sourceTensor.clone().detach().requires_grad_(True), rather than torch.tensor(sourceTensor).\n"
          ]
        },
        {
          "output_type": "stream",
          "name": "stdout",
          "text": [
            "Val Actual: \n",
            "[1.0, 0.0, 0.0, 0.0, 0.0, 0.0, 0.0, 0.0, 0.0, 0.0, 0.0, 0.0, 0.0, 0.0, 0.0, 0.0, 0.0, 0.0, 0.0, 0.0, 0.0]\n",
            "Val Predict: \n",
            "[1, 0, 1, 0, 1, 1, 0, 1, 1, 0, 1, 1, 1, 1, 1, 1, 1, 0, 1, 1, 1]\n",
            "Validation loss : 0.7208163142204285, validation accuracy : 6.0, bac score : 0.625  after epoch : 8\n",
            "Running epoch  9  of  10\n"
          ]
        },
        {
          "output_type": "stream",
          "name": "stderr",
          "text": [
            "/usr/local/lib/python3.7/dist-packages/ipykernel_launcher.py:79: UserWarning: To copy construct from a tensor, it is recommended to use sourceTensor.clone().detach() or sourceTensor.clone().detach().requires_grad_(True), rather than torch.tensor(sourceTensor).\n",
            "/usr/local/lib/python3.7/dist-packages/ipykernel_launcher.py:80: UserWarning: To copy construct from a tensor, it is recommended to use sourceTensor.clone().detach() or sourceTensor.clone().detach().requires_grad_(True), rather than torch.tensor(sourceTensor).\n"
          ]
        },
        {
          "output_type": "stream",
          "name": "stdout",
          "text": [
            "y shape torch.Size([50])\n",
            "x shape torch.Size([50, 2])\n",
            "y shape torch.Size([50])\n",
            "x shape torch.Size([50, 2])\n",
            "y shape torch.Size([50])\n",
            "x shape torch.Size([50, 2])\n",
            "y shape torch.Size([36])\n",
            "x shape torch.Size([36, 2])\n",
            "Training loss : 2.9394527077674866, training accuracy : 17.5, training BAC: 0.5971760797342193 after epoch : 9\n",
            "EPOCHHH DONE NEXT UP \n"
          ]
        },
        {
          "output_type": "stream",
          "name": "stderr",
          "text": [
            "/usr/local/lib/python3.7/dist-packages/ipykernel_launcher.py:151: UserWarning: To copy construct from a tensor, it is recommended to use sourceTensor.clone().detach() or sourceTensor.clone().detach().requires_grad_(True), rather than torch.tensor(sourceTensor).\n",
            "/usr/local/lib/python3.7/dist-packages/ipykernel_launcher.py:152: UserWarning: To copy construct from a tensor, it is recommended to use sourceTensor.clone().detach() or sourceTensor.clone().detach().requires_grad_(True), rather than torch.tensor(sourceTensor).\n"
          ]
        },
        {
          "output_type": "stream",
          "name": "stdout",
          "text": [
            "Val Actual: \n",
            "[1.0, 0.0, 0.0, 0.0, 0.0, 0.0, 0.0, 0.0, 0.0, 0.0, 0.0, 0.0, 0.0, 0.0, 0.0, 0.0, 0.0, 0.0, 0.0, 0.0, 0.0]\n",
            "Val Predict: \n",
            "[1, 0, 1, 0, 1, 1, 0, 1, 1, 0, 1, 1, 0, 1, 1, 1, 1, 0, 1, 1, 1]\n",
            "Validation loss : 0.7239553928375244, validation accuracy : 7.0, bac score : 0.65  after epoch : 9\n",
            "MODEL TRAINING IS FINISHED!\n",
            "Train Index: [  0   1   3   4   5   6   7   8   9  10  11  12  13  14  16  17  18  19\n",
            "  20  21  23  24  25  26  27  28  29  30  31  32  33  34  35  36  37  38\n",
            "  39  40  41  42  43  44  45  46  47  48  49  50  52  53  54  55  56  57\n",
            "  58  59  60  61  62  63  64  66  68  69  70  71  73  74  75  77  78  79\n",
            "  80  81  82  83  84  85  87  88  89  90  91  92  93  94  95  96  97  98\n",
            "  99 100 101 103 104 105 106 107 108 109 110 111 112 114 115 116 117 118\n",
            " 120 121 122 123 124 125 126 127 128 129 130 131 132 134 135 136 137 139\n",
            " 140 141 142 143 144 145 146 147 148 149 150 151 152 153 155 156 157 159\n",
            " 160 161 162 163 164 165 166 167 169 171 172 173 174 175 176 177 178 179\n",
            " 180 181 182 183 184 185 186 187 188 189 190 191 192 193 194 195 196 197\n",
            " 198 200 201 202 204 205 206], size: 187\n",
            "Test Index: [  2  15  22  51  65  67  72  76  86 102 113 119 133 138 154 158 168 170\n",
            " 199 203], size: 20\n",
            "Length of the dataset: 207\n",
            "IMAGE SIZE : torch.Size([50, 51, 32, 32])\n",
            "LABEL SIZE :  torch.Size([50, 1])\n",
            "NETWORK LOADED\n",
            "MODEL TRAINING STARTS\n",
            "Running epoch  0  of  10\n"
          ]
        },
        {
          "output_type": "stream",
          "name": "stderr",
          "text": [
            "/usr/local/lib/python3.7/dist-packages/ipykernel_launcher.py:79: UserWarning: To copy construct from a tensor, it is recommended to use sourceTensor.clone().detach() or sourceTensor.clone().detach().requires_grad_(True), rather than torch.tensor(sourceTensor).\n",
            "/usr/local/lib/python3.7/dist-packages/ipykernel_launcher.py:80: UserWarning: To copy construct from a tensor, it is recommended to use sourceTensor.clone().detach() or sourceTensor.clone().detach().requires_grad_(True), rather than torch.tensor(sourceTensor).\n"
          ]
        },
        {
          "output_type": "stream",
          "name": "stdout",
          "text": [
            "y shape torch.Size([50])\n",
            "x shape torch.Size([50, 2])\n",
            "y shape torch.Size([50])\n",
            "x shape torch.Size([50, 2])\n",
            "y shape torch.Size([50])\n",
            "x shape torch.Size([50, 2])\n",
            "y shape torch.Size([37])\n",
            "x shape torch.Size([37, 2])\n",
            "Training loss : 2.7909398674964905, training accuracy : 28.25, training BAC: 0.6220066061106524 after epoch : 0\n",
            "EPOCHHH DONE NEXT UP \n"
          ]
        },
        {
          "output_type": "stream",
          "name": "stderr",
          "text": [
            "/usr/local/lib/python3.7/dist-packages/ipykernel_launcher.py:151: UserWarning: To copy construct from a tensor, it is recommended to use sourceTensor.clone().detach() or sourceTensor.clone().detach().requires_grad_(True), rather than torch.tensor(sourceTensor).\n",
            "/usr/local/lib/python3.7/dist-packages/ipykernel_launcher.py:152: UserWarning: To copy construct from a tensor, it is recommended to use sourceTensor.clone().detach() or sourceTensor.clone().detach().requires_grad_(True), rather than torch.tensor(sourceTensor).\n"
          ]
        },
        {
          "output_type": "stream",
          "name": "stdout",
          "text": [
            "Val Actual: \n",
            "[1.0, 0.0, 0.0, 0.0, 0.0, 0.0, 0.0, 0.0, 0.0, 0.0, 0.0, 0.0, 0.0, 0.0, 0.0, 0.0, 0.0, 0.0, 0.0, 0.0]\n",
            "Val Predict: \n",
            "[1, 1, 1, 0, 0, 1, 1, 1, 0, 1, 0, 0, 1, 1, 1, 0, 0, 1, 0, 0]\n",
            "Validation loss : 0.7089828252792358, validation accuracy : 10.0, bac score : 0.7368421052631579  after epoch : 0\n",
            "Running epoch  1  of  10\n"
          ]
        },
        {
          "output_type": "stream",
          "name": "stderr",
          "text": [
            "/usr/local/lib/python3.7/dist-packages/ipykernel_launcher.py:79: UserWarning: To copy construct from a tensor, it is recommended to use sourceTensor.clone().detach() or sourceTensor.clone().detach().requires_grad_(True), rather than torch.tensor(sourceTensor).\n",
            "/usr/local/lib/python3.7/dist-packages/ipykernel_launcher.py:80: UserWarning: To copy construct from a tensor, it is recommended to use sourceTensor.clone().detach() or sourceTensor.clone().detach().requires_grad_(True), rather than torch.tensor(sourceTensor).\n"
          ]
        },
        {
          "output_type": "stream",
          "name": "stdout",
          "text": [
            "y shape torch.Size([50])\n",
            "x shape torch.Size([50, 2])\n",
            "y shape torch.Size([50])\n",
            "x shape torch.Size([50, 2])\n",
            "y shape torch.Size([50])\n",
            "x shape torch.Size([50, 2])\n",
            "y shape torch.Size([37])\n",
            "x shape torch.Size([37, 2])\n",
            "Training loss : 2.804577648639679, training accuracy : 26.5, training BAC: 0.60177539223782 after epoch : 1\n",
            "EPOCHHH DONE NEXT UP \n"
          ]
        },
        {
          "output_type": "stream",
          "name": "stderr",
          "text": [
            "/usr/local/lib/python3.7/dist-packages/ipykernel_launcher.py:151: UserWarning: To copy construct from a tensor, it is recommended to use sourceTensor.clone().detach() or sourceTensor.clone().detach().requires_grad_(True), rather than torch.tensor(sourceTensor).\n",
            "/usr/local/lib/python3.7/dist-packages/ipykernel_launcher.py:152: UserWarning: To copy construct from a tensor, it is recommended to use sourceTensor.clone().detach() or sourceTensor.clone().detach().requires_grad_(True), rather than torch.tensor(sourceTensor).\n"
          ]
        },
        {
          "output_type": "stream",
          "name": "stdout",
          "text": [
            "Val Actual: \n",
            "[1.0, 0.0, 0.0, 0.0, 0.0, 0.0, 0.0, 0.0, 0.0, 0.0, 0.0, 0.0, 0.0, 0.0, 0.0, 0.0, 0.0, 0.0, 0.0, 0.0]\n",
            "Val Predict: \n",
            "[1, 1, 1, 1, 0, 1, 1, 0, 0, 1, 0, 0, 1, 1, 0, 0, 0, 1, 0, 0]\n",
            "Validation loss : 0.6993786096572876, validation accuracy : 11.0, bac score : 0.763157894736842  after epoch : 1\n",
            "Running epoch  2  of  10\n"
          ]
        },
        {
          "output_type": "stream",
          "name": "stderr",
          "text": [
            "/usr/local/lib/python3.7/dist-packages/ipykernel_launcher.py:79: UserWarning: To copy construct from a tensor, it is recommended to use sourceTensor.clone().detach() or sourceTensor.clone().detach().requires_grad_(True), rather than torch.tensor(sourceTensor).\n",
            "/usr/local/lib/python3.7/dist-packages/ipykernel_launcher.py:80: UserWarning: To copy construct from a tensor, it is recommended to use sourceTensor.clone().detach() or sourceTensor.clone().detach().requires_grad_(True), rather than torch.tensor(sourceTensor).\n"
          ]
        },
        {
          "output_type": "stream",
          "name": "stdout",
          "text": [
            "y shape torch.Size([50])\n",
            "x shape torch.Size([50, 2])\n",
            "y shape torch.Size([50])\n",
            "x shape torch.Size([50, 2])\n",
            "y shape torch.Size([50])\n",
            "x shape torch.Size([50, 2])\n",
            "y shape torch.Size([37])\n",
            "x shape torch.Size([37, 2])\n",
            "Training loss : 2.798726260662079, training accuracy : 27.0, training BAC: 0.6732039636663913 after epoch : 2\n",
            "EPOCHHH DONE NEXT UP \n"
          ]
        },
        {
          "output_type": "stream",
          "name": "stderr",
          "text": [
            "/usr/local/lib/python3.7/dist-packages/ipykernel_launcher.py:151: UserWarning: To copy construct from a tensor, it is recommended to use sourceTensor.clone().detach() or sourceTensor.clone().detach().requires_grad_(True), rather than torch.tensor(sourceTensor).\n",
            "/usr/local/lib/python3.7/dist-packages/ipykernel_launcher.py:152: UserWarning: To copy construct from a tensor, it is recommended to use sourceTensor.clone().detach() or sourceTensor.clone().detach().requires_grad_(True), rather than torch.tensor(sourceTensor).\n"
          ]
        },
        {
          "output_type": "stream",
          "name": "stdout",
          "text": [
            "Val Actual: \n",
            "[1.0, 0.0, 0.0, 0.0, 0.0, 0.0, 0.0, 0.0, 0.0, 0.0, 0.0, 0.0, 0.0, 0.0, 0.0, 0.0, 0.0, 0.0, 0.0, 0.0]\n",
            "Val Predict: \n",
            "[1, 1, 1, 0, 0, 0, 1, 0, 0, 1, 0, 0, 1, 1, 0, 0, 0, 0, 0, 0]\n",
            "Validation loss : 0.696524441242218, validation accuracy : 14.0, bac score : 0.8421052631578947  after epoch : 2\n",
            "Running epoch  3  of  10\n"
          ]
        },
        {
          "output_type": "stream",
          "name": "stderr",
          "text": [
            "/usr/local/lib/python3.7/dist-packages/ipykernel_launcher.py:79: UserWarning: To copy construct from a tensor, it is recommended to use sourceTensor.clone().detach() or sourceTensor.clone().detach().requires_grad_(True), rather than torch.tensor(sourceTensor).\n",
            "/usr/local/lib/python3.7/dist-packages/ipykernel_launcher.py:80: UserWarning: To copy construct from a tensor, it is recommended to use sourceTensor.clone().detach() or sourceTensor.clone().detach().requires_grad_(True), rather than torch.tensor(sourceTensor).\n"
          ]
        },
        {
          "output_type": "stream",
          "name": "stdout",
          "text": [
            "y shape torch.Size([50])\n",
            "x shape torch.Size([50, 2])\n",
            "y shape torch.Size([50])\n",
            "x shape torch.Size([50, 2])\n",
            "y shape torch.Size([50])\n",
            "x shape torch.Size([50, 2])\n",
            "y shape torch.Size([37])\n",
            "x shape torch.Size([37, 2])\n",
            "Training loss : 2.804978668689728, training accuracy : 27.25, training BAC: 0.643270024772915 after epoch : 3\n",
            "EPOCHHH DONE NEXT UP \n"
          ]
        },
        {
          "output_type": "stream",
          "name": "stderr",
          "text": [
            "/usr/local/lib/python3.7/dist-packages/ipykernel_launcher.py:151: UserWarning: To copy construct from a tensor, it is recommended to use sourceTensor.clone().detach() or sourceTensor.clone().detach().requires_grad_(True), rather than torch.tensor(sourceTensor).\n",
            "/usr/local/lib/python3.7/dist-packages/ipykernel_launcher.py:152: UserWarning: To copy construct from a tensor, it is recommended to use sourceTensor.clone().detach() or sourceTensor.clone().detach().requires_grad_(True), rather than torch.tensor(sourceTensor).\n"
          ]
        },
        {
          "output_type": "stream",
          "name": "stdout",
          "text": [
            "Val Actual: \n",
            "[1.0, 0.0, 0.0, 0.0, 0.0, 0.0, 0.0, 0.0, 0.0, 0.0, 0.0, 0.0, 0.0, 0.0, 0.0, 0.0, 0.0, 0.0, 0.0, 0.0]\n",
            "Val Predict: \n",
            "[1, 1, 1, 0, 0, 1, 1, 0, 0, 1, 0, 0, 1, 1, 1, 0, 0, 1, 0, 0]\n",
            "Validation loss : 0.706080973148346, validation accuracy : 11.0, bac score : 0.763157894736842  after epoch : 3\n",
            "Running epoch  4  of  10\n"
          ]
        },
        {
          "output_type": "stream",
          "name": "stderr",
          "text": [
            "/usr/local/lib/python3.7/dist-packages/ipykernel_launcher.py:79: UserWarning: To copy construct from a tensor, it is recommended to use sourceTensor.clone().detach() or sourceTensor.clone().detach().requires_grad_(True), rather than torch.tensor(sourceTensor).\n",
            "/usr/local/lib/python3.7/dist-packages/ipykernel_launcher.py:80: UserWarning: To copy construct from a tensor, it is recommended to use sourceTensor.clone().detach() or sourceTensor.clone().detach().requires_grad_(True), rather than torch.tensor(sourceTensor).\n"
          ]
        },
        {
          "output_type": "stream",
          "name": "stdout",
          "text": [
            "y shape torch.Size([50])\n",
            "x shape torch.Size([50, 2])\n",
            "y shape torch.Size([50])\n",
            "x shape torch.Size([50, 2])\n",
            "y shape torch.Size([50])\n",
            "x shape torch.Size([50, 2])\n",
            "y shape torch.Size([37])\n",
            "x shape torch.Size([37, 2])\n",
            "Training loss : 2.798263728618622, training accuracy : 29.25, training BAC: 0.6335672997522709 after epoch : 4\n",
            "EPOCHHH DONE NEXT UP \n"
          ]
        },
        {
          "output_type": "stream",
          "name": "stderr",
          "text": [
            "/usr/local/lib/python3.7/dist-packages/ipykernel_launcher.py:151: UserWarning: To copy construct from a tensor, it is recommended to use sourceTensor.clone().detach() or sourceTensor.clone().detach().requires_grad_(True), rather than torch.tensor(sourceTensor).\n",
            "/usr/local/lib/python3.7/dist-packages/ipykernel_launcher.py:152: UserWarning: To copy construct from a tensor, it is recommended to use sourceTensor.clone().detach() or sourceTensor.clone().detach().requires_grad_(True), rather than torch.tensor(sourceTensor).\n"
          ]
        },
        {
          "output_type": "stream",
          "name": "stdout",
          "text": [
            "Val Actual: \n",
            "[1.0, 0.0, 0.0, 0.0, 0.0, 0.0, 0.0, 0.0, 0.0, 0.0, 0.0, 0.0, 0.0, 0.0, 0.0, 0.0, 0.0, 0.0, 0.0, 0.0]\n",
            "Val Predict: \n",
            "[1, 1, 1, 0, 0, 0, 1, 0, 0, 1, 0, 0, 1, 1, 1, 0, 0, 0, 0, 0]\n",
            "Validation loss : 0.6980344653129578, validation accuracy : 13.0, bac score : 0.8157894736842105  after epoch : 4\n",
            "Running epoch  5  of  10\n"
          ]
        },
        {
          "output_type": "stream",
          "name": "stderr",
          "text": [
            "/usr/local/lib/python3.7/dist-packages/ipykernel_launcher.py:79: UserWarning: To copy construct from a tensor, it is recommended to use sourceTensor.clone().detach() or sourceTensor.clone().detach().requires_grad_(True), rather than torch.tensor(sourceTensor).\n",
            "/usr/local/lib/python3.7/dist-packages/ipykernel_launcher.py:80: UserWarning: To copy construct from a tensor, it is recommended to use sourceTensor.clone().detach() or sourceTensor.clone().detach().requires_grad_(True), rather than torch.tensor(sourceTensor).\n"
          ]
        },
        {
          "output_type": "stream",
          "name": "stdout",
          "text": [
            "y shape torch.Size([50])\n",
            "x shape torch.Size([50, 2])\n",
            "y shape torch.Size([50])\n",
            "x shape torch.Size([50, 2])\n",
            "y shape torch.Size([50])\n",
            "x shape torch.Size([50, 2])\n",
            "y shape torch.Size([37])\n",
            "x shape torch.Size([37, 2])\n",
            "Training loss : 2.806180238723755, training accuracy : 28.25, training BAC: 0.6548307184145334 after epoch : 5\n",
            "EPOCHHH DONE NEXT UP \n"
          ]
        },
        {
          "output_type": "stream",
          "name": "stderr",
          "text": [
            "/usr/local/lib/python3.7/dist-packages/ipykernel_launcher.py:151: UserWarning: To copy construct from a tensor, it is recommended to use sourceTensor.clone().detach() or sourceTensor.clone().detach().requires_grad_(True), rather than torch.tensor(sourceTensor).\n",
            "/usr/local/lib/python3.7/dist-packages/ipykernel_launcher.py:152: UserWarning: To copy construct from a tensor, it is recommended to use sourceTensor.clone().detach() or sourceTensor.clone().detach().requires_grad_(True), rather than torch.tensor(sourceTensor).\n"
          ]
        },
        {
          "output_type": "stream",
          "name": "stdout",
          "text": [
            "Val Actual: \n",
            "[1.0, 0.0, 0.0, 0.0, 0.0, 0.0, 0.0, 0.0, 0.0, 0.0, 0.0, 0.0, 0.0, 0.0, 0.0, 0.0, 0.0, 0.0, 0.0, 0.0]\n",
            "Val Predict: \n",
            "[1, 1, 1, 0, 0, 1, 1, 0, 0, 1, 0, 0, 1, 1, 1, 0, 0, 1, 0, 0]\n",
            "Validation loss : 0.7045323252677917, validation accuracy : 11.0, bac score : 0.763157894736842  after epoch : 5\n",
            "Running epoch  6  of  10\n"
          ]
        },
        {
          "output_type": "stream",
          "name": "stderr",
          "text": [
            "/usr/local/lib/python3.7/dist-packages/ipykernel_launcher.py:79: UserWarning: To copy construct from a tensor, it is recommended to use sourceTensor.clone().detach() or sourceTensor.clone().detach().requires_grad_(True), rather than torch.tensor(sourceTensor).\n",
            "/usr/local/lib/python3.7/dist-packages/ipykernel_launcher.py:80: UserWarning: To copy construct from a tensor, it is recommended to use sourceTensor.clone().detach() or sourceTensor.clone().detach().requires_grad_(True), rather than torch.tensor(sourceTensor).\n"
          ]
        },
        {
          "output_type": "stream",
          "name": "stdout",
          "text": [
            "y shape torch.Size([50])\n",
            "x shape torch.Size([50, 2])\n",
            "y shape torch.Size([50])\n",
            "x shape torch.Size([50, 2])\n",
            "y shape torch.Size([50])\n",
            "x shape torch.Size([50, 2])\n",
            "y shape torch.Size([37])\n",
            "x shape torch.Size([37, 2])\n",
            "Training loss : 2.7925066351890564, training accuracy : 26.25, training BAC: 0.6317093311312965 after epoch : 6\n",
            "EPOCHHH DONE NEXT UP \n"
          ]
        },
        {
          "output_type": "stream",
          "name": "stderr",
          "text": [
            "/usr/local/lib/python3.7/dist-packages/ipykernel_launcher.py:151: UserWarning: To copy construct from a tensor, it is recommended to use sourceTensor.clone().detach() or sourceTensor.clone().detach().requires_grad_(True), rather than torch.tensor(sourceTensor).\n",
            "/usr/local/lib/python3.7/dist-packages/ipykernel_launcher.py:152: UserWarning: To copy construct from a tensor, it is recommended to use sourceTensor.clone().detach() or sourceTensor.clone().detach().requires_grad_(True), rather than torch.tensor(sourceTensor).\n"
          ]
        },
        {
          "output_type": "stream",
          "name": "stdout",
          "text": [
            "Val Actual: \n",
            "[1.0, 0.0, 0.0, 0.0, 0.0, 0.0, 0.0, 0.0, 0.0, 0.0, 0.0, 0.0, 0.0, 0.0, 0.0, 0.0, 0.0, 0.0, 0.0, 0.0]\n",
            "Val Predict: \n",
            "[1, 1, 1, 0, 0, 1, 1, 0, 0, 1, 0, 0, 1, 1, 1, 0, 0, 1, 0, 0]\n",
            "Validation loss : 0.7010272741317749, validation accuracy : 11.0, bac score : 0.763157894736842  after epoch : 6\n",
            "Running epoch  7  of  10\n"
          ]
        },
        {
          "output_type": "stream",
          "name": "stderr",
          "text": [
            "/usr/local/lib/python3.7/dist-packages/ipykernel_launcher.py:79: UserWarning: To copy construct from a tensor, it is recommended to use sourceTensor.clone().detach() or sourceTensor.clone().detach().requires_grad_(True), rather than torch.tensor(sourceTensor).\n",
            "/usr/local/lib/python3.7/dist-packages/ipykernel_launcher.py:80: UserWarning: To copy construct from a tensor, it is recommended to use sourceTensor.clone().detach() or sourceTensor.clone().detach().requires_grad_(True), rather than torch.tensor(sourceTensor).\n"
          ]
        },
        {
          "output_type": "stream",
          "name": "stdout",
          "text": [
            "y shape torch.Size([50])\n",
            "x shape torch.Size([50, 2])\n",
            "y shape torch.Size([50])\n",
            "x shape torch.Size([50, 2])\n",
            "y shape torch.Size([50])\n",
            "x shape torch.Size([50, 2])\n",
            "y shape torch.Size([37])\n",
            "x shape torch.Size([37, 2])\n",
            "Training loss : 2.789989948272705, training accuracy : 28.0, training BAC: 0.6191164327002477 after epoch : 7\n",
            "EPOCHHH DONE NEXT UP \n"
          ]
        },
        {
          "output_type": "stream",
          "name": "stderr",
          "text": [
            "/usr/local/lib/python3.7/dist-packages/ipykernel_launcher.py:151: UserWarning: To copy construct from a tensor, it is recommended to use sourceTensor.clone().detach() or sourceTensor.clone().detach().requires_grad_(True), rather than torch.tensor(sourceTensor).\n",
            "/usr/local/lib/python3.7/dist-packages/ipykernel_launcher.py:152: UserWarning: To copy construct from a tensor, it is recommended to use sourceTensor.clone().detach() or sourceTensor.clone().detach().requires_grad_(True), rather than torch.tensor(sourceTensor).\n"
          ]
        },
        {
          "output_type": "stream",
          "name": "stdout",
          "text": [
            "Val Actual: \n",
            "[1.0, 0.0, 0.0, 0.0, 0.0, 0.0, 0.0, 0.0, 0.0, 0.0, 0.0, 0.0, 0.0, 0.0, 0.0, 0.0, 0.0, 0.0, 0.0, 0.0]\n",
            "Val Predict: \n",
            "[1, 1, 1, 0, 0, 1, 1, 0, 0, 1, 0, 1, 1, 1, 1, 0, 0, 1, 0, 0]\n",
            "Validation loss : 0.7019916772842407, validation accuracy : 10.0, bac score : 0.7368421052631579  after epoch : 7\n",
            "Running epoch  8  of  10\n"
          ]
        },
        {
          "output_type": "stream",
          "name": "stderr",
          "text": [
            "/usr/local/lib/python3.7/dist-packages/ipykernel_launcher.py:79: UserWarning: To copy construct from a tensor, it is recommended to use sourceTensor.clone().detach() or sourceTensor.clone().detach().requires_grad_(True), rather than torch.tensor(sourceTensor).\n",
            "/usr/local/lib/python3.7/dist-packages/ipykernel_launcher.py:80: UserWarning: To copy construct from a tensor, it is recommended to use sourceTensor.clone().detach() or sourceTensor.clone().detach().requires_grad_(True), rather than torch.tensor(sourceTensor).\n"
          ]
        },
        {
          "output_type": "stream",
          "name": "stdout",
          "text": [
            "y shape torch.Size([50])\n",
            "x shape torch.Size([50, 2])\n",
            "y shape torch.Size([50])\n",
            "x shape torch.Size([50, 2])\n",
            "y shape torch.Size([50])\n",
            "x shape torch.Size([50, 2])\n",
            "y shape torch.Size([37])\n",
            "x shape torch.Size([37, 2])\n",
            "Training loss : 2.7887439131736755, training accuracy : 27.25, training BAC: 0.6760941370767961 after epoch : 8\n",
            "EPOCHHH DONE NEXT UP \n"
          ]
        },
        {
          "output_type": "stream",
          "name": "stderr",
          "text": [
            "/usr/local/lib/python3.7/dist-packages/ipykernel_launcher.py:151: UserWarning: To copy construct from a tensor, it is recommended to use sourceTensor.clone().detach() or sourceTensor.clone().detach().requires_grad_(True), rather than torch.tensor(sourceTensor).\n",
            "/usr/local/lib/python3.7/dist-packages/ipykernel_launcher.py:152: UserWarning: To copy construct from a tensor, it is recommended to use sourceTensor.clone().detach() or sourceTensor.clone().detach().requires_grad_(True), rather than torch.tensor(sourceTensor).\n"
          ]
        },
        {
          "output_type": "stream",
          "name": "stdout",
          "text": [
            "Val Actual: \n",
            "[1.0, 0.0, 0.0, 0.0, 0.0, 0.0, 0.0, 0.0, 0.0, 0.0, 0.0, 0.0, 0.0, 0.0, 0.0, 0.0, 0.0, 0.0, 0.0, 0.0]\n",
            "Val Predict: \n",
            "[1, 1, 1, 0, 0, 1, 1, 0, 0, 1, 0, 0, 1, 1, 1, 0, 0, 1, 0, 0]\n",
            "Validation loss : 0.7037657499313354, validation accuracy : 11.0, bac score : 0.763157894736842  after epoch : 8\n",
            "Running epoch  9  of  10\n"
          ]
        },
        {
          "output_type": "stream",
          "name": "stderr",
          "text": [
            "/usr/local/lib/python3.7/dist-packages/ipykernel_launcher.py:79: UserWarning: To copy construct from a tensor, it is recommended to use sourceTensor.clone().detach() or sourceTensor.clone().detach().requires_grad_(True), rather than torch.tensor(sourceTensor).\n",
            "/usr/local/lib/python3.7/dist-packages/ipykernel_launcher.py:80: UserWarning: To copy construct from a tensor, it is recommended to use sourceTensor.clone().detach() or sourceTensor.clone().detach().requires_grad_(True), rather than torch.tensor(sourceTensor).\n"
          ]
        },
        {
          "output_type": "stream",
          "name": "stdout",
          "text": [
            "y shape torch.Size([50])\n",
            "x shape torch.Size([50, 2])\n",
            "y shape torch.Size([50])\n",
            "x shape torch.Size([50, 2])\n",
            "y shape torch.Size([50])\n",
            "x shape torch.Size([50, 2])\n",
            "y shape torch.Size([37])\n",
            "x shape torch.Size([37, 2])\n",
            "Training loss : 2.792551100254059, training accuracy : 27.75, training BAC: 0.6162262592898431 after epoch : 9\n",
            "EPOCHHH DONE NEXT UP \n"
          ]
        },
        {
          "output_type": "stream",
          "name": "stderr",
          "text": [
            "/usr/local/lib/python3.7/dist-packages/ipykernel_launcher.py:151: UserWarning: To copy construct from a tensor, it is recommended to use sourceTensor.clone().detach() or sourceTensor.clone().detach().requires_grad_(True), rather than torch.tensor(sourceTensor).\n",
            "/usr/local/lib/python3.7/dist-packages/ipykernel_launcher.py:152: UserWarning: To copy construct from a tensor, it is recommended to use sourceTensor.clone().detach() or sourceTensor.clone().detach().requires_grad_(True), rather than torch.tensor(sourceTensor).\n"
          ]
        },
        {
          "output_type": "stream",
          "name": "stdout",
          "text": [
            "Val Actual: \n",
            "[1.0, 0.0, 0.0, 0.0, 0.0, 0.0, 0.0, 0.0, 0.0, 0.0, 0.0, 0.0, 0.0, 0.0, 0.0, 0.0, 0.0, 0.0, 0.0, 0.0]\n",
            "Val Predict: \n",
            "[1, 1, 1, 1, 0, 1, 1, 0, 0, 1, 0, 0, 1, 1, 0, 0, 0, 1, 0, 0]\n",
            "Validation loss : 0.7088099718093872, validation accuracy : 11.0, bac score : 0.763157894736842  after epoch : 9\n",
            "MODEL TRAINING IS FINISHED!\n",
            "Train Index: [  0   1   2   3   4   5   6   7   8   9  10  11  13  14  15  16  17  18\n",
            "  19  21  22  23  24  25  26  27  28  29  30  31  32  33  34  35  36  37\n",
            "  38  39  40  41  42  43  44  45  46  47  48  49  50  51  52  53  54  55\n",
            "  56  57  58  60  61  62  63  65  66  67  68  69  70  71  72  73  75  76\n",
            "  77  78  79  80  82  83  84  85  86  88  89  92  93  94  95  96  97  98\n",
            "  99 100 102 103 104 105 106 107 108 109 110 112 113 114 115 116 117 118\n",
            " 119 121 122 123 124 125 126 128 129 130 131 132 133 134 135 136 137 138\n",
            " 139 140 141 143 144 145 146 147 148 149 150 151 152 153 154 156 157 158\n",
            " 159 162 163 164 165 166 167 168 169 170 171 172 173 174 175 176 178 179\n",
            " 180 181 184 185 186 187 188 189 190 191 192 193 194 195 196 197 198 199\n",
            " 200 201 202 203 204 205 206], size: 187\n",
            "Test Index: [ 12  20  59  64  74  81  87  90  91 101 111 120 127 142 155 160 161 177\n",
            " 182 183], size: 20\n",
            "Length of the dataset: 207\n",
            "IMAGE SIZE : torch.Size([50, 51, 32, 32])\n",
            "LABEL SIZE :  torch.Size([50, 1])\n",
            "NETWORK LOADED\n",
            "MODEL TRAINING STARTS\n",
            "Running epoch  0  of  10\n"
          ]
        },
        {
          "output_type": "stream",
          "name": "stderr",
          "text": [
            "/usr/local/lib/python3.7/dist-packages/ipykernel_launcher.py:79: UserWarning: To copy construct from a tensor, it is recommended to use sourceTensor.clone().detach() or sourceTensor.clone().detach().requires_grad_(True), rather than torch.tensor(sourceTensor).\n",
            "/usr/local/lib/python3.7/dist-packages/ipykernel_launcher.py:80: UserWarning: To copy construct from a tensor, it is recommended to use sourceTensor.clone().detach() or sourceTensor.clone().detach().requires_grad_(True), rather than torch.tensor(sourceTensor).\n"
          ]
        },
        {
          "output_type": "stream",
          "name": "stdout",
          "text": [
            "y shape torch.Size([50])\n",
            "x shape torch.Size([50, 2])\n",
            "y shape torch.Size([50])\n",
            "x shape torch.Size([50, 2])\n",
            "y shape torch.Size([50])\n",
            "x shape torch.Size([50, 2])\n",
            "y shape torch.Size([37])\n",
            "x shape torch.Size([37, 2])\n",
            "Training loss : 2.8305278420448303, training accuracy : 19.75, training BAC: 0.5893889347646573 after epoch : 0\n",
            "EPOCHHH DONE NEXT UP \n"
          ]
        },
        {
          "output_type": "stream",
          "name": "stderr",
          "text": [
            "/usr/local/lib/python3.7/dist-packages/ipykernel_launcher.py:151: UserWarning: To copy construct from a tensor, it is recommended to use sourceTensor.clone().detach() or sourceTensor.clone().detach().requires_grad_(True), rather than torch.tensor(sourceTensor).\n",
            "/usr/local/lib/python3.7/dist-packages/ipykernel_launcher.py:152: UserWarning: To copy construct from a tensor, it is recommended to use sourceTensor.clone().detach() or sourceTensor.clone().detach().requires_grad_(True), rather than torch.tensor(sourceTensor).\n"
          ]
        },
        {
          "output_type": "stream",
          "name": "stdout",
          "text": [
            "Val Actual: \n",
            "[1.0, 0.0, 0.0, 0.0, 0.0, 0.0, 0.0, 0.0, 0.0, 0.0, 0.0, 0.0, 0.0, 0.0, 0.0, 0.0, 0.0, 0.0, 0.0, 0.0]\n",
            "Val Predict: \n",
            "[1, 1, 1, 1, 1, 1, 0, 0, 1, 0, 0, 1, 0, 0, 1, 0, 1, 1, 1, 0]\n",
            "Validation loss : 0.7075532674789429, validation accuracy : 9.0, bac score : 0.7105263157894737  after epoch : 0\n",
            "Running epoch  1  of  10\n"
          ]
        },
        {
          "output_type": "stream",
          "name": "stderr",
          "text": [
            "/usr/local/lib/python3.7/dist-packages/ipykernel_launcher.py:79: UserWarning: To copy construct from a tensor, it is recommended to use sourceTensor.clone().detach() or sourceTensor.clone().detach().requires_grad_(True), rather than torch.tensor(sourceTensor).\n",
            "/usr/local/lib/python3.7/dist-packages/ipykernel_launcher.py:80: UserWarning: To copy construct from a tensor, it is recommended to use sourceTensor.clone().detach() or sourceTensor.clone().detach().requires_grad_(True), rather than torch.tensor(sourceTensor).\n"
          ]
        },
        {
          "output_type": "stream",
          "name": "stdout",
          "text": [
            "y shape torch.Size([50])\n",
            "x shape torch.Size([50, 2])\n",
            "y shape torch.Size([50])\n",
            "x shape torch.Size([50, 2])\n",
            "y shape torch.Size([50])\n",
            "x shape torch.Size([50, 2])\n",
            "y shape torch.Size([37])\n",
            "x shape torch.Size([37, 2])\n",
            "Training loss : 2.827329695224762, training accuracy : 21.0, training BAC: 0.6366639141205614 after epoch : 1\n",
            "EPOCHHH DONE NEXT UP \n"
          ]
        },
        {
          "output_type": "stream",
          "name": "stderr",
          "text": [
            "/usr/local/lib/python3.7/dist-packages/ipykernel_launcher.py:151: UserWarning: To copy construct from a tensor, it is recommended to use sourceTensor.clone().detach() or sourceTensor.clone().detach().requires_grad_(True), rather than torch.tensor(sourceTensor).\n",
            "/usr/local/lib/python3.7/dist-packages/ipykernel_launcher.py:152: UserWarning: To copy construct from a tensor, it is recommended to use sourceTensor.clone().detach() or sourceTensor.clone().detach().requires_grad_(True), rather than torch.tensor(sourceTensor).\n"
          ]
        },
        {
          "output_type": "stream",
          "name": "stdout",
          "text": [
            "Val Actual: \n",
            "[1.0, 0.0, 0.0, 0.0, 0.0, 0.0, 0.0, 0.0, 0.0, 0.0, 0.0, 0.0, 0.0, 0.0, 0.0, 0.0, 0.0, 0.0, 0.0, 0.0]\n",
            "Val Predict: \n",
            "[1, 1, 1, 1, 0, 1, 0, 0, 1, 0, 0, 0, 0, 0, 1, 0, 1, 1, 1, 0]\n",
            "Validation loss : 0.6925237774848938, validation accuracy : 11.0, bac score : 0.763157894736842  after epoch : 1\n",
            "Running epoch  2  of  10\n"
          ]
        },
        {
          "output_type": "stream",
          "name": "stderr",
          "text": [
            "/usr/local/lib/python3.7/dist-packages/ipykernel_launcher.py:79: UserWarning: To copy construct from a tensor, it is recommended to use sourceTensor.clone().detach() or sourceTensor.clone().detach().requires_grad_(True), rather than torch.tensor(sourceTensor).\n",
            "/usr/local/lib/python3.7/dist-packages/ipykernel_launcher.py:80: UserWarning: To copy construct from a tensor, it is recommended to use sourceTensor.clone().detach() or sourceTensor.clone().detach().requires_grad_(True), rather than torch.tensor(sourceTensor).\n"
          ]
        },
        {
          "output_type": "stream",
          "name": "stdout",
          "text": [
            "y shape torch.Size([50])\n",
            "x shape torch.Size([50, 2])\n",
            "y shape torch.Size([50])\n",
            "x shape torch.Size([50, 2])\n",
            "y shape torch.Size([50])\n",
            "x shape torch.Size([50, 2])\n",
            "y shape torch.Size([37])\n",
            "x shape torch.Size([37, 2])\n",
            "Training loss : 2.834795653820038, training accuracy : 18.75, training BAC: 0.6106523534269199 after epoch : 2\n",
            "EPOCHHH DONE NEXT UP \n"
          ]
        },
        {
          "output_type": "stream",
          "name": "stderr",
          "text": [
            "/usr/local/lib/python3.7/dist-packages/ipykernel_launcher.py:151: UserWarning: To copy construct from a tensor, it is recommended to use sourceTensor.clone().detach() or sourceTensor.clone().detach().requires_grad_(True), rather than torch.tensor(sourceTensor).\n",
            "/usr/local/lib/python3.7/dist-packages/ipykernel_launcher.py:152: UserWarning: To copy construct from a tensor, it is recommended to use sourceTensor.clone().detach() or sourceTensor.clone().detach().requires_grad_(True), rather than torch.tensor(sourceTensor).\n"
          ]
        },
        {
          "output_type": "stream",
          "name": "stdout",
          "text": [
            "Val Actual: \n",
            "[1.0, 0.0, 0.0, 0.0, 0.0, 0.0, 0.0, 0.0, 0.0, 0.0, 0.0, 0.0, 0.0, 0.0, 0.0, 0.0, 0.0, 0.0, 0.0, 0.0]\n",
            "Val Predict: \n",
            "[1, 1, 1, 1, 1, 1, 1, 0, 1, 1, 0, 0, 1, 0, 1, 0, 1, 1, 1, 0]\n",
            "Validation loss : 0.7166510820388794, validation accuracy : 7.0, bac score : 0.6578947368421053  after epoch : 2\n",
            "Running epoch  3  of  10\n"
          ]
        },
        {
          "output_type": "stream",
          "name": "stderr",
          "text": [
            "/usr/local/lib/python3.7/dist-packages/ipykernel_launcher.py:79: UserWarning: To copy construct from a tensor, it is recommended to use sourceTensor.clone().detach() or sourceTensor.clone().detach().requires_grad_(True), rather than torch.tensor(sourceTensor).\n",
            "/usr/local/lib/python3.7/dist-packages/ipykernel_launcher.py:80: UserWarning: To copy construct from a tensor, it is recommended to use sourceTensor.clone().detach() or sourceTensor.clone().detach().requires_grad_(True), rather than torch.tensor(sourceTensor).\n"
          ]
        },
        {
          "output_type": "stream",
          "name": "stdout",
          "text": [
            "y shape torch.Size([50])\n",
            "x shape torch.Size([50, 2])\n",
            "y shape torch.Size([50])\n",
            "x shape torch.Size([50, 2])\n",
            "y shape torch.Size([50])\n",
            "x shape torch.Size([50, 2])\n",
            "y shape torch.Size([37])\n",
            "x shape torch.Size([37, 2])\n",
            "Training loss : 2.8237306475639343, training accuracy : 20.5, training BAC: 0.5980594549958712 after epoch : 3\n",
            "EPOCHHH DONE NEXT UP \n"
          ]
        },
        {
          "output_type": "stream",
          "name": "stderr",
          "text": [
            "/usr/local/lib/python3.7/dist-packages/ipykernel_launcher.py:151: UserWarning: To copy construct from a tensor, it is recommended to use sourceTensor.clone().detach() or sourceTensor.clone().detach().requires_grad_(True), rather than torch.tensor(sourceTensor).\n",
            "/usr/local/lib/python3.7/dist-packages/ipykernel_launcher.py:152: UserWarning: To copy construct from a tensor, it is recommended to use sourceTensor.clone().detach() or sourceTensor.clone().detach().requires_grad_(True), rather than torch.tensor(sourceTensor).\n"
          ]
        },
        {
          "output_type": "stream",
          "name": "stdout",
          "text": [
            "Val Actual: \n",
            "[1.0, 0.0, 0.0, 0.0, 0.0, 0.0, 0.0, 0.0, 0.0, 0.0, 0.0, 0.0, 0.0, 0.0, 0.0, 0.0, 0.0, 0.0, 0.0, 0.0]\n",
            "Val Predict: \n",
            "[1, 1, 1, 1, 0, 1, 0, 0, 1, 1, 0, 0, 1, 1, 1, 1, 1, 1, 0, 0]\n",
            "Validation loss : 0.7087659239768982, validation accuracy : 8.0, bac score : 0.6842105263157895  after epoch : 3\n",
            "Running epoch  4  of  10\n"
          ]
        },
        {
          "output_type": "stream",
          "name": "stderr",
          "text": [
            "/usr/local/lib/python3.7/dist-packages/ipykernel_launcher.py:79: UserWarning: To copy construct from a tensor, it is recommended to use sourceTensor.clone().detach() or sourceTensor.clone().detach().requires_grad_(True), rather than torch.tensor(sourceTensor).\n",
            "/usr/local/lib/python3.7/dist-packages/ipykernel_launcher.py:80: UserWarning: To copy construct from a tensor, it is recommended to use sourceTensor.clone().detach() or sourceTensor.clone().detach().requires_grad_(True), rather than torch.tensor(sourceTensor).\n"
          ]
        },
        {
          "output_type": "stream",
          "name": "stdout",
          "text": [
            "y shape torch.Size([50])\n",
            "x shape torch.Size([50, 2])\n",
            "y shape torch.Size([50])\n",
            "x shape torch.Size([50, 2])\n",
            "y shape torch.Size([50])\n",
            "x shape torch.Size([50, 2])\n",
            "y shape torch.Size([37])\n",
            "x shape torch.Size([37, 2])\n",
            "Training loss : 2.838912785053253, training accuracy : 21.0, training BAC: 0.6366639141205614 after epoch : 4\n",
            "EPOCHHH DONE NEXT UP \n"
          ]
        },
        {
          "output_type": "stream",
          "name": "stderr",
          "text": [
            "/usr/local/lib/python3.7/dist-packages/ipykernel_launcher.py:151: UserWarning: To copy construct from a tensor, it is recommended to use sourceTensor.clone().detach() or sourceTensor.clone().detach().requires_grad_(True), rather than torch.tensor(sourceTensor).\n",
            "/usr/local/lib/python3.7/dist-packages/ipykernel_launcher.py:152: UserWarning: To copy construct from a tensor, it is recommended to use sourceTensor.clone().detach() or sourceTensor.clone().detach().requires_grad_(True), rather than torch.tensor(sourceTensor).\n"
          ]
        },
        {
          "output_type": "stream",
          "name": "stdout",
          "text": [
            "Val Actual: \n",
            "[1.0, 0.0, 0.0, 0.0, 0.0, 0.0, 0.0, 0.0, 0.0, 0.0, 0.0, 0.0, 0.0, 0.0, 0.0, 0.0, 0.0, 0.0, 0.0, 0.0]\n",
            "Val Predict: \n",
            "[1, 1, 1, 0, 1, 1, 0, 0, 1, 0, 0, 0, 0, 1, 1, 0, 1, 1, 1, 0]\n",
            "Validation loss : 0.7038050889968872, validation accuracy : 10.0, bac score : 0.7368421052631579  after epoch : 4\n",
            "Running epoch  5  of  10\n"
          ]
        },
        {
          "output_type": "stream",
          "name": "stderr",
          "text": [
            "/usr/local/lib/python3.7/dist-packages/ipykernel_launcher.py:79: UserWarning: To copy construct from a tensor, it is recommended to use sourceTensor.clone().detach() or sourceTensor.clone().detach().requires_grad_(True), rather than torch.tensor(sourceTensor).\n",
            "/usr/local/lib/python3.7/dist-packages/ipykernel_launcher.py:80: UserWarning: To copy construct from a tensor, it is recommended to use sourceTensor.clone().detach() or sourceTensor.clone().detach().requires_grad_(True), rather than torch.tensor(sourceTensor).\n"
          ]
        },
        {
          "output_type": "stream",
          "name": "stdout",
          "text": [
            "y shape torch.Size([50])\n",
            "x shape torch.Size([50, 2])\n",
            "y shape torch.Size([50])\n",
            "x shape torch.Size([50, 2])\n",
            "y shape torch.Size([50])\n",
            "x shape torch.Size([50, 2])\n",
            "y shape torch.Size([37])\n",
            "x shape torch.Size([37, 2])\n",
            "Training loss : 2.843863010406494, training accuracy : 19.75, training BAC: 0.5893889347646573 after epoch : 5\n",
            "EPOCHHH DONE NEXT UP \n"
          ]
        },
        {
          "output_type": "stream",
          "name": "stderr",
          "text": [
            "/usr/local/lib/python3.7/dist-packages/ipykernel_launcher.py:151: UserWarning: To copy construct from a tensor, it is recommended to use sourceTensor.clone().detach() or sourceTensor.clone().detach().requires_grad_(True), rather than torch.tensor(sourceTensor).\n",
            "/usr/local/lib/python3.7/dist-packages/ipykernel_launcher.py:152: UserWarning: To copy construct from a tensor, it is recommended to use sourceTensor.clone().detach() or sourceTensor.clone().detach().requires_grad_(True), rather than torch.tensor(sourceTensor).\n"
          ]
        },
        {
          "output_type": "stream",
          "name": "stdout",
          "text": [
            "Val Actual: \n",
            "[1.0, 0.0, 0.0, 0.0, 0.0, 0.0, 0.0, 0.0, 0.0, 0.0, 0.0, 0.0, 0.0, 0.0, 0.0, 0.0, 0.0, 0.0, 0.0, 0.0]\n",
            "Val Predict: \n",
            "[1, 1, 1, 0, 0, 1, 0, 0, 1, 1, 0, 0, 1, 0, 1, 0, 1, 1, 1, 0]\n",
            "Validation loss : 0.697862982749939, validation accuracy : 10.0, bac score : 0.7368421052631579  after epoch : 5\n",
            "Running epoch  6  of  10\n"
          ]
        },
        {
          "output_type": "stream",
          "name": "stderr",
          "text": [
            "/usr/local/lib/python3.7/dist-packages/ipykernel_launcher.py:79: UserWarning: To copy construct from a tensor, it is recommended to use sourceTensor.clone().detach() or sourceTensor.clone().detach().requires_grad_(True), rather than torch.tensor(sourceTensor).\n",
            "/usr/local/lib/python3.7/dist-packages/ipykernel_launcher.py:80: UserWarning: To copy construct from a tensor, it is recommended to use sourceTensor.clone().detach() or sourceTensor.clone().detach().requires_grad_(True), rather than torch.tensor(sourceTensor).\n"
          ]
        },
        {
          "output_type": "stream",
          "name": "stdout",
          "text": [
            "y shape torch.Size([50])\n",
            "x shape torch.Size([50, 2])\n",
            "y shape torch.Size([50])\n",
            "x shape torch.Size([50, 2])\n",
            "y shape torch.Size([50])\n",
            "x shape torch.Size([50, 2])\n",
            "y shape torch.Size([37])\n",
            "x shape torch.Size([37, 2])\n",
            "Training loss : 2.822861433029175, training accuracy : 22.0, training BAC: 0.64822460776218 after epoch : 6\n",
            "EPOCHHH DONE NEXT UP \n"
          ]
        },
        {
          "output_type": "stream",
          "name": "stderr",
          "text": [
            "/usr/local/lib/python3.7/dist-packages/ipykernel_launcher.py:151: UserWarning: To copy construct from a tensor, it is recommended to use sourceTensor.clone().detach() or sourceTensor.clone().detach().requires_grad_(True), rather than torch.tensor(sourceTensor).\n",
            "/usr/local/lib/python3.7/dist-packages/ipykernel_launcher.py:152: UserWarning: To copy construct from a tensor, it is recommended to use sourceTensor.clone().detach() or sourceTensor.clone().detach().requires_grad_(True), rather than torch.tensor(sourceTensor).\n"
          ]
        },
        {
          "output_type": "stream",
          "name": "stdout",
          "text": [
            "Val Actual: \n",
            "[1.0, 0.0, 0.0, 0.0, 0.0, 0.0, 0.0, 0.0, 0.0, 0.0, 0.0, 0.0, 0.0, 0.0, 0.0, 0.0, 0.0, 0.0, 0.0, 0.0]\n",
            "Val Predict: \n",
            "[1, 1, 1, 0, 1, 1, 0, 0, 1, 0, 0, 0, 1, 0, 1, 1, 1, 1, 0, 0]\n",
            "Validation loss : 0.7071186304092407, validation accuracy : 10.0, bac score : 0.7368421052631579  after epoch : 6\n",
            "Running epoch  7  of  10\n"
          ]
        },
        {
          "output_type": "stream",
          "name": "stderr",
          "text": [
            "/usr/local/lib/python3.7/dist-packages/ipykernel_launcher.py:79: UserWarning: To copy construct from a tensor, it is recommended to use sourceTensor.clone().detach() or sourceTensor.clone().detach().requires_grad_(True), rather than torch.tensor(sourceTensor).\n",
            "/usr/local/lib/python3.7/dist-packages/ipykernel_launcher.py:80: UserWarning: To copy construct from a tensor, it is recommended to use sourceTensor.clone().detach() or sourceTensor.clone().detach().requires_grad_(True), rather than torch.tensor(sourceTensor).\n"
          ]
        },
        {
          "output_type": "stream",
          "name": "stdout",
          "text": [
            "y shape torch.Size([50])\n",
            "x shape torch.Size([50, 2])\n",
            "y shape torch.Size([50])\n",
            "x shape torch.Size([50, 2])\n",
            "y shape torch.Size([50])\n",
            "x shape torch.Size([50, 2])\n",
            "y shape torch.Size([37])\n",
            "x shape torch.Size([37, 2])\n",
            "Training loss : 2.8190841674804688, training accuracy : 21.75, training BAC: 0.6781585466556566 after epoch : 7\n",
            "EPOCHHH DONE NEXT UP \n"
          ]
        },
        {
          "output_type": "stream",
          "name": "stderr",
          "text": [
            "/usr/local/lib/python3.7/dist-packages/ipykernel_launcher.py:151: UserWarning: To copy construct from a tensor, it is recommended to use sourceTensor.clone().detach() or sourceTensor.clone().detach().requires_grad_(True), rather than torch.tensor(sourceTensor).\n",
            "/usr/local/lib/python3.7/dist-packages/ipykernel_launcher.py:152: UserWarning: To copy construct from a tensor, it is recommended to use sourceTensor.clone().detach() or sourceTensor.clone().detach().requires_grad_(True), rather than torch.tensor(sourceTensor).\n"
          ]
        },
        {
          "output_type": "stream",
          "name": "stdout",
          "text": [
            "Val Actual: \n",
            "[1.0, 0.0, 0.0, 0.0, 0.0, 0.0, 0.0, 0.0, 0.0, 0.0, 0.0, 0.0, 0.0, 0.0, 0.0, 0.0, 0.0, 0.0, 0.0, 0.0]\n",
            "Val Predict: \n",
            "[1, 1, 1, 0, 1, 1, 0, 0, 1, 0, 0, 1, 1, 1, 1, 0, 1, 1, 1, 0]\n",
            "Validation loss : 0.7026841640472412, validation accuracy : 8.0, bac score : 0.6842105263157895  after epoch : 7\n",
            "Running epoch  8  of  10\n"
          ]
        },
        {
          "output_type": "stream",
          "name": "stderr",
          "text": [
            "/usr/local/lib/python3.7/dist-packages/ipykernel_launcher.py:79: UserWarning: To copy construct from a tensor, it is recommended to use sourceTensor.clone().detach() or sourceTensor.clone().detach().requires_grad_(True), rather than torch.tensor(sourceTensor).\n",
            "/usr/local/lib/python3.7/dist-packages/ipykernel_launcher.py:80: UserWarning: To copy construct from a tensor, it is recommended to use sourceTensor.clone().detach() or sourceTensor.clone().detach().requires_grad_(True), rather than torch.tensor(sourceTensor).\n"
          ]
        },
        {
          "output_type": "stream",
          "name": "stdout",
          "text": [
            "y shape torch.Size([50])\n",
            "x shape torch.Size([50, 2])\n",
            "y shape torch.Size([50])\n",
            "x shape torch.Size([50, 2])\n",
            "y shape torch.Size([50])\n",
            "x shape torch.Size([50, 2])\n",
            "y shape torch.Size([37])\n",
            "x shape torch.Size([37, 2])\n",
            "Training loss : 2.821307957172394, training accuracy : 21.75, training BAC: 0.6125103220478942 after epoch : 8\n",
            "EPOCHHH DONE NEXT UP \n"
          ]
        },
        {
          "output_type": "stream",
          "name": "stderr",
          "text": [
            "/usr/local/lib/python3.7/dist-packages/ipykernel_launcher.py:151: UserWarning: To copy construct from a tensor, it is recommended to use sourceTensor.clone().detach() or sourceTensor.clone().detach().requires_grad_(True), rather than torch.tensor(sourceTensor).\n",
            "/usr/local/lib/python3.7/dist-packages/ipykernel_launcher.py:152: UserWarning: To copy construct from a tensor, it is recommended to use sourceTensor.clone().detach() or sourceTensor.clone().detach().requires_grad_(True), rather than torch.tensor(sourceTensor).\n"
          ]
        },
        {
          "output_type": "stream",
          "name": "stdout",
          "text": [
            "Val Actual: \n",
            "[1.0, 0.0, 0.0, 0.0, 0.0, 0.0, 0.0, 0.0, 0.0, 0.0, 0.0, 0.0, 0.0, 0.0, 0.0, 0.0, 0.0, 0.0, 0.0, 0.0]\n",
            "Val Predict: \n",
            "[1, 1, 1, 1, 1, 1, 0, 0, 1, 0, 0, 0, 1, 1, 1, 0, 1, 1, 1, 0]\n",
            "Validation loss : 0.70595782995224, validation accuracy : 8.0, bac score : 0.6842105263157895  after epoch : 8\n",
            "Running epoch  9  of  10\n"
          ]
        },
        {
          "output_type": "stream",
          "name": "stderr",
          "text": [
            "/usr/local/lib/python3.7/dist-packages/ipykernel_launcher.py:79: UserWarning: To copy construct from a tensor, it is recommended to use sourceTensor.clone().detach() or sourceTensor.clone().detach().requires_grad_(True), rather than torch.tensor(sourceTensor).\n",
            "/usr/local/lib/python3.7/dist-packages/ipykernel_launcher.py:80: UserWarning: To copy construct from a tensor, it is recommended to use sourceTensor.clone().detach() or sourceTensor.clone().detach().requires_grad_(True), rather than torch.tensor(sourceTensor).\n"
          ]
        },
        {
          "output_type": "stream",
          "name": "stdout",
          "text": [
            "y shape torch.Size([50])\n",
            "x shape torch.Size([50, 2])\n",
            "y shape torch.Size([50])\n",
            "x shape torch.Size([50, 2])\n",
            "y shape torch.Size([50])\n",
            "x shape torch.Size([50, 2])\n",
            "y shape torch.Size([37])\n",
            "x shape torch.Size([37, 2])\n",
            "Training loss : 2.824802041053772, training accuracy : 21.0, training BAC: 0.6366639141205614 after epoch : 9\n",
            "EPOCHHH DONE NEXT UP \n"
          ]
        },
        {
          "output_type": "stream",
          "name": "stderr",
          "text": [
            "/usr/local/lib/python3.7/dist-packages/ipykernel_launcher.py:151: UserWarning: To copy construct from a tensor, it is recommended to use sourceTensor.clone().detach() or sourceTensor.clone().detach().requires_grad_(True), rather than torch.tensor(sourceTensor).\n",
            "/usr/local/lib/python3.7/dist-packages/ipykernel_launcher.py:152: UserWarning: To copy construct from a tensor, it is recommended to use sourceTensor.clone().detach() or sourceTensor.clone().detach().requires_grad_(True), rather than torch.tensor(sourceTensor).\n"
          ]
        },
        {
          "output_type": "stream",
          "name": "stdout",
          "text": [
            "Val Actual: \n",
            "[1.0, 0.0, 0.0, 0.0, 0.0, 0.0, 0.0, 0.0, 0.0, 0.0, 0.0, 0.0, 0.0, 0.0, 0.0, 0.0, 0.0, 0.0, 0.0, 0.0]\n",
            "Val Predict: \n",
            "[1, 1, 1, 1, 0, 1, 0, 0, 1, 0, 0, 0, 1, 1, 1, 0, 1, 1, 1, 0]\n",
            "Validation loss : 0.7029996514320374, validation accuracy : 9.0, bac score : 0.7105263157894737  after epoch : 9\n",
            "MODEL TRAINING IS FINISHED!\n",
            "Train Index: [  0   1   2   3   4   5   6   7   9  10  11  12  13  14  15  16  17  18\n",
            "  19  20  21  22  23  25  26  29  31  32  33  34  36  37  38  39  40  41\n",
            "  42  43  44  45  46  47  48  49  50  51  52  53  54  55  56  57  58  59\n",
            "  60  61  63  64  65  66  67  68  69  70  71  72  73  74  75  76  79  80\n",
            "  81  82  83  84  86  87  88  89  90  91  92  93  94  95  96  97  99 100\n",
            " 101 102 103 104 105 107 108 109 111 112 113 114 115 116 117 118 119 120\n",
            " 122 123 124 125 126 127 128 129 130 131 132 133 134 135 136 138 139 140\n",
            " 141 142 143 144 146 147 148 150 151 152 153 154 155 156 157 158 159 160\n",
            " 161 162 163 164 165 166 167 168 169 170 171 173 174 175 176 177 178 180\n",
            " 181 182 183 184 185 186 187 188 189 190 191 192 193 194 195 196 197 198\n",
            " 199 201 202 203 204 205 206], size: 187\n",
            "Test Index: [  8  24  27  28  30  35  62  77  78  85  98 106 110 121 137 145 149 172\n",
            " 179 200], size: 20\n",
            "Length of the dataset: 207\n",
            "IMAGE SIZE : torch.Size([50, 51, 32, 32])\n",
            "LABEL SIZE :  torch.Size([50, 1])\n",
            "NETWORK LOADED\n",
            "MODEL TRAINING STARTS\n",
            "Running epoch  0  of  10\n"
          ]
        },
        {
          "output_type": "stream",
          "name": "stderr",
          "text": [
            "/usr/local/lib/python3.7/dist-packages/ipykernel_launcher.py:79: UserWarning: To copy construct from a tensor, it is recommended to use sourceTensor.clone().detach() or sourceTensor.clone().detach().requires_grad_(True), rather than torch.tensor(sourceTensor).\n",
            "/usr/local/lib/python3.7/dist-packages/ipykernel_launcher.py:80: UserWarning: To copy construct from a tensor, it is recommended to use sourceTensor.clone().detach() or sourceTensor.clone().detach().requires_grad_(True), rather than torch.tensor(sourceTensor).\n"
          ]
        },
        {
          "output_type": "stream",
          "name": "stdout",
          "text": [
            "y shape torch.Size([50])\n",
            "x shape torch.Size([50, 2])\n",
            "y shape torch.Size([50])\n",
            "x shape torch.Size([50, 2])\n",
            "y shape torch.Size([50])\n",
            "x shape torch.Size([50, 2])\n",
            "y shape torch.Size([37])\n",
            "x shape torch.Size([37, 2])\n",
            "Training loss : 2.600307822227478, training accuracy : 41.25, training BAC: 0.476878612716763 after epoch : 0\n",
            "EPOCHHH DONE NEXT UP \n"
          ]
        },
        {
          "output_type": "stream",
          "name": "stderr",
          "text": [
            "/usr/local/lib/python3.7/dist-packages/ipykernel_launcher.py:151: UserWarning: To copy construct from a tensor, it is recommended to use sourceTensor.clone().detach() or sourceTensor.clone().detach().requires_grad_(True), rather than torch.tensor(sourceTensor).\n",
            "/usr/local/lib/python3.7/dist-packages/ipykernel_launcher.py:152: UserWarning: To copy construct from a tensor, it is recommended to use sourceTensor.clone().detach() or sourceTensor.clone().detach().requires_grad_(True), rather than torch.tensor(sourceTensor).\n"
          ]
        },
        {
          "output_type": "stream",
          "name": "stdout",
          "text": [
            "Val Actual: \n",
            "[1.0, 0.0, 0.0, 0.0, 0.0, 0.0, 0.0, 0.0, 0.0, 0.0, 0.0, 0.0, 0.0, 0.0, 0.0, 0.0, 0.0, 0.0, 0.0, 0.0]\n",
            "Val Predict: \n",
            "[0, 0, 0, 0, 0, 0, 0, 0, 0, 0, 0, 0, 0, 0, 0, 0, 0, 0, 0, 0]\n",
            "Validation loss : 0.6457173228263855, validation accuracy : 19.0, bac score : 0.5  after epoch : 0\n",
            "Running epoch  1  of  10\n"
          ]
        },
        {
          "output_type": "stream",
          "name": "stderr",
          "text": [
            "/usr/local/lib/python3.7/dist-packages/ipykernel_launcher.py:79: UserWarning: To copy construct from a tensor, it is recommended to use sourceTensor.clone().detach() or sourceTensor.clone().detach().requires_grad_(True), rather than torch.tensor(sourceTensor).\n",
            "/usr/local/lib/python3.7/dist-packages/ipykernel_launcher.py:80: UserWarning: To copy construct from a tensor, it is recommended to use sourceTensor.clone().detach() or sourceTensor.clone().detach().requires_grad_(True), rather than torch.tensor(sourceTensor).\n"
          ]
        },
        {
          "output_type": "stream",
          "name": "stdout",
          "text": [
            "y shape torch.Size([50])\n",
            "x shape torch.Size([50, 2])\n",
            "y shape torch.Size([50])\n",
            "x shape torch.Size([50, 2])\n",
            "y shape torch.Size([50])\n",
            "x shape torch.Size([50, 2])\n",
            "y shape torch.Size([37])\n",
            "x shape torch.Size([37, 2])\n",
            "Training loss : 2.6079338788986206, training accuracy : 41.0, training BAC: 0.47398843930635837 after epoch : 1\n",
            "EPOCHHH DONE NEXT UP \n"
          ]
        },
        {
          "output_type": "stream",
          "name": "stderr",
          "text": [
            "/usr/local/lib/python3.7/dist-packages/ipykernel_launcher.py:151: UserWarning: To copy construct from a tensor, it is recommended to use sourceTensor.clone().detach() or sourceTensor.clone().detach().requires_grad_(True), rather than torch.tensor(sourceTensor).\n",
            "/usr/local/lib/python3.7/dist-packages/ipykernel_launcher.py:152: UserWarning: To copy construct from a tensor, it is recommended to use sourceTensor.clone().detach() or sourceTensor.clone().detach().requires_grad_(True), rather than torch.tensor(sourceTensor).\n"
          ]
        },
        {
          "output_type": "stream",
          "name": "stdout",
          "text": [
            "Val Actual: \n",
            "[1.0, 0.0, 0.0, 0.0, 0.0, 0.0, 0.0, 0.0, 0.0, 0.0, 0.0, 0.0, 0.0, 0.0, 0.0, 0.0, 0.0, 0.0, 0.0, 0.0]\n",
            "Val Predict: \n",
            "[0, 0, 0, 0, 0, 0, 0, 0, 0, 0, 0, 0, 0, 0, 0, 0, 0, 0, 0, 0]\n",
            "Validation loss : 0.6381980180740356, validation accuracy : 19.0, bac score : 0.5  after epoch : 1\n",
            "Running epoch  2  of  10\n"
          ]
        },
        {
          "output_type": "stream",
          "name": "stderr",
          "text": [
            "/usr/local/lib/python3.7/dist-packages/ipykernel_launcher.py:79: UserWarning: To copy construct from a tensor, it is recommended to use sourceTensor.clone().detach() or sourceTensor.clone().detach().requires_grad_(True), rather than torch.tensor(sourceTensor).\n",
            "/usr/local/lib/python3.7/dist-packages/ipykernel_launcher.py:80: UserWarning: To copy construct from a tensor, it is recommended to use sourceTensor.clone().detach() or sourceTensor.clone().detach().requires_grad_(True), rather than torch.tensor(sourceTensor).\n"
          ]
        },
        {
          "output_type": "stream",
          "name": "stdout",
          "text": [
            "y shape torch.Size([50])\n",
            "x shape torch.Size([50, 2])\n",
            "y shape torch.Size([50])\n",
            "x shape torch.Size([50, 2])\n",
            "y shape torch.Size([50])\n",
            "x shape torch.Size([50, 2])\n",
            "y shape torch.Size([37])\n",
            "x shape torch.Size([37, 2])\n",
            "Training loss : 2.611018657684326, training accuracy : 41.25, training BAC: 0.476878612716763 after epoch : 2\n",
            "EPOCHHH DONE NEXT UP \n"
          ]
        },
        {
          "output_type": "stream",
          "name": "stderr",
          "text": [
            "/usr/local/lib/python3.7/dist-packages/ipykernel_launcher.py:151: UserWarning: To copy construct from a tensor, it is recommended to use sourceTensor.clone().detach() or sourceTensor.clone().detach().requires_grad_(True), rather than torch.tensor(sourceTensor).\n",
            "/usr/local/lib/python3.7/dist-packages/ipykernel_launcher.py:152: UserWarning: To copy construct from a tensor, it is recommended to use sourceTensor.clone().detach() or sourceTensor.clone().detach().requires_grad_(True), rather than torch.tensor(sourceTensor).\n"
          ]
        },
        {
          "output_type": "stream",
          "name": "stdout",
          "text": [
            "Val Actual: \n",
            "[1.0, 0.0, 0.0, 0.0, 0.0, 0.0, 0.0, 0.0, 0.0, 0.0, 0.0, 0.0, 0.0, 0.0, 0.0, 0.0, 0.0, 0.0, 0.0, 0.0]\n",
            "Val Predict: \n",
            "[0, 0, 0, 0, 0, 0, 0, 0, 1, 0, 0, 0, 0, 0, 0, 0, 0, 0, 0, 0]\n",
            "Validation loss : 0.6466850638389587, validation accuracy : 18.0, bac score : 0.47368421052631576  after epoch : 2\n",
            "Running epoch  3  of  10\n"
          ]
        },
        {
          "output_type": "stream",
          "name": "stderr",
          "text": [
            "/usr/local/lib/python3.7/dist-packages/ipykernel_launcher.py:79: UserWarning: To copy construct from a tensor, it is recommended to use sourceTensor.clone().detach() or sourceTensor.clone().detach().requires_grad_(True), rather than torch.tensor(sourceTensor).\n",
            "/usr/local/lib/python3.7/dist-packages/ipykernel_launcher.py:80: UserWarning: To copy construct from a tensor, it is recommended to use sourceTensor.clone().detach() or sourceTensor.clone().detach().requires_grad_(True), rather than torch.tensor(sourceTensor).\n"
          ]
        },
        {
          "output_type": "stream",
          "name": "stdout",
          "text": [
            "y shape torch.Size([50])\n",
            "x shape torch.Size([50, 2])\n",
            "y shape torch.Size([50])\n",
            "x shape torch.Size([50, 2])\n",
            "y shape torch.Size([50])\n",
            "x shape torch.Size([50, 2])\n",
            "y shape torch.Size([37])\n",
            "x shape torch.Size([37, 2])\n",
            "Training loss : 2.5986480116844177, training accuracy : 41.0, training BAC: 0.5068125516102395 after epoch : 3\n",
            "EPOCHHH DONE NEXT UP \n"
          ]
        },
        {
          "output_type": "stream",
          "name": "stderr",
          "text": [
            "/usr/local/lib/python3.7/dist-packages/ipykernel_launcher.py:151: UserWarning: To copy construct from a tensor, it is recommended to use sourceTensor.clone().detach() or sourceTensor.clone().detach().requires_grad_(True), rather than torch.tensor(sourceTensor).\n",
            "/usr/local/lib/python3.7/dist-packages/ipykernel_launcher.py:152: UserWarning: To copy construct from a tensor, it is recommended to use sourceTensor.clone().detach() or sourceTensor.clone().detach().requires_grad_(True), rather than torch.tensor(sourceTensor).\n"
          ]
        },
        {
          "output_type": "stream",
          "name": "stdout",
          "text": [
            "Val Actual: \n",
            "[1.0, 0.0, 0.0, 0.0, 0.0, 0.0, 0.0, 0.0, 0.0, 0.0, 0.0, 0.0, 0.0, 0.0, 0.0, 0.0, 0.0, 0.0, 0.0, 0.0]\n",
            "Val Predict: \n",
            "[0, 0, 0, 0, 0, 0, 0, 0, 0, 0, 0, 0, 0, 0, 0, 0, 0, 0, 0, 0]\n",
            "Validation loss : 0.6410624384880066, validation accuracy : 19.0, bac score : 0.5  after epoch : 3\n",
            "Running epoch  4  of  10\n"
          ]
        },
        {
          "output_type": "stream",
          "name": "stderr",
          "text": [
            "/usr/local/lib/python3.7/dist-packages/ipykernel_launcher.py:79: UserWarning: To copy construct from a tensor, it is recommended to use sourceTensor.clone().detach() or sourceTensor.clone().detach().requires_grad_(True), rather than torch.tensor(sourceTensor).\n",
            "/usr/local/lib/python3.7/dist-packages/ipykernel_launcher.py:80: UserWarning: To copy construct from a tensor, it is recommended to use sourceTensor.clone().detach() or sourceTensor.clone().detach().requires_grad_(True), rather than torch.tensor(sourceTensor).\n"
          ]
        },
        {
          "output_type": "stream",
          "name": "stdout",
          "text": [
            "y shape torch.Size([50])\n",
            "x shape torch.Size([50, 2])\n",
            "y shape torch.Size([50])\n",
            "x shape torch.Size([50, 2])\n",
            "y shape torch.Size([50])\n",
            "x shape torch.Size([50, 2])\n",
            "y shape torch.Size([37])\n",
            "x shape torch.Size([37, 2])\n",
            "Training loss : 2.5973721146583557, training accuracy : 41.75, training BAC: 0.48265895953757226 after epoch : 4\n",
            "EPOCHHH DONE NEXT UP \n"
          ]
        },
        {
          "output_type": "stream",
          "name": "stderr",
          "text": [
            "/usr/local/lib/python3.7/dist-packages/ipykernel_launcher.py:151: UserWarning: To copy construct from a tensor, it is recommended to use sourceTensor.clone().detach() or sourceTensor.clone().detach().requires_grad_(True), rather than torch.tensor(sourceTensor).\n",
            "/usr/local/lib/python3.7/dist-packages/ipykernel_launcher.py:152: UserWarning: To copy construct from a tensor, it is recommended to use sourceTensor.clone().detach() or sourceTensor.clone().detach().requires_grad_(True), rather than torch.tensor(sourceTensor).\n"
          ]
        },
        {
          "output_type": "stream",
          "name": "stdout",
          "text": [
            "Val Actual: \n",
            "[1.0, 0.0, 0.0, 0.0, 0.0, 0.0, 0.0, 0.0, 0.0, 0.0, 0.0, 0.0, 0.0, 0.0, 0.0, 0.0, 0.0, 0.0, 0.0, 0.0]\n",
            "Val Predict: \n",
            "[0, 0, 0, 0, 0, 0, 0, 1, 0, 0, 0, 0, 0, 0, 0, 0, 0, 0, 0, 0]\n",
            "Validation loss : 0.6505700945854187, validation accuracy : 18.0, bac score : 0.47368421052631576  after epoch : 4\n",
            "Running epoch  5  of  10\n"
          ]
        },
        {
          "output_type": "stream",
          "name": "stderr",
          "text": [
            "/usr/local/lib/python3.7/dist-packages/ipykernel_launcher.py:79: UserWarning: To copy construct from a tensor, it is recommended to use sourceTensor.clone().detach() or sourceTensor.clone().detach().requires_grad_(True), rather than torch.tensor(sourceTensor).\n",
            "/usr/local/lib/python3.7/dist-packages/ipykernel_launcher.py:80: UserWarning: To copy construct from a tensor, it is recommended to use sourceTensor.clone().detach() or sourceTensor.clone().detach().requires_grad_(True), rather than torch.tensor(sourceTensor).\n"
          ]
        },
        {
          "output_type": "stream",
          "name": "stdout",
          "text": [
            "y shape torch.Size([50])\n",
            "x shape torch.Size([50, 2])\n",
            "y shape torch.Size([50])\n",
            "x shape torch.Size([50, 2])\n",
            "y shape torch.Size([50])\n",
            "x shape torch.Size([50, 2])\n",
            "y shape torch.Size([37])\n",
            "x shape torch.Size([37, 2])\n",
            "Training loss : 2.6085540652275085, training accuracy : 41.25, training BAC: 0.476878612716763 after epoch : 5\n",
            "EPOCHHH DONE NEXT UP \n"
          ]
        },
        {
          "output_type": "stream",
          "name": "stderr",
          "text": [
            "/usr/local/lib/python3.7/dist-packages/ipykernel_launcher.py:151: UserWarning: To copy construct from a tensor, it is recommended to use sourceTensor.clone().detach() or sourceTensor.clone().detach().requires_grad_(True), rather than torch.tensor(sourceTensor).\n",
            "/usr/local/lib/python3.7/dist-packages/ipykernel_launcher.py:152: UserWarning: To copy construct from a tensor, it is recommended to use sourceTensor.clone().detach() or sourceTensor.clone().detach().requires_grad_(True), rather than torch.tensor(sourceTensor).\n"
          ]
        },
        {
          "output_type": "stream",
          "name": "stdout",
          "text": [
            "Val Actual: \n",
            "[1.0, 0.0, 0.0, 0.0, 0.0, 0.0, 0.0, 0.0, 0.0, 0.0, 0.0, 0.0, 0.0, 0.0, 0.0, 0.0, 0.0, 0.0, 0.0, 0.0]\n",
            "Val Predict: \n",
            "[0, 0, 0, 0, 0, 0, 0, 0, 1, 0, 0, 0, 0, 0, 0, 0, 0, 0, 0, 0]\n",
            "Validation loss : 0.6447238922119141, validation accuracy : 18.0, bac score : 0.47368421052631576  after epoch : 5\n",
            "Running epoch  6  of  10\n"
          ]
        },
        {
          "output_type": "stream",
          "name": "stderr",
          "text": [
            "/usr/local/lib/python3.7/dist-packages/ipykernel_launcher.py:79: UserWarning: To copy construct from a tensor, it is recommended to use sourceTensor.clone().detach() or sourceTensor.clone().detach().requires_grad_(True), rather than torch.tensor(sourceTensor).\n",
            "/usr/local/lib/python3.7/dist-packages/ipykernel_launcher.py:80: UserWarning: To copy construct from a tensor, it is recommended to use sourceTensor.clone().detach() or sourceTensor.clone().detach().requires_grad_(True), rather than torch.tensor(sourceTensor).\n"
          ]
        },
        {
          "output_type": "stream",
          "name": "stdout",
          "text": [
            "y shape torch.Size([50])\n",
            "x shape torch.Size([50, 2])\n",
            "y shape torch.Size([50])\n",
            "x shape torch.Size([50, 2])\n",
            "y shape torch.Size([50])\n",
            "x shape torch.Size([50, 2])\n",
            "y shape torch.Size([37])\n",
            "x shape torch.Size([37, 2])\n",
            "Training loss : 2.597516357898712, training accuracy : 42.0, training BAC: 0.48554913294797686 after epoch : 6\n",
            "EPOCHHH DONE NEXT UP \n"
          ]
        },
        {
          "output_type": "stream",
          "name": "stderr",
          "text": [
            "/usr/local/lib/python3.7/dist-packages/ipykernel_launcher.py:151: UserWarning: To copy construct from a tensor, it is recommended to use sourceTensor.clone().detach() or sourceTensor.clone().detach().requires_grad_(True), rather than torch.tensor(sourceTensor).\n",
            "/usr/local/lib/python3.7/dist-packages/ipykernel_launcher.py:152: UserWarning: To copy construct from a tensor, it is recommended to use sourceTensor.clone().detach() or sourceTensor.clone().detach().requires_grad_(True), rather than torch.tensor(sourceTensor).\n"
          ]
        },
        {
          "output_type": "stream",
          "name": "stdout",
          "text": [
            "Val Actual: \n",
            "[1.0, 0.0, 0.0, 0.0, 0.0, 0.0, 0.0, 0.0, 0.0, 0.0, 0.0, 0.0, 0.0, 0.0, 0.0, 0.0, 0.0, 0.0, 0.0, 0.0]\n",
            "Val Predict: \n",
            "[0, 0, 0, 0, 0, 0, 0, 1, 1, 0, 0, 0, 0, 0, 0, 0, 0, 0, 0, 0]\n",
            "Validation loss : 0.6481114029884338, validation accuracy : 17.0, bac score : 0.4473684210526316  after epoch : 6\n",
            "Running epoch  7  of  10\n"
          ]
        },
        {
          "output_type": "stream",
          "name": "stderr",
          "text": [
            "/usr/local/lib/python3.7/dist-packages/ipykernel_launcher.py:79: UserWarning: To copy construct from a tensor, it is recommended to use sourceTensor.clone().detach() or sourceTensor.clone().detach().requires_grad_(True), rather than torch.tensor(sourceTensor).\n",
            "/usr/local/lib/python3.7/dist-packages/ipykernel_launcher.py:80: UserWarning: To copy construct from a tensor, it is recommended to use sourceTensor.clone().detach() or sourceTensor.clone().detach().requires_grad_(True), rather than torch.tensor(sourceTensor).\n"
          ]
        },
        {
          "output_type": "stream",
          "name": "stdout",
          "text": [
            "y shape torch.Size([50])\n",
            "x shape torch.Size([50, 2])\n",
            "y shape torch.Size([50])\n",
            "x shape torch.Size([50, 2])\n",
            "y shape torch.Size([50])\n",
            "x shape torch.Size([50, 2])\n",
            "y shape torch.Size([37])\n",
            "x shape torch.Size([37, 2])\n",
            "Training loss : 2.593848168849945, training accuracy : 41.75, training BAC: 0.48265895953757226 after epoch : 7\n",
            "EPOCHHH DONE NEXT UP \n"
          ]
        },
        {
          "output_type": "stream",
          "name": "stderr",
          "text": [
            "/usr/local/lib/python3.7/dist-packages/ipykernel_launcher.py:151: UserWarning: To copy construct from a tensor, it is recommended to use sourceTensor.clone().detach() or sourceTensor.clone().detach().requires_grad_(True), rather than torch.tensor(sourceTensor).\n",
            "/usr/local/lib/python3.7/dist-packages/ipykernel_launcher.py:152: UserWarning: To copy construct from a tensor, it is recommended to use sourceTensor.clone().detach() or sourceTensor.clone().detach().requires_grad_(True), rather than torch.tensor(sourceTensor).\n"
          ]
        },
        {
          "output_type": "stream",
          "name": "stdout",
          "text": [
            "Val Actual: \n",
            "[1.0, 0.0, 0.0, 0.0, 0.0, 0.0, 0.0, 0.0, 0.0, 0.0, 0.0, 0.0, 0.0, 0.0, 0.0, 0.0, 0.0, 0.0, 0.0, 0.0]\n",
            "Val Predict: \n",
            "[0, 0, 0, 0, 0, 0, 0, 0, 0, 0, 0, 0, 0, 0, 0, 0, 0, 0, 0, 0]\n",
            "Validation loss : 0.6483237147331238, validation accuracy : 19.0, bac score : 0.5  after epoch : 7\n",
            "Running epoch  8  of  10\n"
          ]
        },
        {
          "output_type": "stream",
          "name": "stderr",
          "text": [
            "/usr/local/lib/python3.7/dist-packages/ipykernel_launcher.py:79: UserWarning: To copy construct from a tensor, it is recommended to use sourceTensor.clone().detach() or sourceTensor.clone().detach().requires_grad_(True), rather than torch.tensor(sourceTensor).\n",
            "/usr/local/lib/python3.7/dist-packages/ipykernel_launcher.py:80: UserWarning: To copy construct from a tensor, it is recommended to use sourceTensor.clone().detach() or sourceTensor.clone().detach().requires_grad_(True), rather than torch.tensor(sourceTensor).\n"
          ]
        },
        {
          "output_type": "stream",
          "name": "stdout",
          "text": [
            "y shape torch.Size([50])\n",
            "x shape torch.Size([50, 2])\n",
            "y shape torch.Size([50])\n",
            "x shape torch.Size([50, 2])\n",
            "y shape torch.Size([50])\n",
            "x shape torch.Size([50, 2])\n",
            "y shape torch.Size([37])\n",
            "x shape torch.Size([37, 2])\n",
            "Training loss : 2.6027510166168213, training accuracy : 42.0, training BAC: 0.48554913294797686 after epoch : 8\n",
            "EPOCHHH DONE NEXT UP \n"
          ]
        },
        {
          "output_type": "stream",
          "name": "stderr",
          "text": [
            "/usr/local/lib/python3.7/dist-packages/ipykernel_launcher.py:151: UserWarning: To copy construct from a tensor, it is recommended to use sourceTensor.clone().detach() or sourceTensor.clone().detach().requires_grad_(True), rather than torch.tensor(sourceTensor).\n",
            "/usr/local/lib/python3.7/dist-packages/ipykernel_launcher.py:152: UserWarning: To copy construct from a tensor, it is recommended to use sourceTensor.clone().detach() or sourceTensor.clone().detach().requires_grad_(True), rather than torch.tensor(sourceTensor).\n"
          ]
        },
        {
          "output_type": "stream",
          "name": "stdout",
          "text": [
            "Val Actual: \n",
            "[1.0, 0.0, 0.0, 0.0, 0.0, 0.0, 0.0, 0.0, 0.0, 0.0, 0.0, 0.0, 0.0, 0.0, 0.0, 0.0, 0.0, 0.0, 0.0, 0.0]\n",
            "Val Predict: \n",
            "[0, 0, 0, 0, 0, 0, 0, 0, 0, 0, 0, 0, 0, 0, 0, 0, 0, 0, 0, 0]\n",
            "Validation loss : 0.6472365856170654, validation accuracy : 19.0, bac score : 0.5  after epoch : 8\n",
            "Running epoch  9  of  10\n"
          ]
        },
        {
          "output_type": "stream",
          "name": "stderr",
          "text": [
            "/usr/local/lib/python3.7/dist-packages/ipykernel_launcher.py:79: UserWarning: To copy construct from a tensor, it is recommended to use sourceTensor.clone().detach() or sourceTensor.clone().detach().requires_grad_(True), rather than torch.tensor(sourceTensor).\n",
            "/usr/local/lib/python3.7/dist-packages/ipykernel_launcher.py:80: UserWarning: To copy construct from a tensor, it is recommended to use sourceTensor.clone().detach() or sourceTensor.clone().detach().requires_grad_(True), rather than torch.tensor(sourceTensor).\n"
          ]
        },
        {
          "output_type": "stream",
          "name": "stdout",
          "text": [
            "y shape torch.Size([50])\n",
            "x shape torch.Size([50, 2])\n",
            "y shape torch.Size([50])\n",
            "x shape torch.Size([50, 2])\n",
            "y shape torch.Size([50])\n",
            "x shape torch.Size([50, 2])\n",
            "y shape torch.Size([37])\n",
            "x shape torch.Size([37, 2])\n",
            "Training loss : 2.6028882265090942, training accuracy : 40.5, training BAC: 0.5338563170933113 after epoch : 9\n",
            "EPOCHHH DONE NEXT UP \n",
            "Val Actual: \n",
            "[1.0, 0.0, 0.0, 0.0, 0.0, 0.0, 0.0, 0.0, 0.0, 0.0, 0.0, 0.0, 0.0, 0.0, 0.0, 0.0, 0.0, 0.0, 0.0, 0.0]\n",
            "Val Predict: \n",
            "[0, 0, 0, 0, 0, 0, 0, 0, 0, 0, 0, 0, 0, 0, 0, 0, 0, 0, 0, 0]\n",
            "Validation loss : 0.6448434591293335, validation accuracy : 19.0, bac score : 0.5  after epoch : 9\n",
            "MODEL TRAINING IS FINISHED!\n",
            "Average BAC 10-fold Cross Validation: 0.5730263157894737\n"
          ]
        },
        {
          "output_type": "stream",
          "name": "stderr",
          "text": [
            "/usr/local/lib/python3.7/dist-packages/ipykernel_launcher.py:151: UserWarning: To copy construct from a tensor, it is recommended to use sourceTensor.clone().detach() or sourceTensor.clone().detach().requires_grad_(True), rather than torch.tensor(sourceTensor).\n",
            "/usr/local/lib/python3.7/dist-packages/ipykernel_launcher.py:152: UserWarning: To copy construct from a tensor, it is recommended to use sourceTensor.clone().detach() or sourceTensor.clone().detach().requires_grad_(True), rather than torch.tensor(sourceTensor).\n"
          ]
        }
      ]
    },
    {
      "cell_type": "markdown",
      "metadata": {
        "id": "h_iVb7y-UoFN"
      },
      "source": [
        ""
      ]
    },
    {
      "cell_type": "code",
      "source": [
        "torch.set_printoptions(linewidth = 120) \n",
        "torch.set_grad_enabled(True) \n",
        "\n",
        "from itertools import product #computes cartesian product given multiple list inputs  \n",
        "from torch.utils.data import DataLoader\n",
        "from torch.utils.tensorboard import SummaryWriter #allows to send data to tensorboard files \n",
        "from IPython.display import display, clear_output\n",
        "\n",
        "import pandas as pd\n",
        "import time\n",
        "import json\n",
        "\n",
        "from collections import OrderedDict\n",
        "from collections import namedtuple\n",
        "from itertools import product\n",
        "\n",
        "class RunManager():\n",
        "\n",
        "    def __init__(self):\n",
        "\n",
        "        self.epoch_count = 0\n",
        "        self.epoch_loss = 0\n",
        "        self.epoch_num_correct = 0\n",
        "        self.epoch_start_time = None\n",
        "\n",
        "        self.run_params = None \n",
        "        self.run_count = 0\n",
        "        self.run_data = []  #track param,results for each epoch for each run\n",
        "        self.run_start_time = None  #run durations\n",
        "\n",
        "        self.network = None #save network\n",
        "        self.loader = None #save data loader for run\n",
        "        self.tb = None #summarywriter for tensorboard\n",
        "\n",
        "\n",
        "    def begin_run(self, run, network, loader):\n",
        "\n",
        "        self.run_start_time = time.time()\n",
        "\n",
        "        self.run_params = run\n",
        "        self.run_count += 1\n",
        "\n",
        "        self.network = network\n",
        "        self.loader = loader\n",
        "        self.tb = SummaryWriter(comment=f'-{run}')\n",
        "\n",
        "        images, labels = next(iter(self.loader))\n",
        "        grid = torchvision.utils.make_grid(images)\n",
        "\n",
        "        self.tb.add_image('images', grid)\n",
        "        self.tb.add_graph(self.network, images)    \n",
        "\n",
        "    def end_run(self):\n",
        "        self.tb.close()\n",
        "        self.epoch_count = 0\n",
        "\n",
        "    def begin_epoch(self):\n",
        "        self.epoch_start_time = time.time()\n",
        "\n",
        "        self.epoch_count += 1\n",
        "        self.epoch_loss = 0\n",
        "        self.epoch_num_correct = 0\n",
        "\n",
        "    def end_epoch(self):\n",
        "        epoch_duration = time.time() - self.epoch_start_time\n",
        "        run_duration = time.time() - self.run_start_time\n",
        "\n",
        "        loss = self.epoch_loss / len(self.loader.dataset)\n",
        "        accuracy = self.epoch_num_correct / len(self.loader.dataset)\n",
        "\n",
        "        self.tb.add_scalar('Loss', loss, self.epoch_count)\n",
        "        self.tb.add_scalar('Accuracy', accuracy, self.epoch_count)\n",
        "\n",
        "        for name, param in self.network.named_parameters():\n",
        "            self.tb.add_histogram(name, param, self.epoch_count)\n",
        "            self.tb.add_histogram(f'{name}.grad', param.grad, self.epoch_count)\n",
        "\n",
        "        results = OrderedDict()\n",
        "        results['run'] = self.run_count\n",
        "        results['epoch'] = self.epoch_count\n",
        "        results['loss'] = loss\n",
        "        results['accuracy'] = accuracy\n",
        "        results['epoch duration'] = epoch_duration\n",
        "        results['run duration'] = run_duration\n",
        "        for k,v in self.run_params._asdict().items(): results[k] = v\n",
        "        self.run_data.append(results)\n",
        "        df = pd.DataFrame.from_dict(self.run_data, orient='columns')\n",
        "        \n",
        "        clear_output(wait=True) #specific to jy notebooks clear curr o/p and display new data frame\n",
        "        display(df)\n",
        "    \n",
        "    def track_loss(self, loss):\n",
        "        self.epoch_loss += loss.item() * batch[0].shape[0]\n",
        "\n",
        "    def track_num_correct(self, preds, labels):\n",
        "        self.epoch_num_correct += self._get_num_correct(preds, labels)\n",
        "    \n",
        "    def _get_num_correct(self, preds, labels):\n",
        "        return preds.argmax(dim=1).eq(labels).sum().item()\n",
        "\n",
        "    @torch.no_grad()\n",
        "\n",
        "    def _get_num_correct(self, preds, labels):\n",
        "        return preds.argmax(dim=1).eq(labels).sum().item()\n",
        "    \n",
        "    def save(self, fileName):\n",
        "\n",
        "        pd.DataFrame.from_dict(self.run_data, orient='columns').to_csv(f'{fileName}.csv')\n",
        "        with open(f'{fileName}.json', 'w', encoding='utf-8') as f:json.dump(self.run_data, f, ensure_ascii=False, indent=4)\n",
        "#Extract a class - refactoring techniques \n",
        "\n",
        "class Epoch():\n",
        "    def __init__(self):\n",
        "        self.count = 0\n",
        "        self.loss = 0\n",
        "        self.num_correct = 0\n",
        "        self.start_time = None \n",
        "\n",
        "\n",
        "params = OrderedDict(\n",
        "    lr = [0.001,.01],\n",
        "    batch_size = [100,1000, 10000], \n",
        "    num_workers = [0,1,2,4,8,16]  \n",
        ")\n",
        "\n",
        "for run in RunBuilder.get_runs(params):\n",
        "    \n",
        "    network = model()\n",
        "    train_loader = torch.utils.data.DataLoader(train_set, batch_size = run.batch_size, num_workers = run.num_workers) #num_workers is added \n",
        "    optimizer = optim.Adam(network.parameters(), lr=run.lr)\n",
        "\n",
        "    m.begin_run(run, network, train_loader)\n",
        "\n",
        "    for epoch in range(1):\n",
        "        m.begin_epoch()\n",
        "        for batch in train_loader:\n",
        "\n",
        "                images, labels = batch \n",
        "                preds = network(images) \n",
        "                loss = F.cross_entropy(preds, labels) \n",
        "                optimizer.zero_grad()               \n",
        "                loss.backward()          \n",
        "                optimizer.step()\n",
        "                \n",
        "                m.track_loss(loss)\n",
        "                m.track_num_correct(preds, labels)\n",
        "\n",
        "        m.end_epoch()\n",
        "    m.end_run()\n",
        "\n",
        "m.save('results')\n"
      ],
      "metadata": {
        "id": "e8J3D0HCX303"
      },
      "execution_count": null,
      "outputs": []
    }
  ]
}